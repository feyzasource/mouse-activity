{
 "cells": [
  {
   "cell_type": "code",
   "execution_count": 12,
   "id": "25de6907-9ebe-431f-b321-e28f48408e06",
   "metadata": {},
   "outputs": [],
   "source": [
    "import pandas as pd\n",
    "import glob\n",
    "import os\n",
    "\n",
    "FEATURE_COLUMNS = [\n",
    "    'x_direction_changes', 'y_direction_changes', 'min_x', 'min_y', 'max_x', 'max_y',\n",
    "    'bbox_area', 'avg_speed', 'avg_acceleration', 'mouse_idle_ratio',\n",
    "    'movement_entropy', 'linearity'\n",
    "]\n",
    "\n",
    "def load_data_from_folder(folder_path, label):\n",
    "    pattern = os.path.join(folder_path, \"**\", \"*processed.csv\")\n",
    "    all_files = glob.glob(pattern, recursive=True)\n",
    "    df_list = []\n",
    "    for file in all_files:\n",
    "        df = pd.read_csv(file, usecols=FEATURE_COLUMNS)\n",
    "        df['label'] = label\n",
    "        df_list.append(df)\n",
    "    return pd.concat(df_list, ignore_index=True)\n",
    "\n",
    "\n",
    "# Klasör yolları\n",
    "REAL_DIR = r\"C:\\\\store\\\\git\\\\km-stat-activity\\\\data\\\\real\"\n",
    "FAKE_DIR = r\"C:\\\\store\\\\git\\\\km-stat-activity\\\\processed\\\\fake\"\n",
    "\n",
    "df_real = load_data_from_folder(REAL_DIR, label=0)\n",
    "df_fake = load_data_from_folder(FAKE_DIR, label=1)\n",
    "df_all = pd.concat([df_real, df_fake], ignore_index=True).sample(frac=1, random_state=42)\n",
    "\n",
    "X = df_all[FEATURE_COLUMNS]\n",
    "y = df_all['label']\n"
   ]
  },
  {
   "cell_type": "code",
   "execution_count": 13,
   "id": "97dc7f30-c775-4ea9-89e7-0ae64f4f6436",
   "metadata": {},
   "outputs": [
    {
     "name": "stderr",
     "output_type": "stream",
     "text": [
      "C:\\Users\\feyza\\anaconda3\\Lib\\site-packages\\sklearn\\linear_model\\_logistic.py:469: ConvergenceWarning: lbfgs failed to converge (status=1):\n",
      "STOP: TOTAL NO. of ITERATIONS REACHED LIMIT.\n",
      "\n",
      "Increase the number of iterations (max_iter) or scale the data as shown in:\n",
      "    https://scikit-learn.org/stable/modules/preprocessing.html\n",
      "Please also refer to the documentation for alternative solver options:\n",
      "    https://scikit-learn.org/stable/modules/linear_model.html#logistic-regression\n",
      "  n_iter_i = _check_optimize_result(\n"
     ]
    },
    {
     "name": "stdout",
     "output_type": "stream",
     "text": [
      "Logistic Regression Confusion Matrix:\n",
      " [[236958     45]\n",
      " [    13 180887]]\n",
      "Accuracy   : 0.9999\n",
      "Precision  : 0.9998\n",
      "Recall     : 0.9999\n",
      "Specificity: 0.9998\n"
     ]
    }
   ],
   "source": [
    "from sklearn.model_selection import train_test_split\n",
    "from sklearn.linear_model import LogisticRegression\n",
    "from sklearn.metrics import confusion_matrix, accuracy_score, precision_score, recall_score\n",
    "\n",
    "# 1. Eğitim ve test verisine ayır\n",
    "X_train, X_test, y_train, y_test = train_test_split(\n",
    "    X, y, test_size=0.20, random_state=42, stratify=y\n",
    ")\n",
    "\n",
    "# 2. Modeli oluştur\n",
    "lr = LogisticRegression(max_iter=1000)\n",
    "\n",
    "# 3. Modeli eğit\n",
    "lr.fit(X_train, y_train)\n",
    "\n",
    "# 4. Test verisi ile tahmin yap\n",
    "y_pred_lr = lr.predict(X_test)\n",
    "\n",
    "# 5. Confusion matrix ve metrikler\n",
    "cm_lr = confusion_matrix(y_test, y_pred_lr)\n",
    "accuracy_lr = accuracy_score(y_test, y_pred_lr)\n",
    "precision_lr = precision_score(y_test, y_pred_lr)\n",
    "recall_lr = recall_score(y_test, y_pred_lr)\n",
    "specificity_lr = cm_lr[0, 0] / (cm_lr[0, 0] + cm_lr[0, 1]) if (cm_lr[0, 0] + cm_lr[0, 1]) != 0 else 0\n",
    "\n",
    "# 6. Sonuçları yazdır\n",
    "print(\"Logistic Regression Confusion Matrix:\\n\", cm_lr)\n",
    "print(f\"Accuracy   : {accuracy_lr:.4f}\")\n",
    "print(f\"Precision  : {precision_lr:.4f}\")\n",
    "print(f\"Recall     : {recall_lr:.4f}\")\n",
    "print(f\"Specificity: {specificity_lr:.4f}\")\n"
   ]
  },
  {
   "cell_type": "code",
   "execution_count": null,
   "id": "f00728bc-61af-4fac-bba0-82024bc833c7",
   "metadata": {},
   "outputs": [],
   "source": []
  }
 ],
 "metadata": {
  "kernelspec": {
   "display_name": "ai-demo",
   "language": "python",
   "name": "ai-demo"
  },
  "language_info": {
   "codemirror_mode": {
    "name": "ipython",
    "version": 3
   },
   "file_extension": ".py",
   "mimetype": "text/x-python",
   "name": "python",
   "nbconvert_exporter": "python",
   "pygments_lexer": "ipython3",
   "version": "3.12.7"
  }
 },
 "nbformat": 4,
 "nbformat_minor": 5
}
