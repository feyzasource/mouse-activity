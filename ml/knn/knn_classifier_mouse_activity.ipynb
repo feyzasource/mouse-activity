{
 "cells": [
  {
   "cell_type": "markdown",
   "metadata": {},
   "source": [
    "# k-NN Classification: Real vs Fake Mouse Activity\n",
    "This notebook loads processed feature data for real and fake mouse activity, trains a k-Nearest Neighbors classifier, and evaluates its performance."
   ]
  },
  {
   "cell_type": "code",
   "execution_count": 35,
   "metadata": {},
   "outputs": [],
   "source": [
    "import pandas as pd\n",
    "import glob\n",
    "import os\n",
    "from sklearn.model_selection import train_test_split\n",
    "from sklearn.neighbors import KNeighborsClassifier\n",
    "from sklearn.metrics import confusion_matrix, accuracy_score, precision_score, recall_score"
   ]
  },
  {
   "cell_type": "code",
   "execution_count": 37,
   "metadata": {},
   "outputs": [],
   "source": [
    "# Klasör yolları\n",
    "REAL_DIR = r\"C:\\\\store\\\\git\\\\km-stat-activity\\\\data\\\\real\"\n",
    "FAKE_DIR = r\"C:\\\\store\\\\git\\\\km-stat-activity\\\\processed\\\\fake\""
   ]
  },
  {
   "cell_type": "code",
   "execution_count": 39,
   "metadata": {},
   "outputs": [],
   "source": [
    "# Öznitelik isimleri\n",
    "FEATURE_COLUMNS = [\n",
    "    'x_direction_changes', 'y_direction_changes',\n",
    "    'min_x', 'min_y', 'max_x', 'max_y', 'bbox_area',\n",
    "    'avg_speed', 'avg_acceleration',\n",
    "    'mouse_idle_ratio', 'movement_entropy', 'linearity'\n",
    "]"
   ]
  },
  {
   "cell_type": "code",
   "execution_count": 41,
   "metadata": {},
   "outputs": [],
   "source": [
    "def load_data_from_folder(folder_path, label):\n",
    "    pattern = os.path.join(folder_path, \"**\", \"*processed.csv\")\n",
    "    all_files = glob.glob(pattern, recursive=True)\n",
    "    \n",
    "    if not all_files:\n",
    "        print(f\"[UYARI] Hiç dosya bulunamadı: {pattern}\")\n",
    "        return pd.DataFrame(columns=FEATURE_COLUMNS + ['label'])\n",
    "\n",
    "    df_list = []\n",
    "    for file in all_files:\n",
    "        try:\n",
    "            df = pd.read_csv(file, usecols=FEATURE_COLUMNS)\n",
    "            df['label'] = label\n",
    "            df_list.append(df)\n",
    "        except Exception as e:\n",
    "            print(f\"[HATA] Dosya okunamadı: {file} → {e}\")\n",
    "    \n",
    "    return pd.concat(df_list, ignore_index=True)\n"
   ]
  },
  {
   "cell_type": "code",
   "execution_count": 43,
   "metadata": {},
   "outputs": [],
   "source": [
    "# Verileri oku ve birleştir\n",
    "df_real = load_data_from_folder(REAL_DIR, label=0)\n",
    "df_fake = load_data_from_folder(FAKE_DIR, label=1)\n",
    "\n",
    "df_all = pd.concat([df_real, df_fake], ignore_index=True).sample(frac=1, random_state=42).reset_index(drop=True)\n",
    "\n",
    "X = df_all[FEATURE_COLUMNS]\n",
    "y = df_all['label']"
   ]
  },
  {
   "cell_type": "code",
   "execution_count": 45,
   "metadata": {},
   "outputs": [],
   "source": [
    "# Eğitim ve test verilerini ayır\n",
    "X_train, X_test, y_train, y_test = train_test_split(X, y, test_size=0.20, random_state=42, stratify=y)"
   ]
  },
  {
   "cell_type": "code",
   "execution_count": 47,
   "metadata": {},
   "outputs": [],
   "source": [
    "# k-NN eğitimi\n",
    "knn = KNeighborsClassifier(n_neighbors=5)\n",
    "knn.fit(X_train, y_train)\n",
    "y_pred = knn.predict(X_test)"
   ]
  },
  {
   "cell_type": "code",
   "execution_count": null,
   "metadata": {},
   "outputs": [],
   "source": [
    "# Değerlendirme metrikleri\n",
    "cm = confusion_matrix(y_test, y_pred)\n",
    "accuracy = accuracy_score(y_test, y_pred)\n",
    "precision = precision_score(y_test, y_pred)\n",
    "recall = recall_score(y_test, y_pred)\n",
    "specificity = cm[0, 0] / (cm[0, 0] + cm[0, 1]) if (cm[0, 0] + cm[0, 1]) != 0 else 0\n",
    "\n",
    "print(\"Confusion Matrix:\\n\", cm)\n",
    "print(f\"Accuracy   : {accuracy:.4f}\")\n",
    "print(f\"Precision  : {precision:.4f}\")\n",
    "print(f\"Recall     : {recall:.4f}\")\n",
    "print(f\"Specificity: {specificity:.4f}\")"
   ]
  },
  {
   "cell_type": "code",
   "execution_count": 49,
   "metadata": {},
   "outputs": [
    {
     "name": "stdout",
     "output_type": "stream",
     "text": [
      "Confusion Matrix:\n",
      " [[236650    353]\n",
      " [    94 180806]]\n",
      "Accuracy   : 0.9989\n",
      "Precision  : 0.9981\n",
      "Recall     : 0.9995\n",
      "Specificity: 0.9985\n"
     ]
    }
   ],
   "source": [
    "from sklearn.metrics import confusion_matrix, accuracy_score, precision_score, recall_score\n",
    "\n",
    "# Değerlendirme metrikleri\n",
    "cm = confusion_matrix(y_test, y_pred)\n",
    "accuracy = accuracy_score(y_test, y_pred)\n",
    "precision = precision_score(y_test, y_pred)\n",
    "recall = recall_score(y_test, y_pred)\n",
    "specificity = cm[0, 0] / (cm[0, 0] + cm[0, 1]) if (cm[0, 0] + cm[0, 1]) != 0 else 0\n",
    "\n",
    "# Yazdır\n",
    "print(\"Confusion Matrix:\\n\", cm)\n",
    "print(f\"Accuracy   : {accuracy:.4f}\")\n",
    "print(f\"Precision  : {precision:.4f}\")\n",
    "print(f\"Recall     : {recall:.4f}\")\n",
    "print(f\"Specificity: {specificity:.4f}\")\n"
   ]
  },
  {
   "cell_type": "code",
   "execution_count": null,
   "metadata": {},
   "outputs": [],
   "source": []
  }
 ],
 "metadata": {
  "kernelspec": {
   "display_name": "ai-demo",
   "language": "python",
   "name": "ai-demo"
  },
  "language_info": {
   "codemirror_mode": {
    "name": "ipython",
    "version": 3
   },
   "file_extension": ".py",
   "mimetype": "text/x-python",
   "name": "python",
   "nbconvert_exporter": "python",
   "pygments_lexer": "ipython3",
   "version": "3.12.7"
  }
 },
 "nbformat": 4,
 "nbformat_minor": 4
}
