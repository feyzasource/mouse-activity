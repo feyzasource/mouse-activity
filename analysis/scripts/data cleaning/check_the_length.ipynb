{
 "cells": [
  {
   "cell_type": "code",
   "execution_count": 18,
   "id": "d6f4d345-e18f-48cf-a6d2-dec7eaff026f",
   "metadata": {},
   "outputs": [
    {
     "name": "stdout",
     "output_type": "stream",
     "text": [
      "                                                   x  len_x  \\\n",
      "0  [791, 795, 787, 790, 801, 810, 805, 762, 714, ...    296   \n",
      "1  [721, 718, 718, 709, 717, 750, 766, 768, 704, ...    302   \n",
      "2  [2831, 2429, 2183, 2174, 2131, 2132, 2713, 279...    298   \n",
      "3  [3410, 3410, 3410, 3410, 3410, 3410, 3410, 341...    298   \n",
      "4  [3787, 3787, 3787, 3787, 3787, 3787, 3787, 378...    298   \n",
      "\n",
      "                                                   y  len_y  \n",
      "0  [373, 385, 414, 414, 418, 431, 424, 617, 726, ...    296  \n",
      "1  [830, 837, 837, 836, 669, 644, 628, 625, 702, ...    302  \n",
      "2  [478, 200, 59, 18, 6, 20, 90, 48, 6, 33, 205, ...    298  \n",
      "3  [905, 905, 905, 905, 905, 905, 905, 905, 905, ...    298  \n",
      "4  [975, 975, 975, 975, 975, 975, 975, 975, 975, ...    298  \n",
      "✔️ Saved CSV with len_x/len_y to: C:\\store\\git\\km-stat-activity\\data\\real\\20250424\\km_stat_acer_20250424_le120s_fixed_brackets_with_xy_lengths.csv\n"
     ]
    }
   ],
   "source": [
    "import pandas as pd\n",
    "import ast\n",
    "from pathlib import Path\n",
    "\n",
    "# 1) Path to your fixed‐brackets CSV\n",
    "input_path = Path(r\"C:\\store\\git\\km-stat-activity\\data\\real\\20250424\\km_stat_acer_20250424_le120s_fixed_brackets.csv\")\n",
    "\n",
    "# 2) Read CSV, parsing x and y strings into real Python lists\n",
    "df = pd.read_csv(\n",
    "    input_path,\n",
    "    converters={\n",
    "        \"x\": lambda s: ast.literal_eval(s) if isinstance(s, str) and s.strip() else [],\n",
    "        \"y\": lambda s: ast.literal_eval(s) if isinstance(s, str) and s.strip() else []\n",
    "    }\n",
    ")\n",
    "\n",
    "# 3) Compute lengths of each list\n",
    "df[\"len_x\"] = df[\"x\"].apply(len)\n",
    "df[\"len_y\"] = df[\"y\"].apply(len)\n",
    "\n",
    "# 4) Inspect the first few rows to verify\n",
    "print(df[[\"x\",\"len_x\",\"y\",\"len_y\"]].head())\n",
    "\n",
    "# 5) (Optional) Save the DataFrame with the new length columns\n",
    "output_path = input_path.with_name(input_path.stem + \"_with_xy_lengths\" + input_path.suffix)\n",
    "df.to_csv(output_path, index=False, encoding=\"utf-8-sig\")\n",
    "print(f\"✔️ Saved CSV with len_x/len_y to: {output_path}\")\n"
   ]
  },
  {
   "cell_type": "code",
   "execution_count": null,
   "id": "43c93dec-7c2d-4e46-bcb1-bb93ca9d0d58",
   "metadata": {},
   "outputs": [],
   "source": []
  }
 ],
 "metadata": {
  "kernelspec": {
   "display_name": "ai-demo",
   "language": "python",
   "name": "ai-demo"
  },
  "language_info": {
   "codemirror_mode": {
    "name": "ipython",
    "version": 3
   },
   "file_extension": ".py",
   "mimetype": "text/x-python",
   "name": "python",
   "nbconvert_exporter": "python",
   "pygments_lexer": "ipython3",
   "version": "3.12.7"
  }
 },
 "nbformat": 4,
 "nbformat_minor": 5
}
