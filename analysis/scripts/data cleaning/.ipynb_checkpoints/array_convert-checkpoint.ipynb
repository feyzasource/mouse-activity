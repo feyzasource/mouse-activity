{
 "cells": [
  {
   "cell_type": "code",
   "execution_count": 7,
   "id": "9b5465a1-b8ee-4ef8-9dff-c4545c43a606",
   "metadata": {},
   "outputs": [
    {
     "name": "stdout",
     "output_type": "stream",
     "text": [
      "                                                   x  \\\n",
      "0  [0,0,0,0,0,0,0,0,0,0,0,0,0,0,0,0,0,0,0,0,0,0,0...   \n",
      "1  [183,182,184,184,184,284,291,306,299,302,302,3...   \n",
      "2  [1292,1292,1358,1363,1363,1363,1363,1363,1363,...   \n",
      "3  [1331,1351,1351,1364,1375,1378,1378,1378,1378,...   \n",
      "4  [419,410,409,412,411,410,410,410,410,406,398,3...   \n",
      "\n",
      "                                                   y  \n",
      "0  [411,411,411,411,411,411,411,411,411,411,411,4...  \n",
      "1  [693,692,682,682,682,539,428,397,446,431,431,4...  \n",
      "2  [718,718,757,778,780,780,780,780,780,780,780,7...  \n",
      "3  [823,826,826,841,842,843,843,843,843,843,843,8...  \n",
      "4  [391,446,468,486,530,530,530,530,530,600,641,6...  \n",
      "✔️ Saved fixed-brackets CSV to: C:\\store\\git\\km-stat-activity\\data\\real\\km_stat_nature_20250424_le120s_fixed_brackets.csv\n"
     ]
    }
   ],
   "source": [
    "import pandas as pd\n",
    "from pathlib import Path\n",
    "\n",
    "# 1) Read your CSV (x and y still as raw strings)\n",
    "input_path = Path(r\"C:\\store\\git\\km-stat-activity\\data\\real\\km_stat_nature_20250425_le120s.csv\")\n",
    "df = pd.read_csv(input_path, dtype=str)\n",
    "\n",
    "# 2) Define a simple converter that turns {…} into […]:\n",
    "def curly_to_square(s: str) -> str:\n",
    "    if not isinstance(s, str):\n",
    "        return s\n",
    "    return s.replace(\"{\", \"[\").replace(\"}\", \"]\")\n",
    "\n",
    "# 3) Apply it to x and y columns\n",
    "df[\"x\"] = df[\"x\"].apply(curly_to_square)\n",
    "df[\"y\"] = df[\"y\"].apply(curly_to_square)\n",
    "\n",
    "# 4) (Optional) Inspect\n",
    "print(df[[\"x\",\"y\"]].head())\n",
    "\n",
    "# 5) Save the modified DataFrame to a new CSV\n",
    "output_path = input_path.with_name(input_path.stem + \"_fixed_brackets\" + input_path.suffix)\n",
    "df.to_csv(output_path, index=False, encoding=\"utf-8-sig\")\n",
    "print(f\"✔️ Saved fixed-brackets CSV to: {output_path}\")\n",
    "\n"
   ]
  },
  {
   "cell_type": "code",
   "execution_count": null,
   "id": "2afd1a37-9ad8-4baa-955e-1db51c6a725f",
   "metadata": {},
   "outputs": [],
   "source": []
  }
 ],
 "metadata": {
  "kernelspec": {
   "display_name": "ai-demo",
   "language": "python",
   "name": "ai-demo"
  },
  "language_info": {
   "codemirror_mode": {
    "name": "ipython",
    "version": 3
   },
   "file_extension": ".py",
   "mimetype": "text/x-python",
   "name": "python",
   "nbconvert_exporter": "python",
   "pygments_lexer": "ipython3",
   "version": "3.12.7"
  }
 },
 "nbformat": 4,
 "nbformat_minor": 5
}
