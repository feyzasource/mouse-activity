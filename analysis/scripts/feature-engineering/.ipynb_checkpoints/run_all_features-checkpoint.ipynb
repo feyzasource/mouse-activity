{
 "cells": [
  {
   "cell_type": "markdown",
   "id": "fc817151",
   "metadata": {},
   "source": [
    "# Master Feature Engineering Pipeline\n",
    "\n",
    "Bu notebook, hiç bir alt notebook içeriğini değiştirmeden sırasıyla feature engineering adımlarını çalıştırır ve ana CSV dosyasına eklemeler yaparak kaydeder.\n",
    "\n",
    "**Çalışma dizini**: Tüm alt `.ipynb` dosyalarının (`calculate_direction.ipynb`, `bounding_box.ipynb`, vb.) bulunduğu klasörde olmalıdır."
   ]
  },
  {
   "cell_type": "code",
   "execution_count": null,
   "id": "1dcce367-8753-4fa5-8e2f-11ac7bbe6f33",
   "metadata": {},
   "outputs": [],
   "source": [
    "#!/usr/bin/env python3\n",
    "# run_all_features.py\n",
    "\n",
    "import papermill as pm\n",
    "from pathlib import Path\n",
    "\n",
    "# ─── Ayarlar ───────────────────────────────────────────────────────────\n",
    "NOTEBOOKS = [\n",
    "    \"calculate_direction.ipynb\",\n",
    "    \"bounding_box.ipynb\",\n",
    "    \"compute_avg_speed_math.ipynb\",\n",
    "    \"compute_avg_acceleration.ipynb\",\n",
    "    \"compute_idle_entropy_fixed2.ipynb\",\n",
    "    \"compute_linearity_manual.ipynb\",\n",
    "]\n",
    "\n",
    "# Fake: tarih listesi\n",
    "FAKE_DATES = [\"2025-04-21\",\"2025-04-22\",\"2025-04-23\",\"2025-04-24\",\"2025-04-25\"]\n",
    "\n",
    "# Real: CSV’lerin bulunduğu klasör\n",
    "REAL_DIR = Path(\"data/real\")\n",
    "\n",
    "# Çıktı klasörleri\n",
    "(ProcessFakeDir, ProcessRealAcerDir, ProcessRealNatureDir) = (\n",
    "    Path(\"processed/fake\"),\n",
    "    Path(\"processed/real/acer\"),\n",
    "    Path(\"processed/real/nature\"),\n",
    ")\n",
    "for d in (ProcessFakeDir, ProcessRealAcerDir, ProcessRealNatureDir):\n",
    "    d.mkdir(parents=True, exist_ok=True)\n",
    "\n",
    "# ─── Fake Data İçin Çalıştır ────────────────────────────────────────────\n",
    "def run_fake():\n",
    "    for date in FAKE_DATES:\n",
    "        input_pattern = f\"parquet_dataset/date={date}/*.parquet\"\n",
    "        output_csv    = ProcessFakeDir / f\"{date}-processed.csv\"\n",
    "        for nb in NOTEBOOKS:\n",
    "            out_nb = Path(\"runs\")/f\"fake_{date}_{nb}\"\n",
    "            pm.execute_notebook(\n",
    "                input_path = nb,\n",
    "                output_path= str(out_nb),\n",
    "                parameters = {\n",
    "                    \"mode\": \"fake\",\n",
    "                    \"input_path\": input_pattern,\n",
    "                    \"output_path\": str(output_csv)\n",
    "                }\n",
    "            )\n",
    "        print(f\"✅ Fake {date} tamamlandı → {output_csv}\")\n",
    "\n",
    "# ─── Real Data İçin Çalıştır ────────────────────────────────────────────\n",
    "def run_real():\n",
    "    # Örn: km_stat_acer_20250421.csv, km_stat_nature_20250421.csv, vs.\n",
    "    for csv_path in sorted(REAL_DIR.glob(\"km_stat_*.csv\")):\n",
    "        stem = csv_path.stem  # km_stat_acer_20250421\n",
    "        parts = stem.split(\"_\")  # [\"km\",\"stat\",\"acer\",\"20250421\"]\n",
    "        prefix = parts[2]        # \"acer\" veya \"nature\"\n",
    "        date   = parts[3]        # \"20250421\"\n",
    "        output_csv = (\n",
    "            ProcessRealAcerDir if prefix==\"acer\" else ProcessRealNatureDir\n",
    "        ) / f\"{date}-processed.csv\"\n",
    "\n",
    "        for nb in NOTEBOOKS:\n",
    "            out_nb = Path(\"runs\")/f\"real_{prefix}_{date}_{nb}\"\n",
    "            pm.execute_notebook(\n",
    "                input_path = nb,\n",
    "                output_path= str(out_nb),\n",
    "                parameters = {\n",
    "                    \"mode\": \"real\",\n",
    "                    \"input_path\": str(csv_path),\n",
    "                    \"output_path\": str(output_csv)\n",
    "                }\n",
    "            )\n",
    "        print(f\"✅ Real {prefix} {date} tamamlandı → {output_csv}\")\n",
    "\n",
    "# ─── Main ───────────────────────────────────────────────────────────────\n",
    "if __name__==\"__main__\":\n",
    "    run_fake()\n",
    "    run_real()\n"
   ]
  },
  {
   "cell_type": "code",
   "execution_count": null,
   "id": "c8b6f320",
   "metadata": {},
   "outputs": [],
   "source": [
    "# 1) Directional Changes\n",
    "%run calculate_direction.ipynb"
   ]
  },
  {
   "cell_type": "code",
   "execution_count": null,
   "id": "28418048",
   "metadata": {},
   "outputs": [],
   "source": [
    "# 2) Bounding Box\n",
    "%run bounding_box.ipynb"
   ]
  },
  {
   "cell_type": "code",
   "execution_count": null,
   "id": "7d979112",
   "metadata": {},
   "outputs": [],
   "source": [
    "# 3) Average Speed\n",
    "%run compute_avg_speed_math.ipynb"
   ]
  },
  {
   "cell_type": "code",
   "execution_count": null,
   "id": "c98c5fab",
   "metadata": {},
   "outputs": [],
   "source": [
    "# 4) Average Acceleration\n",
    "%run compute_avg_acceleration.ipynb"
   ]
  },
  {
   "cell_type": "code",
   "execution_count": null,
   "id": "daafe3f6",
   "metadata": {},
   "outputs": [],
   "source": [
    "# 5) Mouse Idle Ratio & Entropy\n",
    "%run compute_idle_entropy_fixed2.ipynb"
   ]
  },
  {
   "cell_type": "code",
   "execution_count": null,
   "id": "a6b35b9a",
   "metadata": {},
   "outputs": [],
   "source": [
    "# 6) Linearity\n",
    "%run compute_linearity_manual.ipynb"
   ]
  },
  {
   "cell_type": "code",
   "execution_count": null,
   "id": "de07085e",
   "metadata": {},
   "outputs": [],
   "source": [
    "# Tamamlandı! \n",
    "print(\"Tüm feature engineering adımları tamamlandı. Ana CSV dosyalarına eklenen sütunları kontrol edin.\")"
   ]
  }
 ],
 "metadata": {
  "kernelspec": {
   "display_name": "ai-demo",
   "language": "python",
   "name": "ai-demo"
  },
  "language_info": {
   "codemirror_mode": {
    "name": "ipython",
    "version": 3
   },
   "file_extension": ".py",
   "mimetype": "text/x-python",
   "name": "python",
   "nbconvert_exporter": "python",
   "pygments_lexer": "ipython3",
   "version": "3.12.7"
  }
 },
 "nbformat": 4,
 "nbformat_minor": 5
}
