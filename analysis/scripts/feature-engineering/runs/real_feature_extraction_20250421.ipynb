{
 "cells": [
  {
   "cell_type": "code",
   "execution_count": 1,
   "id": "b38bfa08",
   "metadata": {
    "execution": {
     "iopub.execute_input": "2025-07-02T23:28:24.511759Z",
     "iopub.status.busy": "2025-07-02T23:28:24.510662Z",
     "iopub.status.idle": "2025-07-02T23:28:24.515744Z",
     "shell.execute_reply": "2025-07-02T23:28:24.515744Z"
    },
    "papermill": {
     "duration": 0.010099,
     "end_time": "2025-07-02T23:28:24.517493",
     "exception": false,
     "start_time": "2025-07-02T23:28:24.507394",
     "status": "completed"
    },
    "tags": [
     "injected-parameters"
    ]
   },
   "outputs": [],
   "source": [
    "# Parameters\n",
    "input_path = \"C:\\\\store\\\\git\\\\km-stat-activity\\\\data\\\\real\\\\km_stat_nature_20250421.csv\"\n",
    "output_path = \"C:\\\\store\\\\git\\\\km-stat-activity\\\\data\\\\real\\\\km_stat_nature_20250421_features.csv\"\n"
   ]
  },
  {
   "cell_type": "code",
   "execution_count": 2,
   "id": "bd20cb97-712c-4732-8054-5567ec4b1e46",
   "metadata": {
    "execution": {
     "iopub.execute_input": "2025-07-02T23:28:24.520796Z",
     "iopub.status.busy": "2025-07-02T23:28:24.519751Z",
     "iopub.status.idle": "2025-07-02T23:28:24.550488Z",
     "shell.execute_reply": "2025-07-02T23:28:24.550488Z"
    },
    "papermill": {
     "duration": 0.033071,
     "end_time": "2025-07-02T23:28:24.552136",
     "exception": false,
     "start_time": "2025-07-02T23:28:24.519065",
     "status": "completed"
    },
    "tags": []
   },
   "outputs": [],
   "source": [
    "# Parameters\n",
    "try:\n",
    "    input_path\n",
    "except NameError:\n",
    "    input_path = None\n",
    "\n",
    "try:\n",
    "    output_path\n",
    "except NameError:\n",
    "    output_path = None\n"
   ]
  },
  {
   "cell_type": "code",
   "execution_count": 3,
   "id": "94a85955-1589-45bd-9187-3e6437128ffb",
   "metadata": {
    "execution": {
     "iopub.execute_input": "2025-07-02T23:28:24.555494Z",
     "iopub.status.busy": "2025-07-02T23:28:24.555494Z",
     "iopub.status.idle": "2025-07-02T23:28:24.928049Z",
     "shell.execute_reply": "2025-07-02T23:28:24.928049Z"
    },
    "papermill": {
     "duration": 0.375869,
     "end_time": "2025-07-02T23:28:24.929293",
     "exception": false,
     "start_time": "2025-07-02T23:28:24.553424",
     "status": "completed"
    },
    "tags": []
   },
   "outputs": [],
   "source": [
    "import os\n",
    "import pandas as pd\n",
    "import numpy as np\n",
    "import math\n",
    "import ast\n",
    "from pathlib import Path\n",
    "\n",
    "def safe_parse(val):\n",
    "    try:\n",
    "        result = ast.literal_eval(val)\n",
    "        return list(result) if not isinstance(result, list) else result\n",
    "    except:\n",
    "        return []\n",
    "\n",
    "\n",
    "def compute_direction_changes(coord):\n",
    "    if not coord or len(coord) < 3:\n",
    "        return 0\n",
    "    return sum(\n",
    "        np.sign(coord[i+1] - coord[i]) != np.sign(coord[i] - coord[i-1])\n",
    "        for i in range(1, len(coord) - 1)\n",
    "    )\n",
    "\n",
    "def compute_bounding_box(x, y):\n",
    "    if not x or not y or len(x) != len(y):\n",
    "        return (0, 0, 0, 0), 0\n",
    "    min_x, max_x = min(x), max(x)\n",
    "    min_y, max_y = min(y), max(y)\n",
    "    area = (max_x - min_x) * (max_y - min_y)\n",
    "    return (min_x, min_y, max_x, max_y), area\n",
    "\n",
    "def compute_avg_speed(x, y):\n",
    "    if not x or not y or len(x) != len(y) or len(x) < 2:\n",
    "        return 0.0\n",
    "    distances = [\n",
    "        math.hypot(x[i+1] - x[i], y[i+1] - y[i])\n",
    "        for i in range(len(x) - 1)\n",
    "    ]\n",
    "    return np.mean(distances)\n",
    "\n",
    "\n",
    "def compute_avg_acceleration(speeds):\n",
    "    if speeds is None or len(speeds) == 0:\n",
    "        return []\n",
    "    return pd.Series(speeds).diff().fillna(0).tolist()\n",
    "\n",
    "def compute_idle_ratio(x):\n",
    "    if not x or len(x) < 2:\n",
    "        return 1.0\n",
    "    diffs = np.diff(x)\n",
    "    return np.sum(diffs == 0) / len(diffs)\n",
    "\n",
    "def compute_entropy(x):\n",
    "    if not x or len(x) < 2:\n",
    "        return 0.0\n",
    "    diffs = np.diff(x)\n",
    "    values, counts = np.unique(diffs, return_counts=True)\n",
    "    probs = counts / counts.sum()\n",
    "    return -np.sum(probs * np.log2(probs))\n",
    "\n",
    "def compute_linearity(x, y):\n",
    "    if not x or not y or len(x) != len(y) or len(x) < 2:\n",
    "        return 0.0\n",
    "    path = np.sum(np.hypot(np.diff(x), np.diff(y)))\n",
    "    straight = math.hypot(x[-1] - x[0], y[-1] - y[0])\n",
    "    return straight / path if path > 0 else 0.0\n",
    "\n"
   ]
  },
  {
   "cell_type": "code",
   "execution_count": 4,
   "id": "5abb1ba5-db12-4ede-b926-0c47f033efbc",
   "metadata": {
    "execution": {
     "iopub.execute_input": "2025-07-02T23:28:24.932057Z",
     "iopub.status.busy": "2025-07-02T23:28:24.931059Z",
     "iopub.status.idle": "2025-07-02T23:30:14.966338Z",
     "shell.execute_reply": "2025-07-02T23:30:14.966338Z"
    },
    "papermill": {
     "duration": 110.037557,
     "end_time": "2025-07-02T23:30:14.967996",
     "exception": false,
     "start_time": "2025-07-02T23:28:24.930439",
     "status": "completed"
    },
    "tags": []
   },
   "outputs": [],
   "source": [
    "# Veriyi oku\n",
    "df = pd.read_csv(input_path, converters={\n",
    "    \"x\": safe_parse,\n",
    "    \"y\": safe_parse,\n",
    "    \"key_codes\": safe_parse,\n",
    "    \"key_counts\": safe_parse\n",
    "}, parse_dates=[\"start_date_time\", \"end_date_time\"])\n",
    "\n",
    "# Dönüştürmeler\n",
    "df[\"x\"] = df[\"x\"].apply(safe_parse)\n",
    "df[\"y\"] = df[\"y\"].apply(safe_parse)\n",
    "\n",
    "# Özellik hesaplama\n",
    "df[\"x_direction_changes\"] = df[\"x\"].apply(compute_direction_changes)\n",
    "df[\"y_direction_changes\"] = df[\"y\"].apply(compute_direction_changes)\n",
    "\n",
    "bbox_results = df.apply(lambda row: compute_bounding_box(row[\"x\"], row[\"y\"]), axis=1)\n",
    "df[\"bounding_box\"] = bbox_results.apply(lambda x: x[0])\n",
    "df[\"bbox_area\"] = bbox_results.apply(lambda x: x[1])\n",
    "\n",
    "df[\"avg_speed\"] = df.apply(lambda row: compute_avg_speed(row[\"x\"], row[\"y\"]), axis=1)\n",
    "df[\"avg_acceleration\"] = compute_avg_acceleration(df[\"avg_speed\"])\n",
    "\n",
    "df[\"mouse_idle_ratio\"] = df[\"x\"].apply(compute_idle_ratio)\n",
    "df[\"movement_entropy\"] = df[\"x\"].apply(compute_entropy)\n",
    "df[\"linearity\"] = df.apply(lambda row: compute_linearity(row[\"x\"], row[\"y\"]), axis=1)\n",
    "\n"
   ]
  },
  {
   "cell_type": "code",
   "execution_count": 5,
   "id": "172fc706-cbad-4d94-a05f-be200458e9a8",
   "metadata": {
    "execution": {
     "iopub.execute_input": "2025-07-02T23:30:14.971342Z",
     "iopub.status.busy": "2025-07-02T23:30:14.970345Z",
     "iopub.status.idle": "2025-07-02T23:30:16.773231Z",
     "shell.execute_reply": "2025-07-02T23:30:16.772935Z"
    },
    "papermill": {
     "duration": 1.80488,
     "end_time": "2025-07-02T23:30:16.774292",
     "exception": false,
     "start_time": "2025-07-02T23:30:14.969412",
     "status": "completed"
    },
    "tags": []
   },
   "outputs": [
    {
     "name": "stdout",
     "output_type": "stream",
     "text": [
      "✔️ Saved to C:\\store\\git\\km-stat-activity\\data\\real\\km_stat_nature_20250421_features.csv\n"
     ]
    }
   ],
   "source": [
    "df.to_csv(output_path, index=False)\n",
    "print(f\"✔️ Saved to {output_path}\")\n"
   ]
  }
 ],
 "metadata": {
  "kernelspec": {
   "display_name": "ai-demo",
   "language": "python",
   "name": "ai-demo"
  },
  "language_info": {
   "codemirror_mode": {
    "name": "ipython",
    "version": 3
   },
   "file_extension": ".py",
   "mimetype": "text/x-python",
   "name": "python",
   "nbconvert_exporter": "python",
   "pygments_lexer": "ipython3",
   "version": "3.12.7"
  },
  "papermill": {
   "default_parameters": {},
   "duration": 114.50686,
   "end_time": "2025-07-02T23:30:17.451542",
   "environment_variables": {},
   "exception": null,
   "input_path": "C:\\store\\git\\km-stat-activity\\analysis\\scripts\\feature-engineering\\real_feature_extraction.ipynb",
   "output_path": "C:\\store\\git\\km-stat-activity\\analysis\\scripts\\feature-engineering\\runs\\real_feature_extraction_20250421.ipynb",
   "parameters": {
    "input_path": "C:\\store\\git\\km-stat-activity\\data\\real\\km_stat_nature_20250421.csv",
    "output_path": "C:\\store\\git\\km-stat-activity\\data\\real\\km_stat_nature_20250421_features.csv"
   },
   "start_time": "2025-07-02T23:28:22.944682",
   "version": "2.6.0"
  }
 },
 "nbformat": 4,
 "nbformat_minor": 5
}