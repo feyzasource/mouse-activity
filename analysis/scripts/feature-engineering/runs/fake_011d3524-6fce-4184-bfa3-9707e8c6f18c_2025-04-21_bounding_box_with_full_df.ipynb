{
 "cells": [
  {
   "cell_type": "code",
   "execution_count": 1,
   "id": "b9a4f3a3-ad61-4ed7-83d3-fc0edd3f46ab",
   "metadata": {
    "execution": {
     "iopub.execute_input": "2025-06-30T11:59:54.278743Z",
     "iopub.status.busy": "2025-06-30T11:59:54.277745Z",
     "iopub.status.idle": "2025-06-30T11:59:54.285539Z",
     "shell.execute_reply": "2025-06-30T11:59:54.284531Z"
    },
    "papermill": {
     "duration": 0.013933,
     "end_time": "2025-06-30T11:59:54.286751",
     "exception": false,
     "start_time": "2025-06-30T11:59:54.272818",
     "status": "completed"
    },
    "tags": [
     "parameters"
    ]
   },
   "outputs": [],
   "source": [
    "# Parameters\n",
    "# papermill: parameters\n",
    "# tags: [parameters]\n",
    "\n",
    "mode = None\n",
    "input_path = None\n",
    "output_path = None\n"
   ]
  },
  {
   "cell_type": "code",
   "execution_count": 2,
   "id": "819d2af2",
   "metadata": {
    "execution": {
     "iopub.execute_input": "2025-06-30T11:59:54.290538Z",
     "iopub.status.busy": "2025-06-30T11:59:54.289539Z",
     "iopub.status.idle": "2025-06-30T11:59:54.303865Z",
     "shell.execute_reply": "2025-06-30T11:59:54.303865Z"
    },
    "papermill": {
     "duration": 0.016963,
     "end_time": "2025-06-30T11:59:54.305449",
     "exception": false,
     "start_time": "2025-06-30T11:59:54.288486",
     "status": "completed"
    },
    "tags": [
     "injected-parameters"
    ]
   },
   "outputs": [],
   "source": [
    "# Parameters\n",
    "mode = \"fake\"\n",
    "input_path = [\"C:\\\\store\\\\git\\\\km-stat-activity\\\\parquet_dataset\\\\date=2025-04-21\\\\profile_guid=011d3524-6fce-4184-bfa3-9707e8c6f18c\\\\part.6.parquet\"]\n",
    "output_path = \"C:\\\\store\\\\git\\\\km-stat-activity\\\\processed\\\\fake\\\\profile_guid=011d3524-6fce-4184-bfa3-9707e8c6f18c\\\\2025-04-21-processed.csv\"\n"
   ]
  },
  {
   "cell_type": "code",
   "execution_count": 3,
   "id": "fb27363f",
   "metadata": {
    "execution": {
     "iopub.execute_input": "2025-06-30T11:59:54.308870Z",
     "iopub.status.busy": "2025-06-30T11:59:54.307869Z",
     "iopub.status.idle": "2025-06-30T11:59:54.933733Z",
     "shell.execute_reply": "2025-06-30T11:59:54.933733Z"
    },
    "papermill": {
     "duration": 0.628121,
     "end_time": "2025-06-30T11:59:54.935048",
     "exception": false,
     "start_time": "2025-06-30T11:59:54.306927",
     "status": "completed"
    },
    "tags": []
   },
   "outputs": [
    {
     "name": "stdout",
     "output_type": "stream",
     "text": [
      "✔️ Saved CSV with full df including bounding box features: C:\\store\\git\\km-stat-activity\\processed\\fake\\profile_guid=011d3524-6fce-4184-bfa3-9707e8c6f18c\\2025-04-21-processed.csv\n"
     ]
    }
   ],
   "source": [
    "import os\n",
    "import pandas as pd\n",
    "from pathlib import Path\n",
    "import ast\n",
    "\n",
    "# input_path'e göre veriyi oku\n",
    "if isinstance(input_path, list):\n",
    "    paths = [Path(p) for p in input_path]\n",
    "    df = pd.concat([pd.read_parquet(p, engine=\"pyarrow\") for p in paths], ignore_index=True)\n",
    "else:\n",
    "    df = pd.read_csv(str(input_path),\n",
    "                     converters={\"x\": pd.eval, \"y\": pd.eval},\n",
    "                     parse_dates=['start_date_time', 'end_date_time'])\n",
    "\n",
    "# Bounding box hesaplama (örnek)\n",
    "def get_bounding_box(x, y):\n",
    "    if not x or not y:\n",
    "        return (0, 0, 0, 0)\n",
    "    return (min(x), min(y), max(x), max(y))\n",
    "\n",
    "# bounding_box sütununu oluştur\n",
    "df[\"bounding_box\"] = df.apply(lambda row: get_bounding_box(row[\"x\"], row[\"y\"]), axis=1)\n",
    "\n",
    "# bounding_box'tan min/max değerleri çıkar\n",
    "df[\"min_x\"] = df[\"bounding_box\"].apply(lambda b: b[0])\n",
    "df[\"min_y\"] = df[\"bounding_box\"].apply(lambda b: b[1])\n",
    "df[\"max_x\"] = df[\"bounding_box\"].apply(lambda b: b[2])\n",
    "df[\"max_y\"] = df[\"bounding_box\"].apply(lambda b: b[3])\n",
    "\n",
    "# Sayısal tip dönüşümü için ondalık ayırıcı düzelt\n",
    "cols = [\"min_x\", \"min_y\", \"max_x\", \"max_y\"]\n",
    "for col in cols:\n",
    "    df[col] = (\n",
    "        df[col]\n",
    "        .astype(str)\n",
    "        .str.replace(\",\", \".\", regex=False)\n",
    "        .apply(lambda x: x if x.replace('.', '', 1).isdigit() else None)\n",
    "        .astype(float)\n",
    "    )\n",
    "\n",
    "\n",
    "# bbox_area hesapla\n",
    "df[\"bbox_area\"] = (df[\"max_x\"] - df[\"min_x\"]) * (df[\"max_y\"] - df[\"min_y\"])\n",
    "\n",
    "\n",
    "\n",
    "# Çıktıya tüm df'yi yaz\n",
    "df_result = df\n",
    "\n",
    "# CSV’ye yaz (birleştirerek)\n",
    "if os.path.exists(output_path):\n",
    "    df_existing = pd.read_csv(output_path)\n",
    "    df_merged = pd.concat(\n",
    "        [df_existing.reset_index(drop=True), df_result.reset_index(drop=True)],\n",
    "        axis=1\n",
    "    )\n",
    "else:\n",
    "    df_merged = df_result\n",
    "\n",
    "df_merged.to_csv(output_path, index=False)\n",
    "print(f\"✔️ Saved CSV with full df including bounding box features: {output_path}\")\n",
    "\n"
   ]
  }
 ],
 "metadata": {
  "kernelspec": {
   "display_name": "ai-demo",
   "language": "python",
   "name": "ai-demo"
  },
  "language_info": {
   "codemirror_mode": {
    "name": "ipython",
    "version": 3
   },
   "file_extension": ".py",
   "mimetype": "text/x-python",
   "name": "python",
   "nbconvert_exporter": "python",
   "pygments_lexer": "ipython3",
   "version": "3.12.7"
  },
  "papermill": {
   "default_parameters": {},
   "duration": 2.205854,
   "end_time": "2025-06-30T11:59:55.175867",
   "environment_variables": {},
   "exception": null,
   "input_path": "C:\\store\\git\\km-stat-activity\\analysis\\scripts\\bounding_box\\bounding_box_with_full_df.ipynb",
   "output_path": "C:\\store\\git\\km-stat-activity\\analysis\\scripts\\feature-engineering\\runs\\fake_011d3524-6fce-4184-bfa3-9707e8c6f18c_2025-04-21_bounding_box_with_full_df.ipynb",
   "parameters": {
    "input_path": [
     "C:\\store\\git\\km-stat-activity\\parquet_dataset\\date=2025-04-21\\profile_guid=011d3524-6fce-4184-bfa3-9707e8c6f18c\\part.6.parquet"
    ],
    "mode": "fake",
    "output_path": "C:\\store\\git\\km-stat-activity\\processed\\fake\\profile_guid=011d3524-6fce-4184-bfa3-9707e8c6f18c\\2025-04-21-processed.csv"
   },
   "start_time": "2025-06-30T11:59:52.970013",
   "version": "2.6.0"
  }
 },
 "nbformat": 4,
 "nbformat_minor": 5
}