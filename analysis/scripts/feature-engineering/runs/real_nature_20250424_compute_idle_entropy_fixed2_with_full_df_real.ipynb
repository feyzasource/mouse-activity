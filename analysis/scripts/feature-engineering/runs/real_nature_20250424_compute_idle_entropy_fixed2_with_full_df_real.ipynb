{
 "cells": [
  {
   "cell_type": "markdown",
   "id": "c42fd5a5",
   "metadata": {
    "papermill": {
     "duration": 0.003842,
     "end_time": "2025-07-03T00:59:53.329676",
     "exception": false,
     "start_time": "2025-07-03T00:59:53.325834",
     "status": "completed"
    },
    "tags": [
     "parameters"
    ]
   },
   "source": [
    "# Fix Multi-line & Missing Commas in x/y and Compute Idle Ratio & Movement Entropy\n",
    "This notebook:\n",
    "1. Reads your processed CSV\n",
    "2. Preprocesses x/y list strings to ensure commas between numbers\n",
    "3. Uses `ast.literal_eval` to parse into Python lists\n",
    "4. Computes `mouse_idle_ratio` and `movement_entropy`\n",
    "5. Writes new CSV with `_with_idle_entropy_fixed2` suffix"
   ]
  },
  {
   "cell_type": "code",
   "execution_count": 1,
   "id": "df8a27e5",
   "metadata": {
    "execution": {
     "iopub.execute_input": "2025-07-03T00:59:53.336205Z",
     "iopub.status.busy": "2025-07-03T00:59:53.336205Z",
     "iopub.status.idle": "2025-07-03T00:59:53.342198Z",
     "shell.execute_reply": "2025-07-03T00:59:53.341536Z"
    },
    "papermill": {
     "duration": 0.010172,
     "end_time": "2025-07-03T00:59:53.343548",
     "exception": false,
     "start_time": "2025-07-03T00:59:53.333376",
     "status": "completed"
    },
    "tags": [
     "injected-parameters"
    ]
   },
   "outputs": [],
   "source": [
    "# Parameters\n",
    "mode = \"real\"\n",
    "input_path = \"C:\\\\store\\\\git\\\\km-stat-activity\\\\data\\\\real\\\\km_stat_nature_20250424_le120s_fixed_brackets.csv\"\n",
    "output_path = \"C:\\\\store\\\\git\\\\km-stat-activity\\\\data\\\\real\\\\km_stat_nature_20250424_le120s_fixed_brackets_processed.csv\"\n"
   ]
  },
  {
   "cell_type": "code",
   "execution_count": 2,
   "id": "c6ad4285-28fb-4671-80ba-97ba1789c832",
   "metadata": {
    "execution": {
     "iopub.execute_input": "2025-07-03T00:59:53.347465Z",
     "iopub.status.busy": "2025-07-03T00:59:53.346416Z",
     "iopub.status.idle": "2025-07-03T00:59:53.361339Z",
     "shell.execute_reply": "2025-07-03T00:59:53.361339Z"
    },
    "papermill": {
     "duration": 0.017865,
     "end_time": "2025-07-03T00:59:53.363530",
     "exception": false,
     "start_time": "2025-07-03T00:59:53.345665",
     "status": "completed"
    },
    "tags": []
   },
   "outputs": [],
   "source": [
    "# Parameters\n",
    "try:\n",
    "    mode\n",
    "except NameError:\n",
    "    mode = None\n",
    "\n",
    "try:\n",
    "    input_path\n",
    "except NameError:\n",
    "    input_path = None\n",
    "\n",
    "try:\n",
    "    output_path\n",
    "except NameError:\n",
    "    output_path = None\n",
    "\n"
   ]
  },
  {
   "cell_type": "code",
   "execution_count": 3,
   "id": "943f7737",
   "metadata": {
    "execution": {
     "iopub.execute_input": "2025-07-03T00:59:53.367485Z",
     "iopub.status.busy": "2025-07-03T00:59:53.367485Z",
     "iopub.status.idle": "2025-07-03T01:01:50.871609Z",
     "shell.execute_reply": "2025-07-03T01:01:50.871609Z"
    },
    "papermill": {
     "duration": 117.507996,
     "end_time": "2025-07-03T01:01:50.873408",
     "exception": false,
     "start_time": "2025-07-03T00:59:53.365412",
     "status": "completed"
    },
    "tags": []
   },
   "outputs": [
    {
     "name": "stdout",
     "output_type": "stream",
     "text": [
      "✔️ Saved CSV with full df including idle ratio and entropy: C:\\store\\git\\km-stat-activity\\data\\real\\km_stat_nature_20250424_le120s_fixed_brackets_processed.csv\n"
     ]
    }
   ],
   "source": [
    "import os\n",
    "import pandas as pd\n",
    "from pathlib import Path\n",
    "import ast\n",
    "import numpy as np\n",
    "\n",
    "# 1. Veri Yükleme fonksiyonu\n",
    "def load_df(input_path, output_path):\n",
    "    if output_path and os.path.exists(output_path):\n",
    "        df = pd.read_csv(output_path)\n",
    "    elif isinstance(input_path, list):\n",
    "        paths = [Path(p) for p in input_path]\n",
    "        df = pd.concat([pd.read_parquet(p, engine=\"pyarrow\") for p in paths], ignore_index=True)\n",
    "    elif input_path:\n",
    "        df = pd.read_csv(input_path)\n",
    "    else:\n",
    "        raise ValueError(\"input_path veya output_path geçerli değil\")\n",
    "    return df\n",
    "\n",
    "df = load_df(input_path, output_path)\n",
    "\n",
    "# .1, .2 gibi tekrar eden sütunları temizle\n",
    "df = df.loc[:, ~df.columns.str.contains(r'\\.\\d+$')]\n",
    "\n",
    "# x ve y stringlerini listeye dönüştür\n",
    "def safe_parse_list(s):\n",
    "    if isinstance(s, list):\n",
    "        return s\n",
    "    try:\n",
    "        return list(ast.literal_eval(s))\n",
    "    except:\n",
    "        return []\n",
    "\n",
    "df['x'] = df['x'].apply(safe_parse_list)\n",
    "df['y'] = df['y'].apply(safe_parse_list)\n",
    "\n",
    "# Idle hareket süresi oranı\n",
    "def compute_idle_ratio(x):\n",
    "    if not x or len(x) < 2:\n",
    "        return 1.0\n",
    "    diffs = np.diff(x)\n",
    "    idle_count = np.sum(diffs == 0)\n",
    "    return idle_count / len(diffs)\n",
    "\n",
    "df[\"mouse_idle_ratio\"] = df[\"x\"].apply(compute_idle_ratio)\n",
    "\n",
    "# Hareket entropisi\n",
    "def movement_entropy(x):\n",
    "    if not x or len(x) < 2:\n",
    "        return 0.0\n",
    "    diffs = np.diff(x)\n",
    "    values, counts = np.unique(diffs, return_counts=True)\n",
    "    probabilities = counts / counts.sum()\n",
    "    return -np.sum(probabilities * np.log2(probabilities))\n",
    "\n",
    "df[\"movement_entropy\"] = df[\"x\"].apply(movement_entropy)\n",
    "\n",
    "# 5. Sonuçları CSV’ye yaz\n",
    "df_result = df\n",
    "df_result.to_csv(output_path, index=False)\n",
    "print(f\"✔️ Saved CSV with full df including idle ratio and entropy: {output_path}\")\n"
   ]
  }
 ],
 "metadata": {
  "kernelspec": {
   "display_name": "ai-demo",
   "language": "python",
   "name": "ai-demo"
  },
  "language_info": {
   "codemirror_mode": {
    "name": "ipython",
    "version": 3
   },
   "file_extension": ".py",
   "mimetype": "text/x-python",
   "name": "python",
   "nbconvert_exporter": "python",
   "pygments_lexer": "ipython3",
   "version": "3.12.7"
  },
  "papermill": {
   "default_parameters": {},
   "duration": 120.469851,
   "end_time": "2025-07-03T01:01:52.325114",
   "environment_variables": {},
   "exception": null,
   "input_path": "C:\\store\\git\\km-stat-activity\\analysis\\scripts\\idle_entropy\\compute_idle_entropy_fixed2_with_full_df_real.ipynb",
   "output_path": "C:\\store\\git\\km-stat-activity\\analysis\\scripts\\feature-engineering\\runs\\real_nature_20250424_compute_idle_entropy_fixed2_with_full_df_real.ipynb",
   "parameters": {
    "input_path": "C:\\store\\git\\km-stat-activity\\data\\real\\km_stat_nature_20250424_le120s_fixed_brackets.csv",
    "mode": "real",
    "output_path": "C:\\store\\git\\km-stat-activity\\data\\real\\km_stat_nature_20250424_le120s_fixed_brackets_processed.csv"
   },
   "start_time": "2025-07-03T00:59:51.855263",
   "version": "2.6.0"
  }
 },
 "nbformat": 4,
 "nbformat_minor": 5
}