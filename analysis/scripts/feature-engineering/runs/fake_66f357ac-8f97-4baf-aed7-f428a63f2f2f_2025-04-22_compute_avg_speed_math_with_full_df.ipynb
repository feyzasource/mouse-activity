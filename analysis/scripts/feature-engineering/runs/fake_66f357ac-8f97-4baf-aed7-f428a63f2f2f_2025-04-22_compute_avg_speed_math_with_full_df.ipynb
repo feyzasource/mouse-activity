{
 "cells": [
  {
   "cell_type": "markdown",
   "id": "7eea77bf",
   "metadata": {
    "papermill": {
     "duration": 0.001599,
     "end_time": "2025-07-01T00:17:09.345963",
     "exception": false,
     "start_time": "2025-07-01T00:17:09.344364",
     "status": "completed"
    },
    "tags": [
     "parameters"
    ]
   },
   "source": [
    "# Compute Average Mouse Speed (Math.hypot) and Save to CSV\n",
    "This notebook reads the CSV, computes the average mouse speed (pixels/second) using Python's `math.hypot`, adds it as a new column `avg_speed`, and overwrites the original CSV."
   ]
  },
  {
   "cell_type": "code",
   "execution_count": 1,
   "id": "1f366f40",
   "metadata": {
    "execution": {
     "iopub.execute_input": "2025-07-01T00:17:09.368844Z",
     "iopub.status.busy": "2025-07-01T00:17:09.368844Z",
     "iopub.status.idle": "2025-07-01T00:17:09.372845Z",
     "shell.execute_reply": "2025-07-01T00:17:09.372845Z"
    },
    "papermill": {
     "duration": 0.008384,
     "end_time": "2025-07-01T00:17:09.374618",
     "exception": false,
     "start_time": "2025-07-01T00:17:09.366234",
     "status": "completed"
    },
    "tags": [
     "injected-parameters"
    ]
   },
   "outputs": [],
   "source": [
    "# Parameters\n",
    "mode = \"fake\"\n",
    "input_path = [\"C:\\\\store\\\\git\\\\km-stat-activity\\\\parquet_dataset\\\\date=2025-04-22\\\\profile_guid=66f357ac-8f97-4baf-aed7-f428a63f2f2f\\\\part.11.parquet\"]\n",
    "output_path = \"C:\\\\store\\\\git\\\\km-stat-activity\\\\processed\\\\fake\\\\profile_guid=66f357ac-8f97-4baf-aed7-f428a63f2f2f\\\\2025-04-22-processed.csv\"\n"
   ]
  },
  {
   "cell_type": "code",
   "execution_count": 2,
   "id": "25c0c246-98fa-4a01-9550-9b4f8201a52c",
   "metadata": {
    "execution": {
     "iopub.execute_input": "2025-07-01T00:17:09.379260Z",
     "iopub.status.busy": "2025-07-01T00:17:09.378260Z",
     "iopub.status.idle": "2025-07-01T00:17:09.393489Z",
     "shell.execute_reply": "2025-07-01T00:17:09.393489Z"
    },
    "papermill": {
     "duration": 0.01875,
     "end_time": "2025-07-01T00:17:09.395010",
     "exception": false,
     "start_time": "2025-07-01T00:17:09.376260",
     "status": "completed"
    },
    "tags": []
   },
   "outputs": [],
   "source": [
    "# Parameters\n",
    "try:\n",
    "    mode\n",
    "except NameError:\n",
    "    mode = None\n",
    "\n",
    "try:\n",
    "    input_path\n",
    "except NameError:\n",
    "    input_path = None\n",
    "\n",
    "try:\n",
    "    output_path\n",
    "except NameError:\n",
    "    output_path = None\n",
    "\n"
   ]
  },
  {
   "cell_type": "code",
   "execution_count": 3,
   "id": "68492464",
   "metadata": {
    "execution": {
     "iopub.execute_input": "2025-07-01T00:17:09.399496Z",
     "iopub.status.busy": "2025-07-01T00:17:09.399496Z",
     "iopub.status.idle": "2025-07-01T00:17:10.250816Z",
     "shell.execute_reply": "2025-07-01T00:17:10.250816Z"
    },
    "papermill": {
     "duration": 0.855276,
     "end_time": "2025-07-01T00:17:10.252416",
     "exception": false,
     "start_time": "2025-07-01T00:17:09.397140",
     "status": "completed"
    },
    "tags": []
   },
   "outputs": [
    {
     "name": "stdout",
     "output_type": "stream",
     "text": [
      "✔️ Saved CSV with full df including avg_speed: C:\\store\\git\\km-stat-activity\\processed\\fake\\profile_guid=66f357ac-8f97-4baf-aed7-f428a63f2f2f\\2025-04-22-processed.csv\n"
     ]
    }
   ],
   "source": [
    "import os\n",
    "import pandas as pd\n",
    "import numpy as np\n",
    "import math\n",
    "from pathlib import Path\n",
    "import ast\n",
    "\n",
    "# 0. Parametre kontrolü (Papermill ile çalışıyorsa bunlar yukarıdan gelebilir)\n",
    "try:\n",
    "    input_path\n",
    "except NameError:\n",
    "    input_path = None\n",
    "\n",
    "try:\n",
    "    output_path\n",
    "except NameError:\n",
    "    output_path = None\n",
    "\n",
    "# 1. Veri Yükleme fonksiyonu\n",
    "def load_df(input_path, output_path):\n",
    "    if output_path and os.path.exists(output_path):\n",
    "        df = pd.read_csv(output_path)\n",
    "    elif isinstance(input_path, list):\n",
    "        paths = [Path(p) for p in input_path]\n",
    "        df = pd.concat([pd.read_parquet(p, engine=\"pyarrow\") for p in paths], ignore_index=True)\n",
    "    elif input_path:\n",
    "        df = pd.read_csv(input_path)\n",
    "    else:\n",
    "        raise ValueError(\"input_path veya output_path geçerli değil\")\n",
    "    return df\n",
    "\n",
    "# 2. Liste parse fonksiyonu (stringleri listeye çevir)\n",
    "def safe_parse_list(s):\n",
    "    if isinstance(s, list):\n",
    "        return s\n",
    "    try:\n",
    "        parsed = ast.literal_eval(s)\n",
    "        return parsed if isinstance(parsed, list) else []\n",
    "    except Exception:\n",
    "        return []\n",
    "\n",
    "\n",
    "# 3. Ortalama hız hesapla\n",
    "def compute_avg_speed(x, y):\n",
    "    if not x or not y or len(x) < 2:\n",
    "        return 0.0\n",
    "    distances = [math.hypot(x[i+1] - x[i], y[i+1] - y[i]) for i in range(len(x)-1)]\n",
    "    return np.mean(distances)\n",
    "\n",
    "# 4. DataFrame'i yükle\n",
    "df = load_df(input_path, output_path)\n",
    "\n",
    "# 5. .1, .2 gibi tekrar eden sütunları temizle\n",
    "df = df.loc[:, ~df.columns.str.contains(r'\\.\\d+$')]\n",
    "\n",
    "# 6. x ve y'yi parse et\n",
    "if df[\"x\"].dtype == \"object\":\n",
    "    df[\"x\"] = df[\"x\"].apply(safe_parse_list)\n",
    "if df[\"y\"].dtype == \"object\":\n",
    "    df[\"y\"] = df[\"y\"].apply(safe_parse_list)\n",
    "\n",
    "\n",
    "# 7. Ortalama hız hesapla\n",
    "df[\"avg_speed\"] = df.apply(lambda row: compute_avg_speed(row[\"x\"], row[\"y\"]), axis=1)\n",
    "\n",
    "# 8. Sonuç olarak bu df kullanılacak\n",
    "df_result = df\n",
    "\n",
    "# 9. Çıktı dosyasına merge ederek yaz\n",
    "if output_path and os.path.exists(output_path):\n",
    "    df_existing = pd.read_csv(output_path)\n",
    "    df_existing = df_existing.loc[:, ~df_existing.columns.str.contains(r'\\.\\d+$')]  # tekrar eden sütunları temizle\n",
    "    \n",
    "    # Eğer avg_speed zaten varsa üzerine yaz, yoksa ekle\n",
    "    df_existing[\"avg_speed\"] = df_result[\"avg_speed\"].values\n",
    "    df_merged = df_existing\n",
    "else:\n",
    "    df_merged = df_result\n",
    "\n",
    "# 10. Kaydet\n",
    "# 5. Var olan CSV’ye yaz (concat DEĞİL!)\n",
    "df_result.to_csv(output_path, index=False)\n",
    "\n",
    "print(f\"✔️ Saved CSV with full df including avg_speed: {output_path}\")\n"
   ]
  }
 ],
 "metadata": {
  "kernelspec": {
   "display_name": "ai-demo",
   "language": "python",
   "name": "ai-demo"
  },
  "language_info": {
   "codemirror_mode": {
    "name": "ipython",
    "version": 3
   },
   "file_extension": ".py",
   "mimetype": "text/x-python",
   "name": "python",
   "nbconvert_exporter": "python",
   "pygments_lexer": "ipython3",
   "version": "3.12.7"
  },
  "papermill": {
   "default_parameters": {},
   "duration": 2.593284,
   "end_time": "2025-07-01T00:17:10.500237",
   "environment_variables": {},
   "exception": null,
   "input_path": "C:\\store\\git\\km-stat-activity\\analysis\\scripts\\speed\\compute_avg_speed_math_with_full_df.ipynb",
   "output_path": "C:\\store\\git\\km-stat-activity\\analysis\\scripts\\feature-engineering\\runs\\fake_66f357ac-8f97-4baf-aed7-f428a63f2f2f_2025-04-22_compute_avg_speed_math_with_full_df.ipynb",
   "parameters": {
    "input_path": [
     "C:\\store\\git\\km-stat-activity\\parquet_dataset\\date=2025-04-22\\profile_guid=66f357ac-8f97-4baf-aed7-f428a63f2f2f\\part.11.parquet"
    ],
    "mode": "fake",
    "output_path": "C:\\store\\git\\km-stat-activity\\processed\\fake\\profile_guid=66f357ac-8f97-4baf-aed7-f428a63f2f2f\\2025-04-22-processed.csv"
   },
   "start_time": "2025-07-01T00:17:07.906953",
   "version": "2.6.0"
  }
 },
 "nbformat": 4,
 "nbformat_minor": 5
}