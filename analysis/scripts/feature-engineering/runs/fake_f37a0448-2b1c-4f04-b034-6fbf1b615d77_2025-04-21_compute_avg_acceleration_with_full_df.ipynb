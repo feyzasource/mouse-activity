{
 "cells": [
  {
   "cell_type": "markdown",
   "id": "5a8474d1",
   "metadata": {
    "papermill": {
     "duration": 0.002741,
     "end_time": "2025-06-30T23:47:25.924079",
     "exception": false,
     "start_time": "2025-06-30T23:47:25.921338",
     "status": "completed"
    },
    "tags": [
     "parameters"
    ]
   },
   "source": [
    "# Compute Mouse Average Acceleration and Save to New CSV\n",
    "This notebook reads the existing CSV with average speed (`avg_speed`), computes the average acceleration (change in speed over time), adds it as a new column `avg_acceleration`, and writes to a new CSV copy."
   ]
  },
  {
   "cell_type": "code",
   "execution_count": 1,
   "id": "7bc8ec11",
   "metadata": {
    "execution": {
     "iopub.execute_input": "2025-06-30T23:47:25.930076Z",
     "iopub.status.busy": "2025-06-30T23:47:25.929125Z",
     "iopub.status.idle": "2025-06-30T23:47:25.935105Z",
     "shell.execute_reply": "2025-06-30T23:47:25.935105Z"
    },
    "papermill": {
     "duration": 0.009857,
     "end_time": "2025-06-30T23:47:25.936632",
     "exception": false,
     "start_time": "2025-06-30T23:47:25.926775",
     "status": "completed"
    },
    "tags": [
     "injected-parameters"
    ]
   },
   "outputs": [],
   "source": [
    "# Parameters\n",
    "mode = \"fake\"\n",
    "input_path = [\"C:\\\\store\\\\git\\\\km-stat-activity\\\\parquet_dataset\\\\date=2025-04-21\\\\profile_guid=f37a0448-2b1c-4f04-b034-6fbf1b615d77\\\\part.2.parquet\"]\n",
    "output_path = \"C:\\\\store\\\\git\\\\km-stat-activity\\\\processed\\\\fake\\\\profile_guid=f37a0448-2b1c-4f04-b034-6fbf1b615d77\\\\2025-04-21-processed.csv\"\n"
   ]
  },
  {
   "cell_type": "code",
   "execution_count": 2,
   "id": "0377777f-7670-4bbf-a48b-5a6fca57377f",
   "metadata": {
    "execution": {
     "iopub.execute_input": "2025-06-30T23:47:25.939589Z",
     "iopub.status.busy": "2025-06-30T23:47:25.939589Z",
     "iopub.status.idle": "2025-06-30T23:47:25.956643Z",
     "shell.execute_reply": "2025-06-30T23:47:25.956643Z"
    },
    "papermill": {
     "duration": 0.020121,
     "end_time": "2025-06-30T23:47:25.958354",
     "exception": false,
     "start_time": "2025-06-30T23:47:25.938233",
     "status": "completed"
    },
    "tags": []
   },
   "outputs": [],
   "source": [
    "# Parameters\n",
    "try:\n",
    "    mode\n",
    "except NameError:\n",
    "    mode = None\n",
    "\n",
    "try:\n",
    "    input_path\n",
    "except NameError:\n",
    "    input_path = None\n",
    "\n",
    "try:\n",
    "    output_path\n",
    "except NameError:\n",
    "    output_path = None\n",
    "\n",
    "\n"
   ]
  },
  {
   "cell_type": "code",
   "execution_count": 3,
   "id": "3c1e9fd3",
   "metadata": {
    "execution": {
     "iopub.execute_input": "2025-06-30T23:47:25.961709Z",
     "iopub.status.busy": "2025-06-30T23:47:25.960709Z",
     "iopub.status.idle": "2025-06-30T23:47:26.371188Z",
     "shell.execute_reply": "2025-06-30T23:47:26.371188Z"
    },
    "papermill": {
     "duration": 0.412929,
     "end_time": "2025-06-30T23:47:26.372716",
     "exception": false,
     "start_time": "2025-06-30T23:47:25.959787",
     "status": "completed"
    },
    "tags": []
   },
   "outputs": [
    {
     "name": "stdout",
     "output_type": "stream",
     "text": [
      "✔️ Saved CSV with full df including avg_acceleration: C:\\store\\git\\km-stat-activity\\processed\\fake\\profile_guid=f37a0448-2b1c-4f04-b034-6fbf1b615d77\\2025-04-21-processed.csv\n"
     ]
    }
   ],
   "source": [
    "import os\n",
    "import pandas as pd\n",
    "from pathlib import Path\n",
    "\n",
    "# 1. Veri Yükleme fonksiyonu\n",
    "def load_df(input_path, output_path):\n",
    "    if output_path and os.path.exists(output_path):\n",
    "        df = pd.read_csv(output_path)\n",
    "    elif isinstance(input_path, list):\n",
    "        paths = [Path(p) for p in input_path]\n",
    "        df = pd.concat([pd.read_parquet(p, engine=\"pyarrow\") for p in paths], ignore_index=True)\n",
    "    elif input_path:\n",
    "        df = pd.read_csv(input_path)\n",
    "    else:\n",
    "        raise ValueError(\"input_path veya output_path geçerli değil\")\n",
    "    return df\n",
    "\n",
    "# 2. Yükle\n",
    "df = load_df(input_path, output_path)\n",
    "\n",
    "# 3. Önceki notebook'lardan kalan .1, .2 gibi tekrar eden sütunları temizle\n",
    "df = df.loc[:, ~df.columns.str.contains(r'\\.\\d+$')]\n",
    "\n",
    "# 4. avg_speed varsa ivmeyi hesapla\n",
    "if \"avg_speed\" in df.columns and df[\"avg_speed\"].notna().any():\n",
    "    if \"avg_acceleration\" not in df.columns:\n",
    "        df[\"avg_acceleration\"] = df[\"avg_speed\"].diff().fillna(0)\n",
    "else:\n",
    "    raise ValueError(\"avg_speed column is missing or entirely empty in input data.\")\n",
    "\n",
    "# 5. Tam veri çıktısı\n",
    "df_result = df\n",
    "\n",
    "# 6. Varsa önceki içerikle birleştir\n",
    "if output_path and os.path.exists(output_path):\n",
    "    df_existing = pd.read_csv(output_path)\n",
    "    df_existing = df_existing.loc[:, ~df_existing.columns.str.contains(r'\\.\\d+$')]\n",
    "    df_merged = pd.concat(\n",
    "        [df_existing.reset_index(drop=True), df_result.reset_index(drop=True)],\n",
    "        axis=1\n",
    "    )\n",
    "else:\n",
    "    df_merged = df_result\n",
    "\n",
    "# 7. CSV yaz\n",
    "df_result.to_csv(output_path, index=False)\n",
    "print(f\"✔️ Saved CSV with full df including avg_acceleration: {output_path}\")\n"
   ]
  }
 ],
 "metadata": {
  "kernelspec": {
   "display_name": "ai-demo",
   "language": "python",
   "name": "ai-demo"
  },
  "language_info": {
   "codemirror_mode": {
    "name": "ipython",
    "version": 3
   },
   "file_extension": ".py",
   "mimetype": "text/x-python",
   "name": "python",
   "nbconvert_exporter": "python",
   "pygments_lexer": "ipython3",
   "version": "3.12.7"
  },
  "papermill": {
   "default_parameters": {},
   "duration": 1.709303,
   "end_time": "2025-06-30T23:47:26.615842",
   "environment_variables": {},
   "exception": null,
   "input_path": "C:\\store\\git\\km-stat-activity\\analysis\\scripts\\acceleration\\compute_avg_acceleration_with_full_df.ipynb",
   "output_path": "C:\\store\\git\\km-stat-activity\\analysis\\scripts\\feature-engineering\\runs\\fake_f37a0448-2b1c-4f04-b034-6fbf1b615d77_2025-04-21_compute_avg_acceleration_with_full_df.ipynb",
   "parameters": {
    "input_path": [
     "C:\\store\\git\\km-stat-activity\\parquet_dataset\\date=2025-04-21\\profile_guid=f37a0448-2b1c-4f04-b034-6fbf1b615d77\\part.2.parquet"
    ],
    "mode": "fake",
    "output_path": "C:\\store\\git\\km-stat-activity\\processed\\fake\\profile_guid=f37a0448-2b1c-4f04-b034-6fbf1b615d77\\2025-04-21-processed.csv"
   },
   "start_time": "2025-06-30T23:47:24.906539",
   "version": "2.6.0"
  }
 },
 "nbformat": 4,
 "nbformat_minor": 5
}