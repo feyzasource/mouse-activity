{
 "cells": [
  {
   "cell_type": "code",
   "execution_count": 1,
   "id": "f1221e0e-3548-4685-8d59-c73da95f71cb",
   "metadata": {
    "execution": {
     "iopub.execute_input": "2025-06-30T23:42:51.187950Z",
     "iopub.status.busy": "2025-06-30T23:42:51.187950Z",
     "iopub.status.idle": "2025-06-30T23:42:51.192149Z",
     "shell.execute_reply": "2025-06-30T23:42:51.192149Z"
    },
    "papermill": {
     "duration": 0.010427,
     "end_time": "2025-06-30T23:42:51.193663",
     "exception": false,
     "start_time": "2025-06-30T23:42:51.183236",
     "status": "completed"
    },
    "tags": [
     "parameters"
    ]
   },
   "outputs": [],
   "source": [
    "# Parameters\n",
    "try:\n",
    "    mode\n",
    "except NameError:\n",
    "    mode = None\n",
    "\n",
    "try:\n",
    "    input_path\n",
    "except NameError:\n",
    "    input_path = None\n",
    "\n",
    "try:\n",
    "    output_path\n",
    "except NameError:\n",
    "    output_path = None\n",
    "\n"
   ]
  },
  {
   "cell_type": "code",
   "execution_count": 2,
   "id": "1f3c4111",
   "metadata": {
    "execution": {
     "iopub.execute_input": "2025-06-30T23:42:51.200155Z",
     "iopub.status.busy": "2025-06-30T23:42:51.200155Z",
     "iopub.status.idle": "2025-06-30T23:42:51.223568Z",
     "shell.execute_reply": "2025-06-30T23:42:51.222563Z"
    },
    "papermill": {
     "duration": 0.027691,
     "end_time": "2025-06-30T23:42:51.224917",
     "exception": false,
     "start_time": "2025-06-30T23:42:51.197226",
     "status": "completed"
    },
    "tags": [
     "injected-parameters"
    ]
   },
   "outputs": [],
   "source": [
    "# Parameters\n",
    "mode = \"fake\"\n",
    "input_path = [\"C:\\\\store\\\\git\\\\km-stat-activity\\\\parquet_dataset\\\\date=2025-04-21\\\\profile_guid=e2b322d6-fbd9-4df6-a5eb-cbbbf0b5dfc9\\\\part.0.parquet\"]\n",
    "output_path = \"C:\\\\store\\\\git\\\\km-stat-activity\\\\processed\\\\fake\\\\profile_guid=e2b322d6-fbd9-4df6-a5eb-cbbbf0b5dfc9\\\\2025-04-21-processed.csv\"\n"
   ]
  },
  {
   "cell_type": "code",
   "execution_count": 3,
   "id": "4054fe23",
   "metadata": {
    "execution": {
     "iopub.execute_input": "2025-06-30T23:42:51.228568Z",
     "iopub.status.busy": "2025-06-30T23:42:51.228568Z",
     "iopub.status.idle": "2025-06-30T23:42:52.145953Z",
     "shell.execute_reply": "2025-06-30T23:42:52.145953Z"
    },
    "papermill": {
     "duration": 0.920743,
     "end_time": "2025-06-30T23:42:52.147339",
     "exception": false,
     "start_time": "2025-06-30T23:42:51.226596",
     "status": "completed"
    },
    "tags": []
   },
   "outputs": [
    {
     "name": "stdout",
     "output_type": "stream",
     "text": [
      "✔️ Saved CSV with full df including direction changes: C:\\store\\git\\km-stat-activity\\processed\\fake\\profile_guid=e2b322d6-fbd9-4df6-a5eb-cbbbf0b5dfc9\\2025-04-21-processed.csv\n"
     ]
    }
   ],
   "source": [
    "\n",
    "import os\n",
    "import pandas as pd\n",
    "from pathlib import Path\n",
    "import ast\n",
    "\n",
    "# output_path tanımlı olmalı\n",
    "output_path = str(output_path)\n",
    "\n",
    "# Eğer df daha önce tanımlandıysa tekrar yükleme\n",
    "if \"df\" not in globals():\n",
    "    if isinstance(input_path, list):\n",
    "        paths = [Path(p) for p in input_path]\n",
    "        df = pd.concat([pd.read_parquet(p, engine=\"pyarrow\") for p in paths], ignore_index=True)\n",
    "    else:\n",
    "        df = pd.read_csv(str(input_path),\n",
    "                         converters={\"x\": pd.eval, \"y\": pd.eval},\n",
    "                         parse_dates=['start_date_time', 'end_date_time'])\n",
    "# x ve y listelerinin güvenli parse edilmesi (string ise)\n",
    "def safe_parse_list(s):\n",
    "    try:\n",
    "        parsed = ast.literal_eval(s)\n",
    "        return list(parsed)\n",
    "    except Exception:\n",
    "        return []\n",
    "\n",
    "df['x'] = df['x'].apply(safe_parse_list)\n",
    "df['y'] = df['y'].apply(safe_parse_list)\n",
    "\n",
    "# Yön değişimlerini hesapla\n",
    "def count_direction_changes(arr):\n",
    "    count = 0\n",
    "    for i in range(2, len(arr)):\n",
    "        diff1 = arr[i-1] - arr[i-2]\n",
    "        diff2 = arr[i] - arr[i-1]\n",
    "        if diff1 * diff2 < 0:\n",
    "            count += 1\n",
    "    return count\n",
    "\n",
    "df[\"x_direction_changes\"] = df[\"x\"].apply(count_direction_changes)\n",
    "df[\"y_direction_changes\"] = df[\"y\"].apply(count_direction_changes)\n",
    "\n",
    "# df'nin tamamını çıktı olarak al\n",
    "df_result = df\n",
    "\n",
    "# .1, .2 gibi tekrar sütunları engelle\n",
    "df_result = df_result.loc[:, ~df_result.columns.str.contains(r'\\.\\d+$')]\n",
    "\n",
    "\n",
    "# CSV’ye yaz (mevcutsa sütun olarak ekle)\n",
    "if os.path.exists(output_path):\n",
    "    df_existing = pd.read_csv(output_path)\n",
    "    df_merged = pd.concat(\n",
    "        [df_existing.reset_index(drop=True), df_result.reset_index(drop=True)],\n",
    "        axis=1\n",
    "    )\n",
    "else:\n",
    "    df_merged = df_result\n",
    "\n",
    "df_merged.to_csv(output_path, index=False)\n",
    "print(f\"✔️ Saved CSV with full df including direction changes: {output_path}\")\n"
   ]
  }
 ],
 "metadata": {
  "kernelspec": {
   "display_name": "ai-demo",
   "language": "python",
   "name": "ai-demo"
  },
  "language_info": {
   "codemirror_mode": {
    "name": "ipython",
    "version": 3
   },
   "file_extension": ".py",
   "mimetype": "text/x-python",
   "name": "python",
   "nbconvert_exporter": "python",
   "pygments_lexer": "ipython3",
   "version": "3.12.7"
  },
  "papermill": {
   "default_parameters": {},
   "duration": 2.68146,
   "end_time": "2025-06-30T23:42:52.391608",
   "environment_variables": {},
   "exception": null,
   "input_path": "C:\\store\\git\\km-stat-activity\\analysis\\scripts\\directional_change\\calculate_direction_with_full_df.ipynb",
   "output_path": "C:\\store\\git\\km-stat-activity\\analysis\\scripts\\feature-engineering\\runs\\fake_e2b322d6-fbd9-4df6-a5eb-cbbbf0b5dfc9_2025-04-21_calculate_direction_with_full_df.ipynb",
   "parameters": {
    "input_path": [
     "C:\\store\\git\\km-stat-activity\\parquet_dataset\\date=2025-04-21\\profile_guid=e2b322d6-fbd9-4df6-a5eb-cbbbf0b5dfc9\\part.0.parquet"
    ],
    "mode": "fake",
    "output_path": "C:\\store\\git\\km-stat-activity\\processed\\fake\\profile_guid=e2b322d6-fbd9-4df6-a5eb-cbbbf0b5dfc9\\2025-04-21-processed.csv"
   },
   "start_time": "2025-06-30T23:42:49.710148",
   "version": "2.6.0"
  }
 },
 "nbformat": 4,
 "nbformat_minor": 5
}