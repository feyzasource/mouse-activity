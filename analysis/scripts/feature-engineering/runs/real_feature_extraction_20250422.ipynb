{
 "cells": [
  {
   "cell_type": "code",
   "execution_count": 1,
   "id": "00aa287d",
   "metadata": {
    "execution": {
     "iopub.execute_input": "2025-07-02T23:30:18.462806Z",
     "iopub.status.busy": "2025-07-02T23:30:18.461707Z",
     "iopub.status.idle": "2025-07-02T23:30:18.469204Z",
     "shell.execute_reply": "2025-07-02T23:30:18.468697Z"
    },
    "papermill": {
     "duration": 0.013065,
     "end_time": "2025-07-02T23:30:18.470607",
     "exception": false,
     "start_time": "2025-07-02T23:30:18.457542",
     "status": "completed"
    },
    "tags": [
     "injected-parameters"
    ]
   },
   "outputs": [],
   "source": [
    "# Parameters\n",
    "input_path = \"C:\\\\store\\\\git\\\\km-stat-activity\\\\data\\\\real\\\\km_stat_nature_20250422.csv\"\n",
    "output_path = \"C:\\\\store\\\\git\\\\km-stat-activity\\\\data\\\\real\\\\km_stat_nature_20250422_features.csv\"\n"
   ]
  },
  {
   "cell_type": "code",
   "execution_count": 2,
   "id": "bd20cb97-712c-4732-8054-5567ec4b1e46",
   "metadata": {
    "execution": {
     "iopub.execute_input": "2025-07-02T23:30:18.474212Z",
     "iopub.status.busy": "2025-07-02T23:30:18.474212Z",
     "iopub.status.idle": "2025-07-02T23:30:18.491115Z",
     "shell.execute_reply": "2025-07-02T23:30:18.491115Z"
    },
    "papermill": {
     "duration": 0.020464,
     "end_time": "2025-07-02T23:30:18.492779",
     "exception": false,
     "start_time": "2025-07-02T23:30:18.472315",
     "status": "completed"
    },
    "tags": []
   },
   "outputs": [],
   "source": [
    "# Parameters\n",
    "try:\n",
    "    input_path\n",
    "except NameError:\n",
    "    input_path = None\n",
    "\n",
    "try:\n",
    "    output_path\n",
    "except NameError:\n",
    "    output_path = None\n"
   ]
  },
  {
   "cell_type": "code",
   "execution_count": 3,
   "id": "94a85955-1589-45bd-9187-3e6437128ffb",
   "metadata": {
    "execution": {
     "iopub.execute_input": "2025-07-02T23:30:18.496122Z",
     "iopub.status.busy": "2025-07-02T23:30:18.495122Z",
     "iopub.status.idle": "2025-07-02T23:30:18.879901Z",
     "shell.execute_reply": "2025-07-02T23:30:18.879901Z"
    },
    "papermill": {
     "duration": 0.387584,
     "end_time": "2025-07-02T23:30:18.881492",
     "exception": false,
     "start_time": "2025-07-02T23:30:18.493908",
     "status": "completed"
    },
    "tags": []
   },
   "outputs": [],
   "source": [
    "import os\n",
    "import pandas as pd\n",
    "import numpy as np\n",
    "import math\n",
    "import ast\n",
    "from pathlib import Path\n",
    "\n",
    "def safe_parse(val):\n",
    "    try:\n",
    "        result = ast.literal_eval(val)\n",
    "        return list(result) if not isinstance(result, list) else result\n",
    "    except:\n",
    "        return []\n",
    "\n",
    "\n",
    "def compute_direction_changes(coord):\n",
    "    if not coord or len(coord) < 3:\n",
    "        return 0\n",
    "    return sum(\n",
    "        np.sign(coord[i+1] - coord[i]) != np.sign(coord[i] - coord[i-1])\n",
    "        for i in range(1, len(coord) - 1)\n",
    "    )\n",
    "\n",
    "def compute_bounding_box(x, y):\n",
    "    if not x or not y or len(x) != len(y):\n",
    "        return (0, 0, 0, 0), 0\n",
    "    min_x, max_x = min(x), max(x)\n",
    "    min_y, max_y = min(y), max(y)\n",
    "    area = (max_x - min_x) * (max_y - min_y)\n",
    "    return (min_x, min_y, max_x, max_y), area\n",
    "\n",
    "def compute_avg_speed(x, y):\n",
    "    if not x or not y or len(x) != len(y) or len(x) < 2:\n",
    "        return 0.0\n",
    "    distances = [\n",
    "        math.hypot(x[i+1] - x[i], y[i+1] - y[i])\n",
    "        for i in range(len(x) - 1)\n",
    "    ]\n",
    "    return np.mean(distances)\n",
    "\n",
    "\n",
    "def compute_avg_acceleration(speeds):\n",
    "    if speeds is None or len(speeds) == 0:\n",
    "        return []\n",
    "    return pd.Series(speeds).diff().fillna(0).tolist()\n",
    "\n",
    "def compute_idle_ratio(x):\n",
    "    if not x or len(x) < 2:\n",
    "        return 1.0\n",
    "    diffs = np.diff(x)\n",
    "    return np.sum(diffs == 0) / len(diffs)\n",
    "\n",
    "def compute_entropy(x):\n",
    "    if not x or len(x) < 2:\n",
    "        return 0.0\n",
    "    diffs = np.diff(x)\n",
    "    values, counts = np.unique(diffs, return_counts=True)\n",
    "    probs = counts / counts.sum()\n",
    "    return -np.sum(probs * np.log2(probs))\n",
    "\n",
    "def compute_linearity(x, y):\n",
    "    if not x or not y or len(x) != len(y) or len(x) < 2:\n",
    "        return 0.0\n",
    "    path = np.sum(np.hypot(np.diff(x), np.diff(y)))\n",
    "    straight = math.hypot(x[-1] - x[0], y[-1] - y[0])\n",
    "    return straight / path if path > 0 else 0.0\n",
    "\n"
   ]
  },
  {
   "cell_type": "code",
   "execution_count": 4,
   "id": "5abb1ba5-db12-4ede-b926-0c47f033efbc",
   "metadata": {
    "execution": {
     "iopub.execute_input": "2025-07-02T23:30:18.883916Z",
     "iopub.status.busy": "2025-07-02T23:30:18.883916Z"
    },
    "papermill": {
     "duration": 73.528269,
     "end_time": "2025-07-02T23:31:32.411071",
     "exception": false,
     "start_time": "2025-07-02T23:30:18.882802",
     "status": "completed"
    },
    "tags": []
   },
   "outputs": [],
   "source": [
    "# Veriyi oku\n",
    "df = pd.read_csv(input_path, converters={\n",
    "    \"x\": safe_parse,\n",
    "    \"y\": safe_parse,\n",
    "    \"key_codes\": safe_parse,\n",
    "    \"key_counts\": safe_parse\n",
    "}, parse_dates=[\"start_date_time\", \"end_date_time\"])\n",
    "\n",
    "# Dönüştürmeler\n",
    "df[\"x\"] = df[\"x\"].apply(safe_parse)\n",
    "df[\"y\"] = df[\"y\"].apply(safe_parse)\n",
    "\n",
    "# Özellik hesaplama\n",
    "df[\"x_direction_changes\"] = df[\"x\"].apply(compute_direction_changes)\n",
    "df[\"y_direction_changes\"] = df[\"y\"].apply(compute_direction_changes)\n",
    "\n",
    "bbox_results = df.apply(lambda row: compute_bounding_box(row[\"x\"], row[\"y\"]), axis=1)\n",
    "df[\"bounding_box\"] = bbox_results.apply(lambda x: x[0])\n",
    "df[\"bbox_area\"] = bbox_results.apply(lambda x: x[1])\n",
    "\n",
    "df[\"avg_speed\"] = df.apply(lambda row: compute_avg_speed(row[\"x\"], row[\"y\"]), axis=1)\n",
    "df[\"avg_acceleration\"] = compute_avg_acceleration(df[\"avg_speed\"])\n",
    "\n",
    "df[\"mouse_idle_ratio\"] = df[\"x\"].apply(compute_idle_ratio)\n",
    "df[\"movement_entropy\"] = df[\"x\"].apply(compute_entropy)\n",
    "df[\"linearity\"] = df.apply(lambda row: compute_linearity(row[\"x\"], row[\"y\"]), axis=1)\n",
    "\n"
   ]
  },
  {
   "cell_type": "code",
   "execution_count": null,
   "id": "172fc706-cbad-4d94-a05f-be200458e9a8",
   "metadata": {
    "papermill": {
     "duration": null,
     "end_time": null,
     "exception": null,
     "start_time": null,
     "status": "completed"
    },
    "tags": []
   },
   "outputs": [],
   "source": [
    "df.to_csv(output_path, index=False)\n",
    "print(f\"✔️ Saved to {output_path}\")\n"
   ]
  }
 ],
 "metadata": {
  "kernelspec": {
   "display_name": "ai-demo",
   "language": "python",
   "name": "ai-demo"
  },
  "language_info": {
   "codemirror_mode": {
    "name": "ipython",
    "version": 3
   },
   "file_extension": ".py",
   "mimetype": "text/x-python",
   "name": "python",
   "nbconvert_exporter": "python",
   "pygments_lexer": "ipython3",
   "version": "3.12.7"
  },
  "papermill": {
   "default_parameters": {},
   "duration": 77.585622,
   "end_time": "2025-07-02T23:31:35.040592",
   "environment_variables": {},
   "exception": null,
   "input_path": "C:\\store\\git\\km-stat-activity\\analysis\\scripts\\feature-engineering\\real_feature_extraction.ipynb",
   "output_path": "C:\\store\\git\\km-stat-activity\\analysis\\scripts\\feature-engineering\\runs\\real_feature_extraction_20250422.ipynb",
   "parameters": {
    "input_path": "C:\\store\\git\\km-stat-activity\\data\\real\\km_stat_nature_20250422.csv",
    "output_path": "C:\\store\\git\\km-stat-activity\\data\\real\\km_stat_nature_20250422_features.csv"
   },
   "start_time": "2025-07-02T23:30:17.454970",
   "version": "2.6.0"
  }
 },
 "nbformat": 4,
 "nbformat_minor": 5
}