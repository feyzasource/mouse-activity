{
 "cells": [
  {
   "cell_type": "markdown",
   "id": "7eea77bf",
   "metadata": {
    "papermill": {
     "duration": 0.001374,
     "end_time": "2025-06-30T23:37:51.897563",
     "exception": false,
     "start_time": "2025-06-30T23:37:51.896189",
     "status": "completed"
    },
    "tags": [
     "parameters"
    ]
   },
   "source": [
    "# Compute Average Mouse Speed (Math.hypot) and Save to CSV\n",
    "This notebook reads the CSV, computes the average mouse speed (pixels/second) using Python's `math.hypot`, adds it as a new column `avg_speed`, and overwrites the original CSV."
   ]
  },
  {
   "cell_type": "code",
   "execution_count": 1,
   "id": "13a3105b",
   "metadata": {
    "execution": {
     "iopub.execute_input": "2025-06-30T23:37:51.900451Z",
     "iopub.status.busy": "2025-06-30T23:37:51.900451Z",
     "iopub.status.idle": "2025-06-30T23:37:51.903334Z",
     "shell.execute_reply": "2025-06-30T23:37:51.903334Z"
    },
    "papermill": {
     "duration": 0.005831,
     "end_time": "2025-06-30T23:37:51.904595",
     "exception": false,
     "start_time": "2025-06-30T23:37:51.898764",
     "status": "completed"
    },
    "tags": [
     "injected-parameters"
    ]
   },
   "outputs": [],
   "source": [
    "# Parameters\n",
    "mode = \"fake\"\n",
    "input_path = [\"C:\\\\store\\\\git\\\\km-stat-activity\\\\parquet_dataset\\\\date=2025-04-21\\\\profile_guid=d4473b7f-80df-4c76-8f70-bf431f4e0415\\\\part.0.parquet\"]\n",
    "output_path = \"C:\\\\store\\\\git\\\\km-stat-activity\\\\processed\\\\fake\\\\profile_guid=d4473b7f-80df-4c76-8f70-bf431f4e0415\\\\2025-04-21-processed.csv\"\n"
   ]
  },
  {
   "cell_type": "code",
   "execution_count": 2,
   "id": "25c0c246-98fa-4a01-9550-9b4f8201a52c",
   "metadata": {
    "execution": {
     "iopub.execute_input": "2025-06-30T23:37:51.907340Z",
     "iopub.status.busy": "2025-06-30T23:37:51.906341Z",
     "iopub.status.idle": "2025-06-30T23:37:51.920573Z",
     "shell.execute_reply": "2025-06-30T23:37:51.920573Z"
    },
    "papermill": {
     "duration": 0.016099,
     "end_time": "2025-06-30T23:37:51.921729",
     "exception": false,
     "start_time": "2025-06-30T23:37:51.905630",
     "status": "completed"
    },
    "tags": []
   },
   "outputs": [],
   "source": [
    "# Parameters\n",
    "try:\n",
    "    mode\n",
    "except NameError:\n",
    "    mode = None\n",
    "\n",
    "try:\n",
    "    input_path\n",
    "except NameError:\n",
    "    input_path = None\n",
    "\n",
    "try:\n",
    "    output_path\n",
    "except NameError:\n",
    "    output_path = None\n",
    "\n"
   ]
  },
  {
   "cell_type": "code",
   "execution_count": 3,
   "id": "68492464",
   "metadata": {
    "execution": {
     "iopub.execute_input": "2025-06-30T23:37:51.923588Z",
     "iopub.status.busy": "2025-06-30T23:37:51.923588Z",
     "iopub.status.idle": "2025-06-30T23:37:52.803244Z",
     "shell.execute_reply": "2025-06-30T23:37:52.803244Z"
    },
    "papermill": {
     "duration": 0.881914,
     "end_time": "2025-06-30T23:37:52.804847",
     "exception": false,
     "start_time": "2025-06-30T23:37:51.922933",
     "status": "completed"
    },
    "tags": []
   },
   "outputs": [
    {
     "name": "stdout",
     "output_type": "stream",
     "text": [
      "✔️ Saved CSV with full df including avg_speed: C:\\store\\git\\km-stat-activity\\processed\\fake\\profile_guid=d4473b7f-80df-4c76-8f70-bf431f4e0415\\2025-04-21-processed.csv\n"
     ]
    }
   ],
   "source": [
    "import os\n",
    "import pandas as pd\n",
    "import numpy as np\n",
    "import math\n",
    "from pathlib import Path\n",
    "import ast\n",
    "\n",
    "# 0. Parametre kontrolü (Papermill ile çalışıyorsa bunlar yukarıdan gelebilir)\n",
    "try:\n",
    "    input_path\n",
    "except NameError:\n",
    "    input_path = None\n",
    "\n",
    "try:\n",
    "    output_path\n",
    "except NameError:\n",
    "    output_path = None\n",
    "\n",
    "# 1. Veri Yükleme fonksiyonu\n",
    "def load_df(input_path, output_path):\n",
    "    if output_path and os.path.exists(output_path):\n",
    "        df = pd.read_csv(output_path)\n",
    "    elif isinstance(input_path, list):\n",
    "        paths = [Path(p) for p in input_path]\n",
    "        df = pd.concat([pd.read_parquet(p, engine=\"pyarrow\") for p in paths], ignore_index=True)\n",
    "    elif input_path:\n",
    "        df = pd.read_csv(input_path)\n",
    "    else:\n",
    "        raise ValueError(\"input_path veya output_path geçerli değil\")\n",
    "    return df\n",
    "\n",
    "# 2. Liste parse fonksiyonu (stringleri listeye çevir)\n",
    "def safe_parse_list(s):\n",
    "    if isinstance(s, list):\n",
    "        return s\n",
    "    try:\n",
    "        parsed = ast.literal_eval(s)\n",
    "        return parsed if isinstance(parsed, list) else []\n",
    "    except Exception:\n",
    "        return []\n",
    "\n",
    "\n",
    "# 3. Ortalama hız hesapla\n",
    "def compute_avg_speed(x, y):\n",
    "    if not x or not y or len(x) < 2:\n",
    "        return 0.0\n",
    "    distances = [math.hypot(x[i+1] - x[i], y[i+1] - y[i]) for i in range(len(x)-1)]\n",
    "    return np.mean(distances)\n",
    "\n",
    "# 4. DataFrame'i yükle\n",
    "df = load_df(input_path, output_path)\n",
    "\n",
    "# 5. .1, .2 gibi tekrar eden sütunları temizle\n",
    "df = df.loc[:, ~df.columns.str.contains(r'\\.\\d+$')]\n",
    "\n",
    "# 6. x ve y'yi parse et\n",
    "if df[\"x\"].dtype == \"object\":\n",
    "    df[\"x\"] = df[\"x\"].apply(safe_parse_list)\n",
    "if df[\"y\"].dtype == \"object\":\n",
    "    df[\"y\"] = df[\"y\"].apply(safe_parse_list)\n",
    "\n",
    "\n",
    "# 7. Ortalama hız hesapla\n",
    "df[\"avg_speed\"] = df.apply(lambda row: compute_avg_speed(row[\"x\"], row[\"y\"]), axis=1)\n",
    "\n",
    "# 8. Sonuç olarak bu df kullanılacak\n",
    "df_result = df\n",
    "\n",
    "# 9. Çıktı dosyasına merge ederek yaz\n",
    "if output_path and os.path.exists(output_path):\n",
    "    df_existing = pd.read_csv(output_path)\n",
    "    df_existing = df_existing.loc[:, ~df_existing.columns.str.contains(r'\\.\\d+$')]  # tekrar eden sütunları temizle\n",
    "    \n",
    "    # Eğer avg_speed zaten varsa üzerine yaz, yoksa ekle\n",
    "    df_existing[\"avg_speed\"] = df_result[\"avg_speed\"].values\n",
    "    df_merged = df_existing\n",
    "else:\n",
    "    df_merged = df_result\n",
    "\n",
    "# 10. Kaydet\n",
    "# 5. Var olan CSV’ye yaz (concat DEĞİL!)\n",
    "df_result.to_csv(output_path, index=False)\n",
    "\n",
    "print(f\"✔️ Saved CSV with full df including avg_speed: {output_path}\")\n"
   ]
  }
 ],
 "metadata": {
  "kernelspec": {
   "display_name": "ai-demo",
   "language": "python",
   "name": "ai-demo"
  },
  "language_info": {
   "codemirror_mode": {
    "name": "ipython",
    "version": 3
   },
   "file_extension": ".py",
   "mimetype": "text/x-python",
   "name": "python",
   "nbconvert_exporter": "python",
   "pygments_lexer": "ipython3",
   "version": "3.12.7"
  },
  "papermill": {
   "default_parameters": {},
   "duration": 2.407711,
   "end_time": "2025-06-30T23:37:53.053001",
   "environment_variables": {},
   "exception": null,
   "input_path": "C:\\store\\git\\km-stat-activity\\analysis\\scripts\\speed\\compute_avg_speed_math_with_full_df.ipynb",
   "output_path": "C:\\store\\git\\km-stat-activity\\analysis\\scripts\\feature-engineering\\runs\\fake_d4473b7f-80df-4c76-8f70-bf431f4e0415_2025-04-21_compute_avg_speed_math_with_full_df.ipynb",
   "parameters": {
    "input_path": [
     "C:\\store\\git\\km-stat-activity\\parquet_dataset\\date=2025-04-21\\profile_guid=d4473b7f-80df-4c76-8f70-bf431f4e0415\\part.0.parquet"
    ],
    "mode": "fake",
    "output_path": "C:\\store\\git\\km-stat-activity\\processed\\fake\\profile_guid=d4473b7f-80df-4c76-8f70-bf431f4e0415\\2025-04-21-processed.csv"
   },
   "start_time": "2025-06-30T23:37:50.645290",
   "version": "2.6.0"
  }
 },
 "nbformat": 4,
 "nbformat_minor": 5
}