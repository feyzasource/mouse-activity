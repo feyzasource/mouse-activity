{
 "cells": [
  {
   "cell_type": "markdown",
   "id": "fe5997d1",
   "metadata": {
    "papermill": {
     "duration": 0.001138,
     "end_time": "2025-07-01T01:32:40.342249",
     "exception": false,
     "start_time": "2025-07-01T01:32:40.341111",
     "status": "completed"
    },
    "tags": [
     "parameters"
    ]
   },
   "source": [
    "# Compute Mouse Movement Linearity\n",
    "\n",
    "Provide your CSV file path in the `input_path` variable below,\n",
    "then run all cells to compute the `linearity` metric and save a new CSV."
   ]
  },
  {
   "cell_type": "code",
   "execution_count": 1,
   "id": "4322b3d8",
   "metadata": {
    "execution": {
     "iopub.execute_input": "2025-07-01T01:32:40.345636Z",
     "iopub.status.busy": "2025-07-01T01:32:40.344637Z",
     "iopub.status.idle": "2025-07-01T01:32:40.348510Z",
     "shell.execute_reply": "2025-07-01T01:32:40.348510Z"
    },
    "papermill": {
     "duration": 0.00611,
     "end_time": "2025-07-01T01:32:40.349590",
     "exception": false,
     "start_time": "2025-07-01T01:32:40.343480",
     "status": "completed"
    },
    "tags": [
     "injected-parameters"
    ]
   },
   "outputs": [],
   "source": [
    "# Parameters\n",
    "mode = \"fake\"\n",
    "input_path = [\"C:\\\\store\\\\git\\\\km-stat-activity\\\\parquet_dataset\\\\date=2025-04-23\\\\profile_guid=6efde073-786f-497a-9091-d9d9a91aa07f\\\\part.17.parquet\"]\n",
    "output_path = \"C:\\\\store\\\\git\\\\km-stat-activity\\\\processed\\\\fake\\\\profile_guid=6efde073-786f-497a-9091-d9d9a91aa07f\\\\2025-04-23-processed.csv\"\n"
   ]
  },
  {
   "cell_type": "code",
   "execution_count": 2,
   "id": "4306a02b-663c-4274-9d36-dde1c51cbb41",
   "metadata": {
    "execution": {
     "iopub.execute_input": "2025-07-01T01:32:40.353515Z",
     "iopub.status.busy": "2025-07-01T01:32:40.353515Z",
     "iopub.status.idle": "2025-07-01T01:32:40.371231Z",
     "shell.execute_reply": "2025-07-01T01:32:40.371231Z"
    },
    "papermill": {
     "duration": 0.020238,
     "end_time": "2025-07-01T01:32:40.372505",
     "exception": false,
     "start_time": "2025-07-01T01:32:40.352267",
     "status": "completed"
    },
    "tags": []
   },
   "outputs": [],
   "source": [
    "# Parameters\n",
    "try:\n",
    "    mode\n",
    "except NameError:\n",
    "    mode = None\n",
    "\n",
    "try:\n",
    "    input_path\n",
    "except NameError:\n",
    "    input_path = None\n",
    "\n",
    "try:\n",
    "    output_path\n",
    "except NameError:\n",
    "    output_path = None\n",
    "\n"
   ]
  },
  {
   "cell_type": "code",
   "execution_count": 3,
   "id": "2a9baf5c",
   "metadata": {
    "execution": {
     "iopub.execute_input": "2025-07-01T01:32:40.374236Z",
     "iopub.status.busy": "2025-07-01T01:32:40.374236Z",
     "iopub.status.idle": "2025-07-01T01:32:41.213208Z",
     "shell.execute_reply": "2025-07-01T01:32:41.213208Z"
    },
    "papermill": {
     "duration": 0.840986,
     "end_time": "2025-07-01T01:32:41.214556",
     "exception": false,
     "start_time": "2025-07-01T01:32:40.373570",
     "status": "completed"
    },
    "tags": []
   },
   "outputs": [
    {
     "name": "stdout",
     "output_type": "stream",
     "text": [
      "✔️ Saved CSV with full df including linearity: C:\\store\\git\\km-stat-activity\\processed\\fake\\profile_guid=6efde073-786f-497a-9091-d9d9a91aa07f\\2025-04-23-processed.csv\n"
     ]
    }
   ],
   "source": [
    "import os\n",
    "import pandas as pd\n",
    "from pathlib import Path\n",
    "import ast\n",
    "import numpy as np\n",
    "\n",
    "# 1. Veri yükleme fonksiyonu\n",
    "def load_df(input_path, output_path):\n",
    "    if output_path and os.path.exists(output_path):\n",
    "        df = pd.read_csv(output_path)\n",
    "    elif isinstance(input_path, list):\n",
    "        paths = [Path(p) for p in input_path]\n",
    "        df = pd.concat([pd.read_parquet(p, engine=\"pyarrow\") for p in paths], ignore_index=True)\n",
    "    elif input_path:\n",
    "        df = pd.read_csv(input_path)\n",
    "    else:\n",
    "        raise ValueError(\"input_path veya output_path geçerli değil\")\n",
    "    return df\n",
    "\n",
    "df = load_df(input_path, output_path)\n",
    "\n",
    "# 2. .1, .2 gibi tekrar eden sütunları temizle\n",
    "df = df.loc[:, ~df.columns.str.contains(r'\\.\\d+$')]\n",
    "\n",
    "# 3. Liste formatını düzelt\n",
    "def safe_parse_list(s):\n",
    "    if isinstance(s, list):\n",
    "        return s\n",
    "    try:\n",
    "        return list(ast.literal_eval(s))\n",
    "    except:\n",
    "        return []\n",
    "\n",
    "df[\"x\"] = df[\"x\"].apply(safe_parse_list)\n",
    "df[\"y\"] = df[\"y\"].apply(safe_parse_list)\n",
    "\n",
    "# 4. Linearity hesapla\n",
    "def compute_linearity(x, y):\n",
    "    if not x or not y or len(x) < 2:\n",
    "        return 0.0\n",
    "    path_dist = np.sum(np.sqrt(np.diff(x)**2 + np.diff(y)**2))\n",
    "    straight_dist = np.sqrt((x[-1] - x[0])**2 + (y[-1] - y[0])**2)\n",
    "    return straight_dist / path_dist if path_dist != 0 else 0.0\n",
    "\n",
    "df[\"linearity\"] = df.apply(lambda row: compute_linearity(row[\"x\"], row[\"y\"]), axis=1)\n",
    "\n",
    "# 5. Yaz\n",
    "df_result = df\n",
    "df_result.to_csv(output_path, index=False)\n",
    "print(f\"✔️ Saved CSV with full df including linearity: {output_path}\")\n"
   ]
  }
 ],
 "metadata": {
  "kernelspec": {
   "display_name": "ai-demo",
   "language": "python",
   "name": "ai-demo"
  },
  "language_info": {
   "codemirror_mode": {
    "name": "ipython",
    "version": 3
   },
   "file_extension": ".py",
   "mimetype": "text/x-python",
   "name": "python",
   "nbconvert_exporter": "python",
   "pygments_lexer": "ipython3",
   "version": "3.12.7"
  },
  "papermill": {
   "default_parameters": {},
   "duration": 2.110326,
   "end_time": "2025-07-01T01:32:41.458879",
   "environment_variables": {},
   "exception": null,
   "input_path": "C:\\store\\git\\km-stat-activity\\analysis\\scripts\\linearity\\compute_linearity_manual_with_full_df.ipynb",
   "output_path": "C:\\store\\git\\km-stat-activity\\analysis\\scripts\\feature-engineering\\runs\\fake_6efde073-786f-497a-9091-d9d9a91aa07f_2025-04-23_compute_linearity_manual_with_full_df.ipynb",
   "parameters": {
    "input_path": [
     "C:\\store\\git\\km-stat-activity\\parquet_dataset\\date=2025-04-23\\profile_guid=6efde073-786f-497a-9091-d9d9a91aa07f\\part.17.parquet"
    ],
    "mode": "fake",
    "output_path": "C:\\store\\git\\km-stat-activity\\processed\\fake\\profile_guid=6efde073-786f-497a-9091-d9d9a91aa07f\\2025-04-23-processed.csv"
   },
   "start_time": "2025-07-01T01:32:39.348553",
   "version": "2.6.0"
  }
 },
 "nbformat": 4,
 "nbformat_minor": 5
}