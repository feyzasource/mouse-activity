{
 "cells": [
  {
   "cell_type": "markdown",
   "id": "fe5997d1",
   "metadata": {
    "papermill": {
     "duration": 0.001098,
     "end_time": "2025-07-01T00:13:35.101994",
     "exception": false,
     "start_time": "2025-07-01T00:13:35.100896",
     "status": "completed"
    },
    "tags": [
     "parameters"
    ]
   },
   "source": [
    "# Compute Mouse Movement Linearity\n",
    "\n",
    "Provide your CSV file path in the `input_path` variable below,\n",
    "then run all cells to compute the `linearity` metric and save a new CSV."
   ]
  },
  {
   "cell_type": "code",
   "execution_count": 1,
   "id": "7f10623f",
   "metadata": {
    "execution": {
     "iopub.execute_input": "2025-07-01T00:13:35.105659Z",
     "iopub.status.busy": "2025-07-01T00:13:35.104659Z",
     "iopub.status.idle": "2025-07-01T00:13:35.108522Z",
     "shell.execute_reply": "2025-07-01T00:13:35.108522Z"
    },
    "papermill": {
     "duration": 0.006163,
     "end_time": "2025-07-01T00:13:35.109848",
     "exception": false,
     "start_time": "2025-07-01T00:13:35.103685",
     "status": "completed"
    },
    "tags": [
     "injected-parameters"
    ]
   },
   "outputs": [],
   "source": [
    "# Parameters\n",
    "mode = \"fake\"\n",
    "input_path = [\"C:\\\\store\\\\git\\\\km-stat-activity\\\\parquet_dataset\\\\date=2025-04-22\\\\profile_guid=5647ea9d-3478-4d5a-b994-00758189ac0c\\\\part.8.parquet\"]\n",
    "output_path = \"C:\\\\store\\\\git\\\\km-stat-activity\\\\processed\\\\fake\\\\profile_guid=5647ea9d-3478-4d5a-b994-00758189ac0c\\\\2025-04-22-processed.csv\"\n"
   ]
  },
  {
   "cell_type": "code",
   "execution_count": 2,
   "id": "4306a02b-663c-4274-9d36-dde1c51cbb41",
   "metadata": {
    "execution": {
     "iopub.execute_input": "2025-07-01T00:13:35.112527Z",
     "iopub.status.busy": "2025-07-01T00:13:35.111527Z",
     "iopub.status.idle": "2025-07-01T00:13:35.134713Z",
     "shell.execute_reply": "2025-07-01T00:13:35.134713Z"
    },
    "papermill": {
     "duration": 0.025184,
     "end_time": "2025-07-01T00:13:35.136068",
     "exception": false,
     "start_time": "2025-07-01T00:13:35.110884",
     "status": "completed"
    },
    "tags": []
   },
   "outputs": [],
   "source": [
    "# Parameters\n",
    "try:\n",
    "    mode\n",
    "except NameError:\n",
    "    mode = None\n",
    "\n",
    "try:\n",
    "    input_path\n",
    "except NameError:\n",
    "    input_path = None\n",
    "\n",
    "try:\n",
    "    output_path\n",
    "except NameError:\n",
    "    output_path = None\n",
    "\n"
   ]
  },
  {
   "cell_type": "code",
   "execution_count": 3,
   "id": "2a9baf5c",
   "metadata": {
    "execution": {
     "iopub.execute_input": "2025-07-01T00:13:35.138926Z",
     "iopub.status.busy": "2025-07-01T00:13:35.137927Z",
     "iopub.status.idle": "2025-07-01T00:13:36.011184Z",
     "shell.execute_reply": "2025-07-01T00:13:36.011184Z"
    },
    "papermill": {
     "duration": 0.875483,
     "end_time": "2025-07-01T00:13:36.012726",
     "exception": false,
     "start_time": "2025-07-01T00:13:35.137243",
     "status": "completed"
    },
    "tags": []
   },
   "outputs": [
    {
     "name": "stdout",
     "output_type": "stream",
     "text": [
      "✔️ Saved CSV with full df including linearity: C:\\store\\git\\km-stat-activity\\processed\\fake\\profile_guid=5647ea9d-3478-4d5a-b994-00758189ac0c\\2025-04-22-processed.csv\n"
     ]
    }
   ],
   "source": [
    "import os\n",
    "import pandas as pd\n",
    "from pathlib import Path\n",
    "import ast\n",
    "import numpy as np\n",
    "\n",
    "# 1. Veri yükleme fonksiyonu\n",
    "def load_df(input_path, output_path):\n",
    "    if output_path and os.path.exists(output_path):\n",
    "        df = pd.read_csv(output_path)\n",
    "    elif isinstance(input_path, list):\n",
    "        paths = [Path(p) for p in input_path]\n",
    "        df = pd.concat([pd.read_parquet(p, engine=\"pyarrow\") for p in paths], ignore_index=True)\n",
    "    elif input_path:\n",
    "        df = pd.read_csv(input_path)\n",
    "    else:\n",
    "        raise ValueError(\"input_path veya output_path geçerli değil\")\n",
    "    return df\n",
    "\n",
    "df = load_df(input_path, output_path)\n",
    "\n",
    "# 2. .1, .2 gibi tekrar eden sütunları temizle\n",
    "df = df.loc[:, ~df.columns.str.contains(r'\\.\\d+$')]\n",
    "\n",
    "# 3. Liste formatını düzelt\n",
    "def safe_parse_list(s):\n",
    "    if isinstance(s, list):\n",
    "        return s\n",
    "    try:\n",
    "        return list(ast.literal_eval(s))\n",
    "    except:\n",
    "        return []\n",
    "\n",
    "df[\"x\"] = df[\"x\"].apply(safe_parse_list)\n",
    "df[\"y\"] = df[\"y\"].apply(safe_parse_list)\n",
    "\n",
    "# 4. Linearity hesapla\n",
    "def compute_linearity(x, y):\n",
    "    if not x or not y or len(x) < 2:\n",
    "        return 0.0\n",
    "    path_dist = np.sum(np.sqrt(np.diff(x)**2 + np.diff(y)**2))\n",
    "    straight_dist = np.sqrt((x[-1] - x[0])**2 + (y[-1] - y[0])**2)\n",
    "    return straight_dist / path_dist if path_dist != 0 else 0.0\n",
    "\n",
    "df[\"linearity\"] = df.apply(lambda row: compute_linearity(row[\"x\"], row[\"y\"]), axis=1)\n",
    "\n",
    "# 5. Yaz\n",
    "df_result = df\n",
    "df_result.to_csv(output_path, index=False)\n",
    "print(f\"✔️ Saved CSV with full df including linearity: {output_path}\")\n"
   ]
  }
 ],
 "metadata": {
  "kernelspec": {
   "display_name": "ai-demo",
   "language": "python",
   "name": "ai-demo"
  },
  "language_info": {
   "codemirror_mode": {
    "name": "ipython",
    "version": 3
   },
   "file_extension": ".py",
   "mimetype": "text/x-python",
   "name": "python",
   "nbconvert_exporter": "python",
   "pygments_lexer": "ipython3",
   "version": "3.12.7"
  },
  "papermill": {
   "default_parameters": {},
   "duration": 2.261114,
   "end_time": "2025-07-01T00:13:36.359638",
   "environment_variables": {},
   "exception": null,
   "input_path": "C:\\store\\git\\km-stat-activity\\analysis\\scripts\\linearity\\compute_linearity_manual_with_full_df.ipynb",
   "output_path": "C:\\store\\git\\km-stat-activity\\analysis\\scripts\\feature-engineering\\runs\\fake_5647ea9d-3478-4d5a-b994-00758189ac0c_2025-04-22_compute_linearity_manual_with_full_df.ipynb",
   "parameters": {
    "input_path": [
     "C:\\store\\git\\km-stat-activity\\parquet_dataset\\date=2025-04-22\\profile_guid=5647ea9d-3478-4d5a-b994-00758189ac0c\\part.8.parquet"
    ],
    "mode": "fake",
    "output_path": "C:\\store\\git\\km-stat-activity\\processed\\fake\\profile_guid=5647ea9d-3478-4d5a-b994-00758189ac0c\\2025-04-22-processed.csv"
   },
   "start_time": "2025-07-01T00:13:34.098524",
   "version": "2.6.0"
  }
 },
 "nbformat": 4,
 "nbformat_minor": 5
}