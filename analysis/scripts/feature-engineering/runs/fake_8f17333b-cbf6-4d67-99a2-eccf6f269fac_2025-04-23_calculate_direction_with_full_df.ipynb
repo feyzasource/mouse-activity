{
 "cells": [
  {
   "cell_type": "code",
   "execution_count": 1,
   "id": "f1221e0e-3548-4685-8d59-c73da95f71cb",
   "metadata": {
    "execution": {
     "iopub.execute_input": "2025-07-01T01:42:04.689158Z",
     "iopub.status.busy": "2025-07-01T01:42:04.689158Z",
     "iopub.status.idle": "2025-07-01T01:42:04.695081Z",
     "shell.execute_reply": "2025-07-01T01:42:04.695081Z"
    },
    "papermill": {
     "duration": 0.013456,
     "end_time": "2025-07-01T01:42:04.696818",
     "exception": false,
     "start_time": "2025-07-01T01:42:04.683362",
     "status": "completed"
    },
    "tags": [
     "parameters"
    ]
   },
   "outputs": [],
   "source": [
    "# Parameters\n",
    "try:\n",
    "    mode\n",
    "except NameError:\n",
    "    mode = None\n",
    "\n",
    "try:\n",
    "    input_path\n",
    "except NameError:\n",
    "    input_path = None\n",
    "\n",
    "try:\n",
    "    output_path\n",
    "except NameError:\n",
    "    output_path = None\n",
    "\n"
   ]
  },
  {
   "cell_type": "code",
   "execution_count": 2,
   "id": "fc205ede",
   "metadata": {
    "execution": {
     "iopub.execute_input": "2025-07-01T01:42:04.699105Z",
     "iopub.status.busy": "2025-07-01T01:42:04.699105Z",
     "iopub.status.idle": "2025-07-01T01:42:04.713525Z",
     "shell.execute_reply": "2025-07-01T01:42:04.713525Z"
    },
    "papermill": {
     "duration": 0.016436,
     "end_time": "2025-07-01T01:42:04.714746",
     "exception": false,
     "start_time": "2025-07-01T01:42:04.698310",
     "status": "completed"
    },
    "tags": [
     "injected-parameters"
    ]
   },
   "outputs": [],
   "source": [
    "# Parameters\n",
    "mode = \"fake\"\n",
    "input_path = [\"C:\\\\store\\\\git\\\\km-stat-activity\\\\parquet_dataset\\\\date=2025-04-23\\\\profile_guid=8f17333b-cbf6-4d67-99a2-eccf6f269fac\\\\part.15.parquet\"]\n",
    "output_path = \"C:\\\\store\\\\git\\\\km-stat-activity\\\\processed\\\\fake\\\\profile_guid=8f17333b-cbf6-4d67-99a2-eccf6f269fac\\\\2025-04-23-processed.csv\"\n"
   ]
  },
  {
   "cell_type": "code",
   "execution_count": 3,
   "id": "4054fe23",
   "metadata": {
    "execution": {
     "iopub.execute_input": "2025-07-01T01:42:04.716561Z",
     "iopub.status.busy": "2025-07-01T01:42:04.716561Z",
     "iopub.status.idle": "2025-07-01T01:42:05.586308Z",
     "shell.execute_reply": "2025-07-01T01:42:05.585804Z"
    },
    "papermill": {
     "duration": 0.871133,
     "end_time": "2025-07-01T01:42:05.587082",
     "exception": false,
     "start_time": "2025-07-01T01:42:04.715949",
     "status": "completed"
    },
    "tags": []
   },
   "outputs": [
    {
     "name": "stdout",
     "output_type": "stream",
     "text": [
      "✔️ Saved CSV with full df including direction changes: C:\\store\\git\\km-stat-activity\\processed\\fake\\profile_guid=8f17333b-cbf6-4d67-99a2-eccf6f269fac\\2025-04-23-processed.csv\n"
     ]
    }
   ],
   "source": [
    "\n",
    "import os\n",
    "import pandas as pd\n",
    "from pathlib import Path\n",
    "import ast\n",
    "\n",
    "# output_path tanımlı olmalı\n",
    "output_path = str(output_path)\n",
    "\n",
    "# Eğer df daha önce tanımlandıysa tekrar yükleme\n",
    "if \"df\" not in globals():\n",
    "    if isinstance(input_path, list):\n",
    "        paths = [Path(p) for p in input_path]\n",
    "        df = pd.concat([pd.read_parquet(p, engine=\"pyarrow\") for p in paths], ignore_index=True)\n",
    "    else:\n",
    "        df = pd.read_csv(str(input_path),\n",
    "                         converters={\"x\": pd.eval, \"y\": pd.eval},\n",
    "                         parse_dates=['start_date_time', 'end_date_time'])\n",
    "# x ve y listelerinin güvenli parse edilmesi (string ise)\n",
    "def safe_parse_list(s):\n",
    "    try:\n",
    "        parsed = ast.literal_eval(s)\n",
    "        return list(parsed)\n",
    "    except Exception:\n",
    "        return []\n",
    "\n",
    "df['x'] = df['x'].apply(safe_parse_list)\n",
    "df['y'] = df['y'].apply(safe_parse_list)\n",
    "\n",
    "# Yön değişimlerini hesapla\n",
    "def count_direction_changes(arr):\n",
    "    count = 0\n",
    "    for i in range(2, len(arr)):\n",
    "        diff1 = arr[i-1] - arr[i-2]\n",
    "        diff2 = arr[i] - arr[i-1]\n",
    "        if diff1 * diff2 < 0:\n",
    "            count += 1\n",
    "    return count\n",
    "\n",
    "df[\"x_direction_changes\"] = df[\"x\"].apply(count_direction_changes)\n",
    "df[\"y_direction_changes\"] = df[\"y\"].apply(count_direction_changes)\n",
    "\n",
    "# df'nin tamamını çıktı olarak al\n",
    "df_result = df\n",
    "\n",
    "# .1, .2 gibi tekrar sütunları engelle\n",
    "df_result = df_result.loc[:, ~df_result.columns.str.contains(r'\\.\\d+$')]\n",
    "\n",
    "\n",
    "# CSV’ye yaz (mevcutsa sütun olarak ekle)\n",
    "if os.path.exists(output_path):\n",
    "    df_existing = pd.read_csv(output_path)\n",
    "    df_merged = pd.concat(\n",
    "        [df_existing.reset_index(drop=True), df_result.reset_index(drop=True)],\n",
    "        axis=1\n",
    "    )\n",
    "else:\n",
    "    df_merged = df_result\n",
    "\n",
    "df_merged.to_csv(output_path, index=False)\n",
    "print(f\"✔️ Saved CSV with full df including direction changes: {output_path}\")\n"
   ]
  }
 ],
 "metadata": {
  "kernelspec": {
   "display_name": "ai-demo",
   "language": "python",
   "name": "ai-demo"
  },
  "language_info": {
   "codemirror_mode": {
    "name": "ipython",
    "version": 3
   },
   "file_extension": ".py",
   "mimetype": "text/x-python",
   "name": "python",
   "nbconvert_exporter": "python",
   "pygments_lexer": "ipython3",
   "version": "3.12.7"
  },
  "papermill": {
   "default_parameters": {},
   "duration": 2.164608,
   "end_time": "2025-07-01T01:42:05.843726",
   "environment_variables": {},
   "exception": null,
   "input_path": "C:\\store\\git\\km-stat-activity\\analysis\\scripts\\directional_change\\calculate_direction_with_full_df.ipynb",
   "output_path": "C:\\store\\git\\km-stat-activity\\analysis\\scripts\\feature-engineering\\runs\\fake_8f17333b-cbf6-4d67-99a2-eccf6f269fac_2025-04-23_calculate_direction_with_full_df.ipynb",
   "parameters": {
    "input_path": [
     "C:\\store\\git\\km-stat-activity\\parquet_dataset\\date=2025-04-23\\profile_guid=8f17333b-cbf6-4d67-99a2-eccf6f269fac\\part.15.parquet"
    ],
    "mode": "fake",
    "output_path": "C:\\store\\git\\km-stat-activity\\processed\\fake\\profile_guid=8f17333b-cbf6-4d67-99a2-eccf6f269fac\\2025-04-23-processed.csv"
   },
   "start_time": "2025-07-01T01:42:03.679118",
   "version": "2.6.0"
  }
 },
 "nbformat": 4,
 "nbformat_minor": 5
}