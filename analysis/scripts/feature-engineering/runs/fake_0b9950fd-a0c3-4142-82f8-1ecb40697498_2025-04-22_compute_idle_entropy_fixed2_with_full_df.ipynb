{
 "cells": [
  {
   "cell_type": "markdown",
   "id": "c42fd5a5",
   "metadata": {
    "papermill": {
     "duration": 0.001266,
     "end_time": "2025-06-30T23:53:19.091302",
     "exception": false,
     "start_time": "2025-06-30T23:53:19.090036",
     "status": "completed"
    },
    "tags": [
     "parameters"
    ]
   },
   "source": [
    "# Fix Multi-line & Missing Commas in x/y and Compute Idle Ratio & Movement Entropy\n",
    "This notebook:\n",
    "1. Reads your processed CSV\n",
    "2. Preprocesses x/y list strings to ensure commas between numbers\n",
    "3. Uses `ast.literal_eval` to parse into Python lists\n",
    "4. Computes `mouse_idle_ratio` and `movement_entropy`\n",
    "5. Writes new CSV with `_with_idle_entropy_fixed2` suffix"
   ]
  },
  {
   "cell_type": "code",
   "execution_count": 1,
   "id": "5f9577ba",
   "metadata": {
    "execution": {
     "iopub.execute_input": "2025-06-30T23:53:19.093459Z",
     "iopub.status.busy": "2025-06-30T23:53:19.093459Z",
     "iopub.status.idle": "2025-06-30T23:53:19.096847Z",
     "shell.execute_reply": "2025-06-30T23:53:19.096847Z"
    },
    "papermill": {
     "duration": 0.005749,
     "end_time": "2025-06-30T23:53:19.098127",
     "exception": false,
     "start_time": "2025-06-30T23:53:19.092378",
     "status": "completed"
    },
    "tags": [
     "injected-parameters"
    ]
   },
   "outputs": [],
   "source": [
    "# Parameters\n",
    "mode = \"fake\"\n",
    "input_path = [\"C:\\\\store\\\\git\\\\km-stat-activity\\\\parquet_dataset\\\\date=2025-04-22\\\\profile_guid=0b9950fd-a0c3-4142-82f8-1ecb40697498\\\\part.13.parquet\"]\n",
    "output_path = \"C:\\\\store\\\\git\\\\km-stat-activity\\\\processed\\\\fake\\\\profile_guid=0b9950fd-a0c3-4142-82f8-1ecb40697498\\\\2025-04-22-processed.csv\"\n"
   ]
  },
  {
   "cell_type": "code",
   "execution_count": 2,
   "id": "c6ad4285-28fb-4671-80ba-97ba1789c832",
   "metadata": {
    "execution": {
     "iopub.execute_input": "2025-06-30T23:53:19.099852Z",
     "iopub.status.busy": "2025-06-30T23:53:19.099852Z",
     "iopub.status.idle": "2025-06-30T23:53:19.121298Z",
     "shell.execute_reply": "2025-06-30T23:53:19.121298Z"
    },
    "papermill": {
     "duration": 0.023363,
     "end_time": "2025-06-30T23:53:19.122479",
     "exception": false,
     "start_time": "2025-06-30T23:53:19.099116",
     "status": "completed"
    },
    "tags": []
   },
   "outputs": [],
   "source": [
    "# Parameters\n",
    "try:\n",
    "    mode\n",
    "except NameError:\n",
    "    mode = None\n",
    "\n",
    "try:\n",
    "    input_path\n",
    "except NameError:\n",
    "    input_path = None\n",
    "\n",
    "try:\n",
    "    output_path\n",
    "except NameError:\n",
    "    output_path = None\n",
    "\n"
   ]
  },
  {
   "cell_type": "code",
   "execution_count": 3,
   "id": "943f7737",
   "metadata": {
    "execution": {
     "iopub.execute_input": "2025-06-30T23:53:19.126303Z",
     "iopub.status.busy": "2025-06-30T23:53:19.125302Z",
     "iopub.status.idle": "2025-06-30T23:53:20.011927Z",
     "shell.execute_reply": "2025-06-30T23:53:20.011927Z"
    },
    "papermill": {
     "duration": 0.889691,
     "end_time": "2025-06-30T23:53:20.013666",
     "exception": false,
     "start_time": "2025-06-30T23:53:19.123975",
     "status": "completed"
    },
    "tags": []
   },
   "outputs": [
    {
     "name": "stdout",
     "output_type": "stream",
     "text": [
      "✔️ Saved CSV with full df including idle ratio and entropy: C:\\store\\git\\km-stat-activity\\processed\\fake\\profile_guid=0b9950fd-a0c3-4142-82f8-1ecb40697498\\2025-04-22-processed.csv\n"
     ]
    }
   ],
   "source": [
    "import os\n",
    "import pandas as pd\n",
    "from pathlib import Path\n",
    "import ast\n",
    "import numpy as np\n",
    "\n",
    "# 1. Veri Yükleme fonksiyonu\n",
    "def load_df(input_path, output_path):\n",
    "    if output_path and os.path.exists(output_path):\n",
    "        df = pd.read_csv(output_path)\n",
    "    elif isinstance(input_path, list):\n",
    "        paths = [Path(p) for p in input_path]\n",
    "        df = pd.concat([pd.read_parquet(p, engine=\"pyarrow\") for p in paths], ignore_index=True)\n",
    "    elif input_path:\n",
    "        df = pd.read_csv(input_path)\n",
    "    else:\n",
    "        raise ValueError(\"input_path veya output_path geçerli değil\")\n",
    "    return df\n",
    "\n",
    "df = load_df(input_path, output_path)\n",
    "\n",
    "# .1, .2 gibi tekrar eden sütunları temizle\n",
    "df = df.loc[:, ~df.columns.str.contains(r'\\.\\d+$')]\n",
    "\n",
    "# x ve y stringlerini listeye dönüştür\n",
    "def safe_parse_list(s):\n",
    "    if isinstance(s, list):\n",
    "        return s\n",
    "    try:\n",
    "        return list(ast.literal_eval(s))\n",
    "    except:\n",
    "        return []\n",
    "\n",
    "df['x'] = df['x'].apply(safe_parse_list)\n",
    "df['y'] = df['y'].apply(safe_parse_list)\n",
    "\n",
    "# Idle hareket süresi oranı\n",
    "def compute_idle_ratio(x):\n",
    "    if not x or len(x) < 2:\n",
    "        return 1.0\n",
    "    diffs = np.diff(x)\n",
    "    idle_count = np.sum(diffs == 0)\n",
    "    return idle_count / len(diffs)\n",
    "\n",
    "df[\"mouse_idle_ratio\"] = df[\"x\"].apply(compute_idle_ratio)\n",
    "\n",
    "# Hareket entropisi\n",
    "def movement_entropy(x):\n",
    "    if not x or len(x) < 2:\n",
    "        return 0.0\n",
    "    diffs = np.diff(x)\n",
    "    values, counts = np.unique(diffs, return_counts=True)\n",
    "    probabilities = counts / counts.sum()\n",
    "    return -np.sum(probabilities * np.log2(probabilities))\n",
    "\n",
    "df[\"movement_entropy\"] = df[\"x\"].apply(movement_entropy)\n",
    "\n",
    "# 5. Sonuçları CSV’ye yaz\n",
    "df_result = df\n",
    "df_result.to_csv(output_path, index=False)\n",
    "print(f\"✔️ Saved CSV with full df including idle ratio and entropy: {output_path}\")\n"
   ]
  }
 ],
 "metadata": {
  "kernelspec": {
   "display_name": "ai-demo",
   "language": "python",
   "name": "ai-demo"
  },
  "language_info": {
   "codemirror_mode": {
    "name": "ipython",
    "version": 3
   },
   "file_extension": ".py",
   "mimetype": "text/x-python",
   "name": "python",
   "nbconvert_exporter": "python",
   "pygments_lexer": "ipython3",
   "version": "3.12.7"
  },
  "papermill": {
   "default_parameters": {},
   "duration": 2.599341,
   "end_time": "2025-06-30T23:53:20.248599",
   "environment_variables": {},
   "exception": null,
   "input_path": "C:\\store\\git\\km-stat-activity\\analysis\\scripts\\idle_entropy\\compute_idle_entropy_fixed2_with_full_df.ipynb",
   "output_path": "C:\\store\\git\\km-stat-activity\\analysis\\scripts\\feature-engineering\\runs\\fake_0b9950fd-a0c3-4142-82f8-1ecb40697498_2025-04-22_compute_idle_entropy_fixed2_with_full_df.ipynb",
   "parameters": {
    "input_path": [
     "C:\\store\\git\\km-stat-activity\\parquet_dataset\\date=2025-04-22\\profile_guid=0b9950fd-a0c3-4142-82f8-1ecb40697498\\part.13.parquet"
    ],
    "mode": "fake",
    "output_path": "C:\\store\\git\\km-stat-activity\\processed\\fake\\profile_guid=0b9950fd-a0c3-4142-82f8-1ecb40697498\\2025-04-22-processed.csv"
   },
   "start_time": "2025-06-30T23:53:17.649258",
   "version": "2.6.0"
  }
 },
 "nbformat": 4,
 "nbformat_minor": 5
}