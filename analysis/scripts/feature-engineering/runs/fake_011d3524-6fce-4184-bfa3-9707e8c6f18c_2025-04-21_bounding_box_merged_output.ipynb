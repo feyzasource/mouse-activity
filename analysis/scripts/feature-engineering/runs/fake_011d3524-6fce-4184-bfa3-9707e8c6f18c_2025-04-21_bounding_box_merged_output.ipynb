{
 "cells": [
  {
   "cell_type": "code",
   "execution_count": 1,
   "id": "b9a4f3a3-ad61-4ed7-83d3-fc0edd3f46ab",
   "metadata": {
    "execution": {
     "iopub.execute_input": "2025-06-30T11:33:22.556173Z",
     "iopub.status.busy": "2025-06-30T11:33:22.555175Z",
     "iopub.status.idle": "2025-06-30T11:33:22.561171Z",
     "shell.execute_reply": "2025-06-30T11:33:22.561171Z"
    },
    "papermill": {
     "duration": 0.011168,
     "end_time": "2025-06-30T11:33:22.562739",
     "exception": false,
     "start_time": "2025-06-30T11:33:22.551571",
     "status": "completed"
    },
    "tags": [
     "parameters"
    ]
   },
   "outputs": [],
   "source": [
    "# Parameters\n",
    "# papermill: parameters\n",
    "# tags: [parameters]\n",
    "\n",
    "mode = None\n",
    "input_path = None\n",
    "output_path = None\n"
   ]
  },
  {
   "cell_type": "code",
   "execution_count": 2,
   "id": "e53011f2",
   "metadata": {
    "execution": {
     "iopub.execute_input": "2025-06-30T11:33:22.565577Z",
     "iopub.status.busy": "2025-06-30T11:33:22.565577Z",
     "iopub.status.idle": "2025-06-30T11:33:22.567716Z",
     "shell.execute_reply": "2025-06-30T11:33:22.567716Z"
    },
    "papermill": {
     "duration": 0.004899,
     "end_time": "2025-06-30T11:33:22.568753",
     "exception": false,
     "start_time": "2025-06-30T11:33:22.563854",
     "status": "completed"
    },
    "tags": [
     "injected-parameters"
    ]
   },
   "outputs": [],
   "source": [
    "# Parameters\n",
    "mode = \"fake\"\n",
    "input_path = [\"C:\\\\store\\\\git\\\\km-stat-activity\\\\parquet_dataset\\\\date=2025-04-21\\\\profile_guid=011d3524-6fce-4184-bfa3-9707e8c6f18c\\\\part.6.parquet\"]\n",
    "output_path = \"C:\\\\store\\\\git\\\\km-stat-activity\\\\processed\\\\fake\\\\profile_guid=011d3524-6fce-4184-bfa3-9707e8c6f18c\\\\2025-04-21-processed.csv\"\n"
   ]
  },
  {
   "cell_type": "code",
   "execution_count": 3,
   "id": "5619cdb4-482b-416e-bebd-d63afc23ae37",
   "metadata": {
    "execution": {
     "iopub.execute_input": "2025-06-30T11:33:22.571722Z",
     "iopub.status.busy": "2025-06-30T11:33:22.570726Z",
     "iopub.status.idle": "2025-06-30T11:33:22.981854Z",
     "shell.execute_reply": "2025-06-30T11:33:22.981854Z"
    },
    "papermill": {
     "duration": 0.413277,
     "end_time": "2025-06-30T11:33:22.983158",
     "exception": false,
     "start_time": "2025-06-30T11:33:22.569881",
     "status": "completed"
    },
    "tags": []
   },
   "outputs": [
    {
     "name": "stdout",
     "output_type": "stream",
     "text": [
      "✅ Bounding‐box eklendi ve kaydedildi: C:\\store\\git\\km-stat-activity\\processed\\fake\\profile_guid=011d3524-6fce-4184-bfa3-9707e8c6f18c\\2025-04-21-processed.csv\n"
     ]
    }
   ],
   "source": [
    "\n",
    "import math\n",
    "import pandas as pd\n",
    "from pathlib import Path\n",
    "import os\n",
    "\n",
    "# Papermill’den gelen parametreler:\n",
    "#   mode: \"fake\" veya \"real\"\n",
    "#   input_path: ya bir liste (parquet yolları) ya da bir string (csv yolu)\n",
    "#   output_path: yazılacak csv’nin tam yolu\n",
    "\n",
    "if isinstance(input_path, list):\n",
    "    # --- Fake pipeline: .parquet dosyalarını birleştir ---\n",
    "    # input_path zaten [\"...part1.parquet\", \"...part2.parquet\", ...]\n",
    "    paths = [Path(p) for p in input_path]\n",
    "    df = pd.concat(\n",
    "        [pd.read_parquet(p, engine=\"pyarrow\") for p in paths],\n",
    "        ignore_index=True\n",
    "    )\n",
    "else:\n",
    "    # --- Real pipeline: tek bir CSV oku ---\n",
    "    csv_path = Path(input_path)\n",
    "    df = pd.read_csv(\n",
    "        csv_path,\n",
    "        converters={\"x\": pd.eval, \"y\": pd.eval},\n",
    "        parse_dates=[\"start_date_time\",\"end_date_time\"]\n",
    "    )\n",
    "\n",
    "# 2) Bounding‐box hesaplayıcı\n",
    "def compute_bbox(xs, ys):\n",
    "    # liste değilse veya boşsa kutu 0,0,0,0 dön\n",
    "    if not isinstance(xs, (list, tuple)) or not isinstance(ys, (list, tuple)):\n",
    "        return (0,0,0,0)\n",
    "    if len(xs) == 0 or len(ys) == 0:\n",
    "        return (0,0,0,0)\n",
    "    return (min(xs), min(ys), max(xs), max(ys))\n",
    "\n",
    "# 3) Satır bazında bounding_box ve area ekleyin\n",
    "#    a) bounding_box sütunu: (min_x, min_y, max_x, max_y)\n",
    "df[\"bounding_box\"] = df.apply(lambda row: compute_bbox(row[\"x\"], row[\"y\"]), axis=1)\n",
    "\n",
    "#    b) area’yı da ayrı sütunlara ayırın\n",
    "bb_df = pd.DataFrame(df[\"bounding_box\"].tolist(), \n",
    "                     columns=[\"min_x\", \"min_y\", \"max_x\", \"max_y\"],\n",
    "                     index=df.index)\n",
    "df = pd.concat([df, bb_df], axis=1)\n",
    "\n",
    "#    c) alanı hesaplayın\n",
    "df[\"bbox_area\"] = (df[\"max_x\"] - df[\"min_x\"]) * (df[\"max_y\"] - df[\"min_y\"])\n",
    "\n",
    "df_result = df[[\"bounding_box\", \"min_x\", \"min_y\", \"max_x\", \"max_y\", \"bbox_area\"]]\n",
    "\n",
    "# df_result zaten hesaplandı varsayılıyor\n",
    "if os.path.exists(output_path):\n",
    "    df_existing = pd.read_csv(output_path)\n",
    "    df_merged = pd.concat(\n",
    "        [df_existing.reset_index(drop=True), df_result.reset_index(drop=True)],\n",
    "        axis=1\n",
    "    )\n",
    "else:\n",
    "    df_merged = df_result\n",
    "\n",
    "df_merged.to_csv(output_path, index=False)\n",
    "print(f\"✅ Bounding‐box eklendi ve kaydedildi: {output_path}\")\n",
    "\n"
   ]
  }
 ],
 "metadata": {
  "kernelspec": {
   "display_name": "ai-demo",
   "language": "python",
   "name": "ai-demo"
  },
  "language_info": {
   "codemirror_mode": {
    "name": "ipython",
    "version": 3
   },
   "file_extension": ".py",
   "mimetype": "text/x-python",
   "name": "python",
   "nbconvert_exporter": "python",
   "pygments_lexer": "ipython3",
   "version": "3.12.7"
  },
  "papermill": {
   "default_parameters": {},
   "duration": 1.95767,
   "end_time": "2025-06-30T11:33:23.218516",
   "environment_variables": {},
   "exception": null,
   "input_path": "C:\\store\\git\\km-stat-activity\\analysis\\scripts\\bounding_box\\bounding_box_merged_output.ipynb",
   "output_path": "C:\\store\\git\\km-stat-activity\\analysis\\scripts\\feature-engineering\\runs\\fake_011d3524-6fce-4184-bfa3-9707e8c6f18c_2025-04-21_bounding_box_merged_output.ipynb",
   "parameters": {
    "input_path": [
     "C:\\store\\git\\km-stat-activity\\parquet_dataset\\date=2025-04-21\\profile_guid=011d3524-6fce-4184-bfa3-9707e8c6f18c\\part.6.parquet"
    ],
    "mode": "fake",
    "output_path": "C:\\store\\git\\km-stat-activity\\processed\\fake\\profile_guid=011d3524-6fce-4184-bfa3-9707e8c6f18c\\2025-04-21-processed.csv"
   },
   "start_time": "2025-06-30T11:33:21.260846",
   "version": "2.6.0"
  }
 },
 "nbformat": 4,
 "nbformat_minor": 5
}