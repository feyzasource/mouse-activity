{
 "cells": [
  {
   "cell_type": "markdown",
   "id": "fe5997d1",
   "metadata": {
    "papermill": {
     "duration": 0.003552,
     "end_time": "2025-07-01T00:12:02.837476",
     "exception": false,
     "start_time": "2025-07-01T00:12:02.833924",
     "status": "completed"
    },
    "tags": [
     "parameters"
    ]
   },
   "source": [
    "# Compute Mouse Movement Linearity\n",
    "\n",
    "Provide your CSV file path in the `input_path` variable below,\n",
    "then run all cells to compute the `linearity` metric and save a new CSV."
   ]
  },
  {
   "cell_type": "code",
   "execution_count": 1,
   "id": "9536a2e3",
   "metadata": {
    "execution": {
     "iopub.execute_input": "2025-07-01T00:12:02.844218Z",
     "iopub.status.busy": "2025-07-01T00:12:02.843710Z",
     "iopub.status.idle": "2025-07-01T00:12:02.849612Z",
     "shell.execute_reply": "2025-07-01T00:12:02.849612Z"
    },
    "papermill": {
     "duration": 0.010885,
     "end_time": "2025-07-01T00:12:02.851328",
     "exception": false,
     "start_time": "2025-07-01T00:12:02.840443",
     "status": "completed"
    },
    "tags": [
     "injected-parameters"
    ]
   },
   "outputs": [],
   "source": [
    "# Parameters\n",
    "mode = \"fake\"\n",
    "input_path = [\"C:\\\\store\\\\git\\\\km-stat-activity\\\\parquet_dataset\\\\date=2025-04-22\\\\profile_guid=4eb64a58-62de-494f-879f-06751e3e7a8a\\\\part.8.parquet\"]\n",
    "output_path = \"C:\\\\store\\\\git\\\\km-stat-activity\\\\processed\\\\fake\\\\profile_guid=4eb64a58-62de-494f-879f-06751e3e7a8a\\\\2025-04-22-processed.csv\"\n"
   ]
  },
  {
   "cell_type": "code",
   "execution_count": 2,
   "id": "4306a02b-663c-4274-9d36-dde1c51cbb41",
   "metadata": {
    "execution": {
     "iopub.execute_input": "2025-07-01T00:12:02.853617Z",
     "iopub.status.busy": "2025-07-01T00:12:02.853617Z",
     "iopub.status.idle": "2025-07-01T00:12:02.862259Z",
     "shell.execute_reply": "2025-07-01T00:12:02.862259Z"
    },
    "papermill": {
     "duration": 0.010891,
     "end_time": "2025-07-01T00:12:02.863500",
     "exception": false,
     "start_time": "2025-07-01T00:12:02.852609",
     "status": "completed"
    },
    "tags": []
   },
   "outputs": [],
   "source": [
    "# Parameters\n",
    "try:\n",
    "    mode\n",
    "except NameError:\n",
    "    mode = None\n",
    "\n",
    "try:\n",
    "    input_path\n",
    "except NameError:\n",
    "    input_path = None\n",
    "\n",
    "try:\n",
    "    output_path\n",
    "except NameError:\n",
    "    output_path = None\n",
    "\n"
   ]
  },
  {
   "cell_type": "code",
   "execution_count": 3,
   "id": "2a9baf5c",
   "metadata": {
    "execution": {
     "iopub.execute_input": "2025-07-01T00:12:02.865265Z",
     "iopub.status.busy": "2025-07-01T00:12:02.865265Z",
     "iopub.status.idle": "2025-07-01T00:12:03.691789Z",
     "shell.execute_reply": "2025-07-01T00:12:03.691789Z"
    },
    "papermill": {
     "duration": 0.828705,
     "end_time": "2025-07-01T00:12:03.693299",
     "exception": false,
     "start_time": "2025-07-01T00:12:02.864594",
     "status": "completed"
    },
    "tags": []
   },
   "outputs": [
    {
     "name": "stdout",
     "output_type": "stream",
     "text": [
      "✔️ Saved CSV with full df including linearity: C:\\store\\git\\km-stat-activity\\processed\\fake\\profile_guid=4eb64a58-62de-494f-879f-06751e3e7a8a\\2025-04-22-processed.csv\n"
     ]
    }
   ],
   "source": [
    "import os\n",
    "import pandas as pd\n",
    "from pathlib import Path\n",
    "import ast\n",
    "import numpy as np\n",
    "\n",
    "# 1. Veri yükleme fonksiyonu\n",
    "def load_df(input_path, output_path):\n",
    "    if output_path and os.path.exists(output_path):\n",
    "        df = pd.read_csv(output_path)\n",
    "    elif isinstance(input_path, list):\n",
    "        paths = [Path(p) for p in input_path]\n",
    "        df = pd.concat([pd.read_parquet(p, engine=\"pyarrow\") for p in paths], ignore_index=True)\n",
    "    elif input_path:\n",
    "        df = pd.read_csv(input_path)\n",
    "    else:\n",
    "        raise ValueError(\"input_path veya output_path geçerli değil\")\n",
    "    return df\n",
    "\n",
    "df = load_df(input_path, output_path)\n",
    "\n",
    "# 2. .1, .2 gibi tekrar eden sütunları temizle\n",
    "df = df.loc[:, ~df.columns.str.contains(r'\\.\\d+$')]\n",
    "\n",
    "# 3. Liste formatını düzelt\n",
    "def safe_parse_list(s):\n",
    "    if isinstance(s, list):\n",
    "        return s\n",
    "    try:\n",
    "        return list(ast.literal_eval(s))\n",
    "    except:\n",
    "        return []\n",
    "\n",
    "df[\"x\"] = df[\"x\"].apply(safe_parse_list)\n",
    "df[\"y\"] = df[\"y\"].apply(safe_parse_list)\n",
    "\n",
    "# 4. Linearity hesapla\n",
    "def compute_linearity(x, y):\n",
    "    if not x or not y or len(x) < 2:\n",
    "        return 0.0\n",
    "    path_dist = np.sum(np.sqrt(np.diff(x)**2 + np.diff(y)**2))\n",
    "    straight_dist = np.sqrt((x[-1] - x[0])**2 + (y[-1] - y[0])**2)\n",
    "    return straight_dist / path_dist if path_dist != 0 else 0.0\n",
    "\n",
    "df[\"linearity\"] = df.apply(lambda row: compute_linearity(row[\"x\"], row[\"y\"]), axis=1)\n",
    "\n",
    "# 5. Yaz\n",
    "df_result = df\n",
    "df_result.to_csv(output_path, index=False)\n",
    "print(f\"✔️ Saved CSV with full df including linearity: {output_path}\")\n"
   ]
  }
 ],
 "metadata": {
  "kernelspec": {
   "display_name": "ai-demo",
   "language": "python",
   "name": "ai-demo"
  },
  "language_info": {
   "codemirror_mode": {
    "name": "ipython",
    "version": 3
   },
   "file_extension": ".py",
   "mimetype": "text/x-python",
   "name": "python",
   "nbconvert_exporter": "python",
   "pygments_lexer": "ipython3",
   "version": "3.12.7"
  },
  "papermill": {
   "default_parameters": {},
   "duration": 2.583349,
   "end_time": "2025-07-01T00:12:03.937972",
   "environment_variables": {},
   "exception": null,
   "input_path": "C:\\store\\git\\km-stat-activity\\analysis\\scripts\\linearity\\compute_linearity_manual_with_full_df.ipynb",
   "output_path": "C:\\store\\git\\km-stat-activity\\analysis\\scripts\\feature-engineering\\runs\\fake_4eb64a58-62de-494f-879f-06751e3e7a8a_2025-04-22_compute_linearity_manual_with_full_df.ipynb",
   "parameters": {
    "input_path": [
     "C:\\store\\git\\km-stat-activity\\parquet_dataset\\date=2025-04-22\\profile_guid=4eb64a58-62de-494f-879f-06751e3e7a8a\\part.8.parquet"
    ],
    "mode": "fake",
    "output_path": "C:\\store\\git\\km-stat-activity\\processed\\fake\\profile_guid=4eb64a58-62de-494f-879f-06751e3e7a8a\\2025-04-22-processed.csv"
   },
   "start_time": "2025-07-01T00:12:01.354623",
   "version": "2.6.0"
  }
 },
 "nbformat": 4,
 "nbformat_minor": 5
}