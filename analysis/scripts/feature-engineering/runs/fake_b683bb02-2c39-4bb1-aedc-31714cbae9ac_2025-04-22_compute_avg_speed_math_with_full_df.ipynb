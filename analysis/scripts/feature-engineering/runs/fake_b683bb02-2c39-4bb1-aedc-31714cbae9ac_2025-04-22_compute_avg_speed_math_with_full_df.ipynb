{
 "cells": [
  {
   "cell_type": "markdown",
   "id": "7eea77bf",
   "metadata": {
    "papermill": {
     "duration": 0.006351,
     "end_time": "2025-07-01T00:43:17.421397",
     "exception": false,
     "start_time": "2025-07-01T00:43:17.415046",
     "status": "completed"
    },
    "tags": [
     "parameters"
    ]
   },
   "source": [
    "# Compute Average Mouse Speed (Math.hypot) and Save to CSV\n",
    "This notebook reads the CSV, computes the average mouse speed (pixels/second) using Python's `math.hypot`, adds it as a new column `avg_speed`, and overwrites the original CSV."
   ]
  },
  {
   "cell_type": "code",
   "execution_count": 1,
   "id": "6d603e41",
   "metadata": {
    "execution": {
     "iopub.execute_input": "2025-07-01T00:43:17.428219Z",
     "iopub.status.busy": "2025-07-01T00:43:17.427221Z",
     "iopub.status.idle": "2025-07-01T00:43:17.431343Z",
     "shell.execute_reply": "2025-07-01T00:43:17.431343Z"
    },
    "papermill": {
     "duration": 0.008161,
     "end_time": "2025-07-01T00:43:17.432627",
     "exception": false,
     "start_time": "2025-07-01T00:43:17.424466",
     "status": "completed"
    },
    "tags": [
     "injected-parameters"
    ]
   },
   "outputs": [],
   "source": [
    "# Parameters\n",
    "mode = \"fake\"\n",
    "input_path = [\"C:\\\\store\\\\git\\\\km-stat-activity\\\\parquet_dataset\\\\date=2025-04-22\\\\profile_guid=b683bb02-2c39-4bb1-aedc-31714cbae9ac\\\\part.8.parquet\"]\n",
    "output_path = \"C:\\\\store\\\\git\\\\km-stat-activity\\\\processed\\\\fake\\\\profile_guid=b683bb02-2c39-4bb1-aedc-31714cbae9ac\\\\2025-04-22-processed.csv\"\n"
   ]
  },
  {
   "cell_type": "code",
   "execution_count": 2,
   "id": "25c0c246-98fa-4a01-9550-9b4f8201a52c",
   "metadata": {
    "execution": {
     "iopub.execute_input": "2025-07-01T00:43:17.434424Z",
     "iopub.status.busy": "2025-07-01T00:43:17.434424Z",
     "iopub.status.idle": "2025-07-01T00:43:17.451655Z",
     "shell.execute_reply": "2025-07-01T00:43:17.451655Z"
    },
    "papermill": {
     "duration": 0.020133,
     "end_time": "2025-07-01T00:43:17.453793",
     "exception": false,
     "start_time": "2025-07-01T00:43:17.433660",
     "status": "completed"
    },
    "tags": []
   },
   "outputs": [],
   "source": [
    "# Parameters\n",
    "try:\n",
    "    mode\n",
    "except NameError:\n",
    "    mode = None\n",
    "\n",
    "try:\n",
    "    input_path\n",
    "except NameError:\n",
    "    input_path = None\n",
    "\n",
    "try:\n",
    "    output_path\n",
    "except NameError:\n",
    "    output_path = None\n",
    "\n"
   ]
  },
  {
   "cell_type": "code",
   "execution_count": 3,
   "id": "68492464",
   "metadata": {
    "execution": {
     "iopub.execute_input": "2025-07-01T00:43:17.457880Z",
     "iopub.status.busy": "2025-07-01T00:43:17.457880Z",
     "iopub.status.idle": "2025-07-01T00:43:18.316737Z",
     "shell.execute_reply": "2025-07-01T00:43:18.316737Z"
    },
    "papermill": {
     "duration": 0.861925,
     "end_time": "2025-07-01T00:43:18.318004",
     "exception": false,
     "start_time": "2025-07-01T00:43:17.456079",
     "status": "completed"
    },
    "tags": []
   },
   "outputs": [
    {
     "name": "stdout",
     "output_type": "stream",
     "text": [
      "✔️ Saved CSV with full df including avg_speed: C:\\store\\git\\km-stat-activity\\processed\\fake\\profile_guid=b683bb02-2c39-4bb1-aedc-31714cbae9ac\\2025-04-22-processed.csv\n"
     ]
    }
   ],
   "source": [
    "import os\n",
    "import pandas as pd\n",
    "import numpy as np\n",
    "import math\n",
    "from pathlib import Path\n",
    "import ast\n",
    "\n",
    "# 0. Parametre kontrolü (Papermill ile çalışıyorsa bunlar yukarıdan gelebilir)\n",
    "try:\n",
    "    input_path\n",
    "except NameError:\n",
    "    input_path = None\n",
    "\n",
    "try:\n",
    "    output_path\n",
    "except NameError:\n",
    "    output_path = None\n",
    "\n",
    "# 1. Veri Yükleme fonksiyonu\n",
    "def load_df(input_path, output_path):\n",
    "    if output_path and os.path.exists(output_path):\n",
    "        df = pd.read_csv(output_path)\n",
    "    elif isinstance(input_path, list):\n",
    "        paths = [Path(p) for p in input_path]\n",
    "        df = pd.concat([pd.read_parquet(p, engine=\"pyarrow\") for p in paths], ignore_index=True)\n",
    "    elif input_path:\n",
    "        df = pd.read_csv(input_path)\n",
    "    else:\n",
    "        raise ValueError(\"input_path veya output_path geçerli değil\")\n",
    "    return df\n",
    "\n",
    "# 2. Liste parse fonksiyonu (stringleri listeye çevir)\n",
    "def safe_parse_list(s):\n",
    "    if isinstance(s, list):\n",
    "        return s\n",
    "    try:\n",
    "        parsed = ast.literal_eval(s)\n",
    "        return parsed if isinstance(parsed, list) else []\n",
    "    except Exception:\n",
    "        return []\n",
    "\n",
    "\n",
    "# 3. Ortalama hız hesapla\n",
    "def compute_avg_speed(x, y):\n",
    "    if not x or not y or len(x) < 2:\n",
    "        return 0.0\n",
    "    distances = [math.hypot(x[i+1] - x[i], y[i+1] - y[i]) for i in range(len(x)-1)]\n",
    "    return np.mean(distances)\n",
    "\n",
    "# 4. DataFrame'i yükle\n",
    "df = load_df(input_path, output_path)\n",
    "\n",
    "# 5. .1, .2 gibi tekrar eden sütunları temizle\n",
    "df = df.loc[:, ~df.columns.str.contains(r'\\.\\d+$')]\n",
    "\n",
    "# 6. x ve y'yi parse et\n",
    "if df[\"x\"].dtype == \"object\":\n",
    "    df[\"x\"] = df[\"x\"].apply(safe_parse_list)\n",
    "if df[\"y\"].dtype == \"object\":\n",
    "    df[\"y\"] = df[\"y\"].apply(safe_parse_list)\n",
    "\n",
    "\n",
    "# 7. Ortalama hız hesapla\n",
    "df[\"avg_speed\"] = df.apply(lambda row: compute_avg_speed(row[\"x\"], row[\"y\"]), axis=1)\n",
    "\n",
    "# 8. Sonuç olarak bu df kullanılacak\n",
    "df_result = df\n",
    "\n",
    "# 9. Çıktı dosyasına merge ederek yaz\n",
    "if output_path and os.path.exists(output_path):\n",
    "    df_existing = pd.read_csv(output_path)\n",
    "    df_existing = df_existing.loc[:, ~df_existing.columns.str.contains(r'\\.\\d+$')]  # tekrar eden sütunları temizle\n",
    "    \n",
    "    # Eğer avg_speed zaten varsa üzerine yaz, yoksa ekle\n",
    "    df_existing[\"avg_speed\"] = df_result[\"avg_speed\"].values\n",
    "    df_merged = df_existing\n",
    "else:\n",
    "    df_merged = df_result\n",
    "\n",
    "# 10. Kaydet\n",
    "# 5. Var olan CSV’ye yaz (concat DEĞİL!)\n",
    "df_result.to_csv(output_path, index=False)\n",
    "\n",
    "print(f\"✔️ Saved CSV with full df including avg_speed: {output_path}\")\n"
   ]
  }
 ],
 "metadata": {
  "kernelspec": {
   "display_name": "ai-demo",
   "language": "python",
   "name": "ai-demo"
  },
  "language_info": {
   "codemirror_mode": {
    "name": "ipython",
    "version": 3
   },
   "file_extension": ".py",
   "mimetype": "text/x-python",
   "name": "python",
   "nbconvert_exporter": "python",
   "pygments_lexer": "ipython3",
   "version": "3.12.7"
  },
  "papermill": {
   "default_parameters": {},
   "duration": 2.620834,
   "end_time": "2025-07-01T00:43:18.577757",
   "environment_variables": {},
   "exception": null,
   "input_path": "C:\\store\\git\\km-stat-activity\\analysis\\scripts\\speed\\compute_avg_speed_math_with_full_df.ipynb",
   "output_path": "C:\\store\\git\\km-stat-activity\\analysis\\scripts\\feature-engineering\\runs\\fake_b683bb02-2c39-4bb1-aedc-31714cbae9ac_2025-04-22_compute_avg_speed_math_with_full_df.ipynb",
   "parameters": {
    "input_path": [
     "C:\\store\\git\\km-stat-activity\\parquet_dataset\\date=2025-04-22\\profile_guid=b683bb02-2c39-4bb1-aedc-31714cbae9ac\\part.8.parquet"
    ],
    "mode": "fake",
    "output_path": "C:\\store\\git\\km-stat-activity\\processed\\fake\\profile_guid=b683bb02-2c39-4bb1-aedc-31714cbae9ac\\2025-04-22-processed.csv"
   },
   "start_time": "2025-07-01T00:43:15.956923",
   "version": "2.6.0"
  }
 },
 "nbformat": 4,
 "nbformat_minor": 5
}