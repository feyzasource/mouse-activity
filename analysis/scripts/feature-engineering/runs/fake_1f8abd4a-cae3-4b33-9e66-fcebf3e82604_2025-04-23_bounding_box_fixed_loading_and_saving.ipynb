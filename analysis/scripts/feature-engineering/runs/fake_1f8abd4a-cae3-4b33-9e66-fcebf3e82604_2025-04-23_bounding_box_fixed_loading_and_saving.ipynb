{
 "cells": [
  {
   "cell_type": "code",
   "execution_count": 1,
   "id": "950f4611",
   "metadata": {
    "execution": {
     "iopub.execute_input": "2025-07-01T01:11:49.699622Z",
     "iopub.status.busy": "2025-07-01T01:11:49.699622Z",
     "iopub.status.idle": "2025-07-01T01:11:49.705998Z",
     "shell.execute_reply": "2025-07-01T01:11:49.705617Z"
    },
    "papermill": {
     "duration": 0.013954,
     "end_time": "2025-07-01T01:11:49.707410",
     "exception": false,
     "start_time": "2025-07-01T01:11:49.693456",
     "status": "completed"
    },
    "tags": [
     "injected-parameters"
    ]
   },
   "outputs": [],
   "source": [
    "# Parameters\n",
    "mode = \"fake\"\n",
    "input_path = [\"C:\\\\store\\\\git\\\\km-stat-activity\\\\parquet_dataset\\\\date=2025-04-23\\\\profile_guid=1f8abd4a-cae3-4b33-9e66-fcebf3e82604\\\\part.20.parquet\"]\n",
    "output_path = \"C:\\\\store\\\\git\\\\km-stat-activity\\\\processed\\\\fake\\\\profile_guid=1f8abd4a-cae3-4b33-9e66-fcebf3e82604\\\\2025-04-23-processed.csv\"\n"
   ]
  },
  {
   "cell_type": "code",
   "execution_count": 2,
   "id": "1cfe77b5-e0e6-4cca-87e7-fa74d772b083",
   "metadata": {
    "execution": {
     "iopub.execute_input": "2025-07-01T01:11:49.710116Z",
     "iopub.status.busy": "2025-07-01T01:11:49.710116Z",
     "iopub.status.idle": "2025-07-01T01:11:49.713116Z",
     "shell.execute_reply": "2025-07-01T01:11:49.713116Z"
    },
    "papermill": {
     "duration": 0.005124,
     "end_time": "2025-07-01T01:11:49.714216",
     "exception": false,
     "start_time": "2025-07-01T01:11:49.709092",
     "status": "completed"
    },
    "tags": []
   },
   "outputs": [],
   "source": [
    "# Parameters\n",
    "try:\n",
    "    mode\n",
    "except NameError:\n",
    "    mode = None\n",
    "\n",
    "try:\n",
    "    input_path\n",
    "except NameError:\n",
    "    input_path = None\n",
    "\n",
    "try:\n",
    "    output_path\n",
    "except NameError:\n",
    "    output_path = None\n"
   ]
  },
  {
   "cell_type": "code",
   "execution_count": 3,
   "id": "8bd35ee4",
   "metadata": {
    "execution": {
     "iopub.execute_input": "2025-07-01T01:11:49.717139Z",
     "iopub.status.busy": "2025-07-01T01:11:49.716141Z",
     "iopub.status.idle": "2025-07-01T01:11:50.199631Z",
     "shell.execute_reply": "2025-07-01T01:11:50.199631Z"
    },
    "papermill": {
     "duration": 0.48592,
     "end_time": "2025-07-01T01:11:50.201154",
     "exception": false,
     "start_time": "2025-07-01T01:11:49.715234",
     "status": "completed"
    },
    "tags": []
   },
   "outputs": [
    {
     "name": "stdout",
     "output_type": "stream",
     "text": [
      "✔️ Saved CSV with full df including bounding box features: C:\\store\\git\\km-stat-activity\\processed\\fake\\profile_guid=1f8abd4a-cae3-4b33-9e66-fcebf3e82604\\2025-04-23-processed.csv\n"
     ]
    }
   ],
   "source": [
    "import os\n",
    "import pandas as pd\n",
    "from pathlib import Path\n",
    "import ast\n",
    "\n",
    "def parse_array_str(arr_str):\n",
    "    try:\n",
    "        cleaned = arr_str.replace('[', '').replace(']', '').strip().replace(' ', ',')\n",
    "        return [int(x) for x in cleaned.split(',') if x]\n",
    "    except Exception:\n",
    "        return []\n",
    "\n",
    "# 1. df'yi yükle — önce output_path'ten, yoksa input_path'ten\n",
    "if os.path.exists(output_path):\n",
    "    df = pd.read_csv(output_path, parse_dates=['start_date_time', 'end_date_time'])\n",
    "else:\n",
    "    if isinstance(input_path, list):\n",
    "        paths = [Path(p) for p in input_path]\n",
    "        df = pd.concat([pd.read_parquet(p, engine=\"pyarrow\") for p in paths], ignore_index=True)\n",
    "    else:\n",
    "        df = pd.read_csv(str(input_path), parse_dates=['start_date_time', 'end_date_time'])\n",
    "\n",
    "# x ve y sütunlarını parse et\n",
    "df[\"x\"] = df[\"x\"].astype(str).apply(parse_array_str)\n",
    "df[\"y\"] = df[\"y\"].astype(str).apply(parse_array_str)\n",
    "\n",
    "\n",
    "# 2. bounding box hesapla\n",
    "def get_bounding_box(x, y):\n",
    "    if x is None or y is None:\n",
    "        return (0, 0, 0, 0)\n",
    "    if not isinstance(x, (list, tuple)) or not isinstance(y, (list, tuple)):\n",
    "        return (0, 0, 0, 0)\n",
    "    if len(x) == 0 or len(y) == 0:\n",
    "        return (0, 0, 0, 0)\n",
    "    return (min(x), min(y), max(x), max(y))\n",
    "\n",
    "\n",
    "df[\"bounding_box\"] = df.apply(lambda row: get_bounding_box(row[\"x\"], row[\"y\"]), axis=1)\n",
    "df[\"min_x\"] = df[\"bounding_box\"].apply(lambda b: b[0])\n",
    "df[\"min_y\"] = df[\"bounding_box\"].apply(lambda b: b[1])\n",
    "df[\"max_x\"] = df[\"bounding_box\"].apply(lambda b: b[2])\n",
    "df[\"max_y\"] = df[\"bounding_box\"].apply(lambda b: b[3])\n",
    "\n",
    "# 3. Hatalı verileri temizleyip float'a dönüştür\n",
    "for col in [\"min_x\", \"min_y\", \"max_x\", \"max_y\"]:\n",
    "    df[col] = pd.to_numeric(\n",
    "        df[col].astype(str).str.replace(\",\", \".\", regex=False),\n",
    "        errors=\"coerce\"\n",
    "    )\n",
    "\n",
    "# 4. bbox_area hesapla\n",
    "df[\"bbox_area\"] = (df[\"max_x\"] - df[\"min_x\"]) * (df[\"max_y\"] - df[\"min_y\"])\n",
    "\n",
    "# 5. Yaz\n",
    "df.to_csv(output_path, index=False)\n",
    "print(f\"✔️ Saved CSV with full df including bounding box features: {output_path}\")\n"
   ]
  }
 ],
 "metadata": {
  "kernelspec": {
   "display_name": "ai-demo",
   "language": "python",
   "name": "ai-demo"
  },
  "language_info": {
   "codemirror_mode": {
    "name": "ipython",
    "version": 3
   },
   "file_extension": ".py",
   "mimetype": "text/x-python",
   "name": "python",
   "nbconvert_exporter": "python",
   "pygments_lexer": "ipython3",
   "version": "3.12.7"
  },
  "papermill": {
   "default_parameters": {},
   "duration": 2.207883,
   "end_time": "2025-07-01T01:11:50.449197",
   "environment_variables": {},
   "exception": null,
   "input_path": "C:\\store\\git\\km-stat-activity\\analysis\\scripts\\bounding_box\\bounding_box_fixed_loading_and_saving.ipynb",
   "output_path": "C:\\store\\git\\km-stat-activity\\analysis\\scripts\\feature-engineering\\runs\\fake_1f8abd4a-cae3-4b33-9e66-fcebf3e82604_2025-04-23_bounding_box_fixed_loading_and_saving.ipynb",
   "parameters": {
    "input_path": [
     "C:\\store\\git\\km-stat-activity\\parquet_dataset\\date=2025-04-23\\profile_guid=1f8abd4a-cae3-4b33-9e66-fcebf3e82604\\part.20.parquet"
    ],
    "mode": "fake",
    "output_path": "C:\\store\\git\\km-stat-activity\\processed\\fake\\profile_guid=1f8abd4a-cae3-4b33-9e66-fcebf3e82604\\2025-04-23-processed.csv"
   },
   "start_time": "2025-07-01T01:11:48.241314",
   "version": "2.6.0"
  }
 },
 "nbformat": 4,
 "nbformat_minor": 5
}