{
 "cells": [
  {
   "cell_type": "code",
   "execution_count": 1,
   "id": "20b6839c",
   "metadata": {
    "execution": {
     "iopub.execute_input": "2025-07-01T02:17:53.543277Z",
     "iopub.status.busy": "2025-07-01T02:17:53.542276Z",
     "iopub.status.idle": "2025-07-01T02:17:53.546291Z",
     "shell.execute_reply": "2025-07-01T02:17:53.546291Z"
    },
    "papermill": {
     "duration": 0.006526,
     "end_time": "2025-07-01T02:17:53.547726",
     "exception": false,
     "start_time": "2025-07-01T02:17:53.541200",
     "status": "completed"
    },
    "tags": [
     "injected-parameters"
    ]
   },
   "outputs": [],
   "source": [
    "# Parameters\n",
    "mode = \"fake\"\n",
    "input_path = [\"C:\\\\store\\\\git\\\\km-stat-activity\\\\parquet_dataset\\\\date=2025-04-24\\\\profile_guid=08a43c88-114e-4966-970f-8c0d1604fac7\\\\part.24.parquet\"]\n",
    "output_path = \"C:\\\\store\\\\git\\\\km-stat-activity\\\\processed\\\\fake\\\\profile_guid=08a43c88-114e-4966-970f-8c0d1604fac7\\\\2025-04-24-processed.csv\"\n"
   ]
  },
  {
   "cell_type": "code",
   "execution_count": 2,
   "id": "1cfe77b5-e0e6-4cca-87e7-fa74d772b083",
   "metadata": {
    "execution": {
     "iopub.execute_input": "2025-07-01T02:17:53.550296Z",
     "iopub.status.busy": "2025-07-01T02:17:53.550296Z",
     "iopub.status.idle": "2025-07-01T02:17:53.553799Z",
     "shell.execute_reply": "2025-07-01T02:17:53.553295Z"
    },
    "papermill": {
     "duration": 0.005704,
     "end_time": "2025-07-01T02:17:53.554784",
     "exception": false,
     "start_time": "2025-07-01T02:17:53.549080",
     "status": "completed"
    },
    "tags": []
   },
   "outputs": [],
   "source": [
    "# Parameters\n",
    "try:\n",
    "    mode\n",
    "except NameError:\n",
    "    mode = None\n",
    "\n",
    "try:\n",
    "    input_path\n",
    "except NameError:\n",
    "    input_path = None\n",
    "\n",
    "try:\n",
    "    output_path\n",
    "except NameError:\n",
    "    output_path = None\n"
   ]
  },
  {
   "cell_type": "code",
   "execution_count": 3,
   "id": "8bd35ee4",
   "metadata": {
    "execution": {
     "iopub.execute_input": "2025-07-01T02:17:53.557805Z",
     "iopub.status.busy": "2025-07-01T02:17:53.557805Z",
     "iopub.status.idle": "2025-07-01T02:17:54.051328Z",
     "shell.execute_reply": "2025-07-01T02:17:54.051328Z"
    },
    "papermill": {
     "duration": 0.496599,
     "end_time": "2025-07-01T02:17:54.052673",
     "exception": false,
     "start_time": "2025-07-01T02:17:53.556074",
     "status": "completed"
    },
    "tags": []
   },
   "outputs": [
    {
     "name": "stdout",
     "output_type": "stream",
     "text": [
      "✔️ Saved CSV with full df including bounding box features: C:\\store\\git\\km-stat-activity\\processed\\fake\\profile_guid=08a43c88-114e-4966-970f-8c0d1604fac7\\2025-04-24-processed.csv\n"
     ]
    }
   ],
   "source": [
    "import os\n",
    "import pandas as pd\n",
    "from pathlib import Path\n",
    "import ast\n",
    "\n",
    "def parse_array_str(arr_str):\n",
    "    try:\n",
    "        cleaned = arr_str.replace('[', '').replace(']', '').strip().replace(' ', ',')\n",
    "        return [int(x) for x in cleaned.split(',') if x]\n",
    "    except Exception:\n",
    "        return []\n",
    "\n",
    "# 1. df'yi yükle — önce output_path'ten, yoksa input_path'ten\n",
    "if os.path.exists(output_path):\n",
    "    df = pd.read_csv(output_path, parse_dates=['start_date_time', 'end_date_time'])\n",
    "else:\n",
    "    if isinstance(input_path, list):\n",
    "        paths = [Path(p) for p in input_path]\n",
    "        df = pd.concat([pd.read_parquet(p, engine=\"pyarrow\") for p in paths], ignore_index=True)\n",
    "    else:\n",
    "        df = pd.read_csv(str(input_path), parse_dates=['start_date_time', 'end_date_time'])\n",
    "\n",
    "# x ve y sütunlarını parse et\n",
    "df[\"x\"] = df[\"x\"].astype(str).apply(parse_array_str)\n",
    "df[\"y\"] = df[\"y\"].astype(str).apply(parse_array_str)\n",
    "\n",
    "\n",
    "# 2. bounding box hesapla\n",
    "def get_bounding_box(x, y):\n",
    "    if x is None or y is None:\n",
    "        return (0, 0, 0, 0)\n",
    "    if not isinstance(x, (list, tuple)) or not isinstance(y, (list, tuple)):\n",
    "        return (0, 0, 0, 0)\n",
    "    if len(x) == 0 or len(y) == 0:\n",
    "        return (0, 0, 0, 0)\n",
    "    return (min(x), min(y), max(x), max(y))\n",
    "\n",
    "\n",
    "df[\"bounding_box\"] = df.apply(lambda row: get_bounding_box(row[\"x\"], row[\"y\"]), axis=1)\n",
    "df[\"min_x\"] = df[\"bounding_box\"].apply(lambda b: b[0])\n",
    "df[\"min_y\"] = df[\"bounding_box\"].apply(lambda b: b[1])\n",
    "df[\"max_x\"] = df[\"bounding_box\"].apply(lambda b: b[2])\n",
    "df[\"max_y\"] = df[\"bounding_box\"].apply(lambda b: b[3])\n",
    "\n",
    "# 3. Hatalı verileri temizleyip float'a dönüştür\n",
    "for col in [\"min_x\", \"min_y\", \"max_x\", \"max_y\"]:\n",
    "    df[col] = pd.to_numeric(\n",
    "        df[col].astype(str).str.replace(\",\", \".\", regex=False),\n",
    "        errors=\"coerce\"\n",
    "    )\n",
    "\n",
    "# 4. bbox_area hesapla\n",
    "df[\"bbox_area\"] = (df[\"max_x\"] - df[\"min_x\"]) * (df[\"max_y\"] - df[\"min_y\"])\n",
    "\n",
    "# 5. Yaz\n",
    "df.to_csv(output_path, index=False)\n",
    "print(f\"✔️ Saved CSV with full df including bounding box features: {output_path}\")\n"
   ]
  }
 ],
 "metadata": {
  "kernelspec": {
   "display_name": "ai-demo",
   "language": "python",
   "name": "ai-demo"
  },
  "language_info": {
   "codemirror_mode": {
    "name": "ipython",
    "version": 3
   },
   "file_extension": ".py",
   "mimetype": "text/x-python",
   "name": "python",
   "nbconvert_exporter": "python",
   "pygments_lexer": "ipython3",
   "version": "3.12.7"
  },
  "papermill": {
   "default_parameters": {},
   "duration": 2.216535,
   "end_time": "2025-07-01T02:17:54.300291",
   "environment_variables": {},
   "exception": null,
   "input_path": "C:\\store\\git\\km-stat-activity\\analysis\\scripts\\bounding_box\\bounding_box_fixed_loading_and_saving.ipynb",
   "output_path": "C:\\store\\git\\km-stat-activity\\analysis\\scripts\\feature-engineering\\runs\\fake_08a43c88-114e-4966-970f-8c0d1604fac7_2025-04-24_bounding_box_fixed_loading_and_saving.ipynb",
   "parameters": {
    "input_path": [
     "C:\\store\\git\\km-stat-activity\\parquet_dataset\\date=2025-04-24\\profile_guid=08a43c88-114e-4966-970f-8c0d1604fac7\\part.24.parquet"
    ],
    "mode": "fake",
    "output_path": "C:\\store\\git\\km-stat-activity\\processed\\fake\\profile_guid=08a43c88-114e-4966-970f-8c0d1604fac7\\2025-04-24-processed.csv"
   },
   "start_time": "2025-07-01T02:17:52.083756",
   "version": "2.6.0"
  }
 },
 "nbformat": 4,
 "nbformat_minor": 5
}