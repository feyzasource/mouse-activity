{
 "cells": [
  {
   "cell_type": "code",
   "execution_count": 1,
   "id": "cabc25b5",
   "metadata": {
    "execution": {
     "iopub.execute_input": "2025-07-02T23:02:14.652133Z",
     "iopub.status.busy": "2025-07-02T23:02:14.651132Z",
     "iopub.status.idle": "2025-07-02T23:02:14.656165Z",
     "shell.execute_reply": "2025-07-02T23:02:14.656165Z"
    },
    "papermill": {
     "duration": 0.010966,
     "end_time": "2025-07-02T23:02:14.657692",
     "exception": false,
     "start_time": "2025-07-02T23:02:14.646726",
     "status": "completed"
    },
    "tags": [
     "injected-parameters"
    ]
   },
   "outputs": [],
   "source": [
    "# Parameters\n",
    "input_path = \"C:\\\\store\\\\git\\\\km-stat-activity\\\\data\\\\real\\\\km_stat_nature_20250423.csv\"\n",
    "output_path = \"C:\\\\store\\\\git\\\\km-stat-activity\\\\data\\\\real\\\\km_stat_nature_20250423_features.csv\"\n"
   ]
  },
  {
   "cell_type": "code",
   "execution_count": 2,
   "id": "bd20cb97-712c-4732-8054-5567ec4b1e46",
   "metadata": {
    "execution": {
     "iopub.execute_input": "2025-07-02T23:02:14.660171Z",
     "iopub.status.busy": "2025-07-02T23:02:14.660171Z",
     "iopub.status.idle": "2025-07-02T23:02:14.672951Z",
     "shell.execute_reply": "2025-07-02T23:02:14.672951Z"
    },
    "papermill": {
     "duration": 0.015361,
     "end_time": "2025-07-02T23:02:14.674168",
     "exception": false,
     "start_time": "2025-07-02T23:02:14.658807",
     "status": "completed"
    },
    "tags": []
   },
   "outputs": [],
   "source": [
    "# Parameters\n",
    "try:\n",
    "    input_path\n",
    "except NameError:\n",
    "    input_path = None\n",
    "\n",
    "try:\n",
    "    output_path\n",
    "except NameError:\n",
    "    output_path = None\n"
   ]
  },
  {
   "cell_type": "code",
   "execution_count": 3,
   "id": "94a85955-1589-45bd-9187-3e6437128ffb",
   "metadata": {
    "execution": {
     "iopub.execute_input": "2025-07-02T23:02:14.676206Z",
     "iopub.status.busy": "2025-07-02T23:02:14.676206Z",
     "iopub.status.idle": "2025-07-02T23:02:15.067454Z",
     "shell.execute_reply": "2025-07-02T23:02:15.067454Z"
    },
    "papermill": {
     "duration": 0.393833,
     "end_time": "2025-07-02T23:02:15.068894",
     "exception": false,
     "start_time": "2025-07-02T23:02:14.675061",
     "status": "completed"
    },
    "tags": []
   },
   "outputs": [],
   "source": [
    "import os\n",
    "import pandas as pd\n",
    "import numpy as np\n",
    "import math\n",
    "import ast\n",
    "from pathlib import Path\n",
    "\n",
    "def safe_parse(val):\n",
    "    try:\n",
    "        parsed = ast.literal_eval(val)\n",
    "        if isinstance(parsed, set):\n",
    "            return list(parsed)  # set → list\n",
    "        return parsed\n",
    "    except:\n",
    "        return []\n",
    "\n",
    "\n",
    "def compute_direction_changes(coord):\n",
    "    if not coord or len(coord) < 3:\n",
    "        return 0\n",
    "    return sum(np.sign(coord[i+1] - coord[i]) != np.sign(coord[i] - coord[i-1]) for i in range(1, len(coord)-1))\n",
    "\n",
    "def compute_bounding_box(x, y):\n",
    "    if not x or not y:\n",
    "        return (0, 0, 0, 0), 0\n",
    "    min_x, max_x = min(x), max(x)\n",
    "    min_y, max_y = min(y), max(y)\n",
    "    return (min_x, min_y, max_x, max_y), (max_x - min_x) * (max_y - min_y)\n",
    "\n",
    "def compute_avg_speed(x, y):\n",
    "    if not x or not y or len(x) < 2 or len(x) != len(y):\n",
    "        return 0.0\n",
    "    distances = [math.hypot(x[i+1] - x[i], y[i+1] - y[i]) for i in range(len(x)-1)]\n",
    "    return np.mean(distances)\n",
    "\n",
    "\n",
    "def compute_avg_acceleration(speeds):\n",
    "    return pd.Series(speeds).diff().fillna(0)\n",
    "\n",
    "def compute_idle_ratio(x):\n",
    "    if not x or len(x) < 2:\n",
    "        return 1.0\n",
    "    diffs = np.diff(x)\n",
    "    return np.sum(diffs == 0) / len(diffs)\n",
    "\n",
    "def compute_entropy(x):\n",
    "    if not x or len(x) < 2:\n",
    "        return 0.0\n",
    "    diffs = np.diff(x)\n",
    "    values, counts = np.unique(diffs, return_counts=True)\n",
    "    probs = counts / counts.sum()\n",
    "    return -np.sum(probs * np.log2(probs))\n",
    "\n",
    "def compute_linearity(x, y):\n",
    "    if not x or not y or len(x) < 2 or len(x) != len(y):\n",
    "        return 0.0\n",
    "    path = np.sum(np.hypot(np.diff(x), np.diff(y)))\n",
    "    straight = math.hypot(x[-1] - x[0], y[-1] - y[0])\n",
    "    return straight / path if path > 0 else 0.0\n",
    "\n"
   ]
  },
  {
   "cell_type": "code",
   "execution_count": 4,
   "id": "5abb1ba5-db12-4ede-b926-0c47f033efbc",
   "metadata": {
    "execution": {
     "iopub.execute_input": "2025-07-02T23:02:15.071460Z",
     "iopub.status.busy": "2025-07-02T23:02:15.071460Z",
     "iopub.status.idle": "2025-07-02T23:02:26.525319Z",
     "shell.execute_reply": "2025-07-02T23:02:26.525319Z"
    },
    "papermill": {
     "duration": 11.456681,
     "end_time": "2025-07-02T23:02:26.526906",
     "exception": false,
     "start_time": "2025-07-02T23:02:15.070225",
     "status": "completed"
    },
    "tags": []
   },
   "outputs": [],
   "source": [
    "# Veriyi oku\n",
    "df = pd.read_csv(input_path, converters={\n",
    "    \"x\": safe_parse,\n",
    "    \"y\": safe_parse,\n",
    "    \"key_codes\": safe_parse,\n",
    "    \"key_counts\": safe_parse\n",
    "}, parse_dates=[\"start_date_time\", \"end_date_time\"])\n",
    "\n",
    "# Özellik hesaplama\n",
    "df[\"x_direction_changes\"] = df[\"x\"].apply(compute_direction_changes)\n",
    "df[\"y_direction_changes\"] = df[\"y\"].apply(compute_direction_changes)\n",
    "\n",
    "bbox_results = df.apply(lambda row: compute_bounding_box(row[\"x\"], row[\"y\"]), axis=1)\n",
    "df[\"bounding_box\"] = bbox_results.apply(lambda x: x[0])\n",
    "df[\"bbox_area\"] = bbox_results.apply(lambda x: x[1])\n",
    "\n",
    "df[\"avg_speed\"] = df.apply(lambda row: compute_avg_speed(row[\"x\"], row[\"y\"]), axis=1)\n",
    "df[\"avg_acceleration\"] = compute_avg_acceleration(df[\"avg_speed\"])\n",
    "\n",
    "df[\"mouse_idle_ratio\"] = df[\"x\"].apply(compute_idle_ratio)\n",
    "df[\"movement_entropy\"] = df[\"x\"].apply(compute_entropy)\n",
    "df[\"linearity\"] = df.apply(lambda row: compute_linearity(row[\"x\"], row[\"y\"]), axis=1)\n"
   ]
  },
  {
   "cell_type": "code",
   "execution_count": 5,
   "id": "172fc706-cbad-4d94-a05f-be200458e9a8",
   "metadata": {
    "execution": {
     "iopub.execute_input": "2025-07-02T23:02:26.530372Z",
     "iopub.status.busy": "2025-07-02T23:02:26.529336Z",
     "iopub.status.idle": "2025-07-02T23:02:27.071415Z",
     "shell.execute_reply": "2025-07-02T23:02:27.071415Z"
    },
    "papermill": {
     "duration": 0.544337,
     "end_time": "2025-07-02T23:02:27.072838",
     "exception": false,
     "start_time": "2025-07-02T23:02:26.528501",
     "status": "completed"
    },
    "tags": []
   },
   "outputs": [
    {
     "name": "stdout",
     "output_type": "stream",
     "text": [
      "✔️ Saved to C:\\store\\git\\km-stat-activity\\data\\real\\km_stat_nature_20250423_features.csv\n"
     ]
    }
   ],
   "source": [
    "df.to_csv(output_path, index=False)\n",
    "print(f\"✔️ Saved to {output_path}\")\n"
   ]
  }
 ],
 "metadata": {
  "kernelspec": {
   "display_name": "ai-demo",
   "language": "python",
   "name": "ai-demo"
  },
  "language_info": {
   "codemirror_mode": {
    "name": "ipython",
    "version": 3
   },
   "file_extension": ".py",
   "mimetype": "text/x-python",
   "name": "python",
   "nbconvert_exporter": "python",
   "pygments_lexer": "ipython3",
   "version": "3.12.7"
  },
  "papermill": {
   "default_parameters": {},
   "duration": 14.159004,
   "end_time": "2025-07-02T23:02:27.315468",
   "environment_variables": {},
   "exception": null,
   "input_path": "C:\\store\\git\\km-stat-activity\\analysis\\scripts\\feature-engineering\\real_feature_extraction.ipynb",
   "output_path": "C:\\store\\git\\km-stat-activity\\analysis\\scripts\\feature-engineering\\runs\\real_feature_extraction_20250423.ipynb",
   "parameters": {
    "input_path": "C:\\store\\git\\km-stat-activity\\data\\real\\km_stat_nature_20250423.csv",
    "output_path": "C:\\store\\git\\km-stat-activity\\data\\real\\km_stat_nature_20250423_features.csv"
   },
   "start_time": "2025-07-02T23:02:13.156464",
   "version": "2.6.0"
  }
 },
 "nbformat": 4,
 "nbformat_minor": 5
}