{
 "cells": [
  {
   "cell_type": "code",
   "execution_count": 1,
   "id": "f1221e0e-3548-4685-8d59-c73da95f71cb",
   "metadata": {
    "execution": {
     "iopub.execute_input": "2025-06-30T11:33:20.539079Z",
     "iopub.status.busy": "2025-06-30T11:33:20.539079Z",
     "iopub.status.idle": "2025-06-30T11:33:20.544182Z",
     "shell.execute_reply": "2025-06-30T11:33:20.544182Z"
    },
    "papermill": {
     "duration": 0.010396,
     "end_time": "2025-06-30T11:33:20.545857",
     "exception": false,
     "start_time": "2025-06-30T11:33:20.535461",
     "status": "completed"
    },
    "tags": [
     "parameters"
    ]
   },
   "outputs": [],
   "source": [
    "# Parameters\n",
    "# papermill: parameters\n",
    "# tags: [parameters]\n",
    "\n",
    "mode = None\n",
    "input_path = None\n",
    "output_path = None\n"
   ]
  },
  {
   "cell_type": "code",
   "execution_count": 2,
   "id": "40ffdc7d",
   "metadata": {
    "execution": {
     "iopub.execute_input": "2025-06-30T11:33:20.548515Z",
     "iopub.status.busy": "2025-06-30T11:33:20.548515Z",
     "iopub.status.idle": "2025-06-30T11:33:20.563243Z",
     "shell.execute_reply": "2025-06-30T11:33:20.563243Z"
    },
    "papermill": {
     "duration": 0.017596,
     "end_time": "2025-06-30T11:33:20.564844",
     "exception": false,
     "start_time": "2025-06-30T11:33:20.547248",
     "status": "completed"
    },
    "tags": [
     "injected-parameters"
    ]
   },
   "outputs": [],
   "source": [
    "# Parameters\n",
    "mode = \"fake\"\n",
    "input_path = [\"C:\\\\store\\\\git\\\\km-stat-activity\\\\parquet_dataset\\\\date=2025-04-21\\\\profile_guid=011d3524-6fce-4184-bfa3-9707e8c6f18c\\\\part.6.parquet\"]\n",
    "output_path = \"C:\\\\store\\\\git\\\\km-stat-activity\\\\processed\\\\fake\\\\profile_guid=011d3524-6fce-4184-bfa3-9707e8c6f18c\\\\2025-04-21-processed.csv\"\n"
   ]
  },
  {
   "cell_type": "code",
   "execution_count": 3,
   "id": "5eb1455a-19fd-4483-a116-b1ea8ce8521b",
   "metadata": {
    "execution": {
     "iopub.execute_input": "2025-06-30T11:33:20.569248Z",
     "iopub.status.busy": "2025-06-30T11:33:20.568249Z",
     "iopub.status.idle": "2025-06-30T11:33:21.021799Z",
     "shell.execute_reply": "2025-06-30T11:33:21.021799Z"
    },
    "papermill": {
     "duration": 0.457762,
     "end_time": "2025-06-30T11:33:21.024066",
     "exception": false,
     "start_time": "2025-06-30T11:33:20.566304",
     "status": "completed"
    },
    "tags": []
   },
   "outputs": [
    {
     "name": "stdout",
     "output_type": "stream",
     "text": [
      "✔️ Saved CSV with directional_changes: C:\\store\\git\\km-stat-activity\\processed\\fake\\profile_guid=011d3524-6fce-4184-bfa3-9707e8c6f18c\\2025-04-21-processed.csv\n"
     ]
    }
   ],
   "source": [
    "\n",
    "import math\n",
    "import pandas as pd\n",
    "from pathlib import Path\n",
    "import os\n",
    "\n",
    "# Papermill’den gelen parametreler:\n",
    "#   mode: \"fake\" veya \"real\"\n",
    "#   input_path: ya bir liste (parquet yolları) ya da bir string (csv yolu)\n",
    "#   output_path: yazılacak csv’nin tam yolu\n",
    "\n",
    "\n",
    "if isinstance(input_path, list):\n",
    "    # Fake: parquet dosyalarını birleştir\n",
    "    paths = [Path(p) for p in input_path]\n",
    "    df = pd.concat([pd.read_parquet(p, engine=\"pyarrow\") for p in paths],\n",
    "                   ignore_index=True)\n",
    "else:\n",
    "    # Real: tek CSV oku\n",
    "    df = pd.read_csv(str(input_path),\n",
    "                     converters={\"x\": pd.eval, \"y\": pd.eval},\n",
    "                     parse_dates=['start_date_time','end_date_time'])\n",
    "\n",
    "\n",
    "# 2) Artık df hazır, geri kalan tüm hücreleri olduğu gibi çalıştırabilirsiniz.\n",
    "\n",
    "\n",
    "# NaN'leri filtrele\n",
    "df = df[df['x'].notna() & df['y'].notna()].copy()\n",
    "\n",
    "# Küme olasılığına karşı güvenli parser\n",
    "def safe_parse_list(s):\n",
    "    try:\n",
    "        parsed = ast.literal_eval(s)\n",
    "        return list(parsed)\n",
    "    except Exception:\n",
    "        return []\n",
    "\n",
    "df['x'] = df['x'].apply(safe_parse_list)\n",
    "df['y'] = df['y'].apply(safe_parse_list)\n",
    "\n",
    "def count_direction_changes(arr):\n",
    "    count = 0\n",
    "    for i in range(2, len(arr)):\n",
    "        diff1 = arr[i-1] - arr[i-2]\n",
    "        diff2 = arr[i] - arr[i-1]\n",
    "        if diff1 * diff2 < 0:\n",
    "            count += 1\n",
    "    return count\n",
    "df['x_direction_changes'] = df['x'].apply(count_direction_changes)\n",
    "df['y_direction_changes'] = df['y'].apply(count_direction_changes)\n",
    "\n",
    "df_result = df[[\"x_direction_changes\", \"y_direction_changes\"]]\n",
    "\n",
    "# df_result zaten hesaplandı varsayılıyor\n",
    "if os.path.exists(output_path):\n",
    "    df_existing = pd.read_csv(output_path)\n",
    "    df_merged = pd.concat(\n",
    "        [df_existing.reset_index(drop=True), df_result.reset_index(drop=True)],\n",
    "        axis=1\n",
    "    )\n",
    "else:\n",
    "    df_merged = df_result\n",
    "\n",
    "df_merged.to_csv(output_path, index=False)\n",
    "print(f\"✔️ Saved CSV with directional_changes: {output_path}\")\n"
   ]
  }
 ],
 "metadata": {
  "kernelspec": {
   "display_name": "ai-demo",
   "language": "python",
   "name": "ai-demo"
  },
  "language_info": {
   "codemirror_mode": {
    "name": "ipython",
    "version": 3
   },
   "file_extension": ".py",
   "mimetype": "text/x-python",
   "name": "python",
   "nbconvert_exporter": "python",
   "pygments_lexer": "ipython3",
   "version": "3.12.7"
  },
  "papermill": {
   "default_parameters": {},
   "duration": 2.022758,
   "end_time": "2025-06-30T11:33:21.256893",
   "environment_variables": {},
   "exception": null,
   "input_path": "C:\\store\\git\\km-stat-activity\\analysis\\scripts\\directional_change\\calculate_direction_merged_output.ipynb",
   "output_path": "C:\\store\\git\\km-stat-activity\\analysis\\scripts\\feature-engineering\\runs\\fake_011d3524-6fce-4184-bfa3-9707e8c6f18c_2025-04-21_calculate_direction_merged_output.ipynb",
   "parameters": {
    "input_path": [
     "C:\\store\\git\\km-stat-activity\\parquet_dataset\\date=2025-04-21\\profile_guid=011d3524-6fce-4184-bfa3-9707e8c6f18c\\part.6.parquet"
    ],
    "mode": "fake",
    "output_path": "C:\\store\\git\\km-stat-activity\\processed\\fake\\profile_guid=011d3524-6fce-4184-bfa3-9707e8c6f18c\\2025-04-21-processed.csv"
   },
   "start_time": "2025-06-30T11:33:19.234135",
   "version": "2.6.0"
  }
 },
 "nbformat": 4,
 "nbformat_minor": 5
}