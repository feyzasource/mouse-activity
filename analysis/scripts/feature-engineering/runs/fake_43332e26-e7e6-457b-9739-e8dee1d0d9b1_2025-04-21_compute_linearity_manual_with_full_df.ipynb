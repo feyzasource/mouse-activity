{
 "cells": [
  {
   "cell_type": "markdown",
   "id": "fe5997d1",
   "metadata": {
    "papermill": {
     "duration": 0.001177,
     "end_time": "2025-06-30T22:55:33.371694",
     "exception": false,
     "start_time": "2025-06-30T22:55:33.370517",
     "status": "completed"
    },
    "tags": [
     "parameters"
    ]
   },
   "source": [
    "# Compute Mouse Movement Linearity\n",
    "\n",
    "Provide your CSV file path in the `input_path` variable below,\n",
    "then run all cells to compute the `linearity` metric and save a new CSV."
   ]
  },
  {
   "cell_type": "code",
   "execution_count": 1,
   "id": "ad85e3f3",
   "metadata": {
    "execution": {
     "iopub.execute_input": "2025-06-30T22:55:33.373879Z",
     "iopub.status.busy": "2025-06-30T22:55:33.373879Z",
     "iopub.status.idle": "2025-06-30T22:55:33.377924Z",
     "shell.execute_reply": "2025-06-30T22:55:33.377924Z"
    },
    "papermill": {
     "duration": 0.006216,
     "end_time": "2025-06-30T22:55:33.379196",
     "exception": false,
     "start_time": "2025-06-30T22:55:33.372980",
     "status": "completed"
    },
    "tags": [
     "injected-parameters"
    ]
   },
   "outputs": [],
   "source": [
    "# Parameters\n",
    "mode = \"fake\"\n",
    "input_path = [\"C:\\\\store\\\\git\\\\km-stat-activity\\\\parquet_dataset\\\\date=2025-04-21\\\\profile_guid=43332e26-e7e6-457b-9739-e8dee1d0d9b1\\\\part.4.parquet\"]\n",
    "output_path = \"C:\\\\store\\\\git\\\\km-stat-activity\\\\processed\\\\fake\\\\profile_guid=43332e26-e7e6-457b-9739-e8dee1d0d9b1\\\\2025-04-21-processed.csv\"\n"
   ]
  },
  {
   "cell_type": "code",
   "execution_count": 2,
   "id": "4306a02b-663c-4274-9d36-dde1c51cbb41",
   "metadata": {
    "execution": {
     "iopub.execute_input": "2025-06-30T22:55:33.381225Z",
     "iopub.status.busy": "2025-06-30T22:55:33.381225Z",
     "iopub.status.idle": "2025-06-30T22:55:33.392885Z",
     "shell.execute_reply": "2025-06-30T22:55:33.392885Z"
    },
    "papermill": {
     "duration": 0.014023,
     "end_time": "2025-06-30T22:55:33.394354",
     "exception": false,
     "start_time": "2025-06-30T22:55:33.380331",
     "status": "completed"
    },
    "tags": []
   },
   "outputs": [],
   "source": [
    "# Parameters\n",
    "try:\n",
    "    mode\n",
    "except NameError:\n",
    "    mode = None\n",
    "\n",
    "try:\n",
    "    input_path\n",
    "except NameError:\n",
    "    input_path = None\n",
    "\n",
    "try:\n",
    "    output_path\n",
    "except NameError:\n",
    "    output_path = None\n",
    "\n"
   ]
  },
  {
   "cell_type": "code",
   "execution_count": 3,
   "id": "2a9baf5c",
   "metadata": {
    "execution": {
     "iopub.execute_input": "2025-06-30T22:55:33.397173Z",
     "iopub.status.busy": "2025-06-30T22:55:33.396174Z",
     "iopub.status.idle": "2025-06-30T22:55:34.244118Z",
     "shell.execute_reply": "2025-06-30T22:55:34.244118Z"
    },
    "papermill": {
     "duration": 0.850154,
     "end_time": "2025-06-30T22:55:34.245675",
     "exception": false,
     "start_time": "2025-06-30T22:55:33.395521",
     "status": "completed"
    },
    "tags": []
   },
   "outputs": [
    {
     "name": "stdout",
     "output_type": "stream",
     "text": [
      "✔️ Saved CSV with full df including linearity: C:\\store\\git\\km-stat-activity\\processed\\fake\\profile_guid=43332e26-e7e6-457b-9739-e8dee1d0d9b1\\2025-04-21-processed.csv\n"
     ]
    }
   ],
   "source": [
    "import os\n",
    "import pandas as pd\n",
    "from pathlib import Path\n",
    "import ast\n",
    "import numpy as np\n",
    "\n",
    "# 1. Veri yükleme fonksiyonu\n",
    "def load_df(input_path, output_path):\n",
    "    if output_path and os.path.exists(output_path):\n",
    "        df = pd.read_csv(output_path)\n",
    "    elif isinstance(input_path, list):\n",
    "        paths = [Path(p) for p in input_path]\n",
    "        df = pd.concat([pd.read_parquet(p, engine=\"pyarrow\") for p in paths], ignore_index=True)\n",
    "    elif input_path:\n",
    "        df = pd.read_csv(input_path)\n",
    "    else:\n",
    "        raise ValueError(\"input_path veya output_path geçerli değil\")\n",
    "    return df\n",
    "\n",
    "df = load_df(input_path, output_path)\n",
    "\n",
    "# 2. .1, .2 gibi tekrar eden sütunları temizle\n",
    "df = df.loc[:, ~df.columns.str.contains(r'\\.\\d+$')]\n",
    "\n",
    "# 3. Liste formatını düzelt\n",
    "def safe_parse_list(s):\n",
    "    if isinstance(s, list):\n",
    "        return s\n",
    "    try:\n",
    "        return list(ast.literal_eval(s))\n",
    "    except:\n",
    "        return []\n",
    "\n",
    "df[\"x\"] = df[\"x\"].apply(safe_parse_list)\n",
    "df[\"y\"] = df[\"y\"].apply(safe_parse_list)\n",
    "\n",
    "# 4. Linearity hesapla\n",
    "def compute_linearity(x, y):\n",
    "    if not x or not y or len(x) < 2:\n",
    "        return 0.0\n",
    "    path_dist = np.sum(np.sqrt(np.diff(x)**2 + np.diff(y)**2))\n",
    "    straight_dist = np.sqrt((x[-1] - x[0])**2 + (y[-1] - y[0])**2)\n",
    "    return straight_dist / path_dist if path_dist != 0 else 0.0\n",
    "\n",
    "df[\"linearity\"] = df.apply(lambda row: compute_linearity(row[\"x\"], row[\"y\"]), axis=1)\n",
    "\n",
    "# 5. Yaz\n",
    "df_result = df\n",
    "df_result.to_csv(output_path, index=False)\n",
    "print(f\"✔️ Saved CSV with full df including linearity: {output_path}\")\n"
   ]
  }
 ],
 "metadata": {
  "kernelspec": {
   "display_name": "ai-demo",
   "language": "python",
   "name": "ai-demo"
  },
  "language_info": {
   "codemirror_mode": {
    "name": "ipython",
    "version": 3
   },
   "file_extension": ".py",
   "mimetype": "text/x-python",
   "name": "python",
   "nbconvert_exporter": "python",
   "pygments_lexer": "ipython3",
   "version": "3.12.7"
  },
  "papermill": {
   "default_parameters": {},
   "duration": 2.396724,
   "end_time": "2025-06-30T22:55:34.504864",
   "environment_variables": {},
   "exception": null,
   "input_path": "C:\\store\\git\\km-stat-activity\\analysis\\scripts\\linearity\\compute_linearity_manual_with_full_df.ipynb",
   "output_path": "C:\\store\\git\\km-stat-activity\\analysis\\scripts\\feature-engineering\\runs\\fake_43332e26-e7e6-457b-9739-e8dee1d0d9b1_2025-04-21_compute_linearity_manual_with_full_df.ipynb",
   "parameters": {
    "input_path": [
     "C:\\store\\git\\km-stat-activity\\parquet_dataset\\date=2025-04-21\\profile_guid=43332e26-e7e6-457b-9739-e8dee1d0d9b1\\part.4.parquet"
    ],
    "mode": "fake",
    "output_path": "C:\\store\\git\\km-stat-activity\\processed\\fake\\profile_guid=43332e26-e7e6-457b-9739-e8dee1d0d9b1\\2025-04-21-processed.csv"
   },
   "start_time": "2025-06-30T22:55:32.108140",
   "version": "2.6.0"
  }
 },
 "nbformat": 4,
 "nbformat_minor": 5
}