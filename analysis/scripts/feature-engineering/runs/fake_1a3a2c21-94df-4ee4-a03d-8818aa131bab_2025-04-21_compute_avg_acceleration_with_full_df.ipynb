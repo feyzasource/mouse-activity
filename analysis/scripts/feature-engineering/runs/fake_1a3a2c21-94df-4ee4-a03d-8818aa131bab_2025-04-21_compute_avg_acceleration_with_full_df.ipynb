{
 "cells": [
  {
   "cell_type": "markdown",
   "id": "5a8474d1",
   "metadata": {
    "papermill": {
     "duration": 0.00289,
     "end_time": "2025-06-30T22:43:02.264373",
     "exception": false,
     "start_time": "2025-06-30T22:43:02.261483",
     "status": "completed"
    },
    "tags": [
     "parameters"
    ]
   },
   "source": [
    "# Compute Mouse Average Acceleration and Save to New CSV\n",
    "This notebook reads the existing CSV with average speed (`avg_speed`), computes the average acceleration (change in speed over time), adds it as a new column `avg_acceleration`, and writes to a new CSV copy."
   ]
  },
  {
   "cell_type": "code",
   "execution_count": 1,
   "id": "c0134dce",
   "metadata": {
    "execution": {
     "iopub.execute_input": "2025-06-30T22:43:02.270349Z",
     "iopub.status.busy": "2025-06-30T22:43:02.270349Z",
     "iopub.status.idle": "2025-06-30T22:43:02.275313Z",
     "shell.execute_reply": "2025-06-30T22:43:02.275313Z"
    },
    "papermill": {
     "duration": 0.010221,
     "end_time": "2025-06-30T22:43:02.277314",
     "exception": false,
     "start_time": "2025-06-30T22:43:02.267093",
     "status": "completed"
    },
    "tags": [
     "injected-parameters"
    ]
   },
   "outputs": [],
   "source": [
    "# Parameters\n",
    "mode = \"fake\"\n",
    "input_path = [\"C:\\\\store\\\\git\\\\km-stat-activity\\\\parquet_dataset\\\\date=2025-04-21\\\\profile_guid=1a3a2c21-94df-4ee4-a03d-8818aa131bab\\\\part.4.parquet\"]\n",
    "output_path = \"C:\\\\store\\\\git\\\\km-stat-activity\\\\processed\\\\fake\\\\profile_guid=1a3a2c21-94df-4ee4-a03d-8818aa131bab\\\\2025-04-21-processed.csv\"\n"
   ]
  },
  {
   "cell_type": "code",
   "execution_count": 2,
   "id": "0377777f-7670-4bbf-a48b-5a6fca57377f",
   "metadata": {
    "execution": {
     "iopub.execute_input": "2025-06-30T22:43:02.279567Z",
     "iopub.status.busy": "2025-06-30T22:43:02.279567Z",
     "iopub.status.idle": "2025-06-30T22:43:02.285013Z",
     "shell.execute_reply": "2025-06-30T22:43:02.285013Z"
    },
    "papermill": {
     "duration": 0.00785,
     "end_time": "2025-06-30T22:43:02.286433",
     "exception": false,
     "start_time": "2025-06-30T22:43:02.278583",
     "status": "completed"
    },
    "tags": []
   },
   "outputs": [],
   "source": [
    "# Parameters\n",
    "try:\n",
    "    mode\n",
    "except NameError:\n",
    "    mode = None\n",
    "\n",
    "try:\n",
    "    input_path\n",
    "except NameError:\n",
    "    input_path = None\n",
    "\n",
    "try:\n",
    "    output_path\n",
    "except NameError:\n",
    "    output_path = None\n",
    "\n",
    "\n"
   ]
  },
  {
   "cell_type": "code",
   "execution_count": 3,
   "id": "3c1e9fd3",
   "metadata": {
    "execution": {
     "iopub.execute_input": "2025-06-30T22:43:02.288326Z",
     "iopub.status.busy": "2025-06-30T22:43:02.288326Z",
     "iopub.status.idle": "2025-06-30T22:43:02.689589Z",
     "shell.execute_reply": "2025-06-30T22:43:02.689589Z"
    },
    "papermill": {
     "duration": 0.403658,
     "end_time": "2025-06-30T22:43:02.691102",
     "exception": false,
     "start_time": "2025-06-30T22:43:02.287444",
     "status": "completed"
    },
    "tags": []
   },
   "outputs": [
    {
     "name": "stdout",
     "output_type": "stream",
     "text": [
      "✔️ Saved CSV with full df including avg_acceleration: C:\\store\\git\\km-stat-activity\\processed\\fake\\profile_guid=1a3a2c21-94df-4ee4-a03d-8818aa131bab\\2025-04-21-processed.csv\n"
     ]
    }
   ],
   "source": [
    "import os\n",
    "import pandas as pd\n",
    "from pathlib import Path\n",
    "\n",
    "# 1. Veri Yükleme fonksiyonu\n",
    "def load_df(input_path, output_path):\n",
    "    if output_path and os.path.exists(output_path):\n",
    "        df = pd.read_csv(output_path)\n",
    "    elif isinstance(input_path, list):\n",
    "        paths = [Path(p) for p in input_path]\n",
    "        df = pd.concat([pd.read_parquet(p, engine=\"pyarrow\") for p in paths], ignore_index=True)\n",
    "    elif input_path:\n",
    "        df = pd.read_csv(input_path)\n",
    "    else:\n",
    "        raise ValueError(\"input_path veya output_path geçerli değil\")\n",
    "    return df\n",
    "\n",
    "# 2. Yükle\n",
    "df = load_df(input_path, output_path)\n",
    "\n",
    "# 3. Önceki notebook'lardan kalan .1, .2 gibi tekrar eden sütunları temizle\n",
    "df = df.loc[:, ~df.columns.str.contains(r'\\.\\d+$')]\n",
    "\n",
    "# 4. avg_speed varsa ivmeyi hesapla\n",
    "if \"avg_speed\" in df.columns and df[\"avg_speed\"].notna().any():\n",
    "    if \"avg_acceleration\" not in df.columns:\n",
    "        df[\"avg_acceleration\"] = df[\"avg_speed\"].diff().fillna(0)\n",
    "else:\n",
    "    raise ValueError(\"avg_speed column is missing or entirely empty in input data.\")\n",
    "\n",
    "# 5. Tam veri çıktısı\n",
    "df_result = df\n",
    "\n",
    "# 6. Varsa önceki içerikle birleştir\n",
    "if output_path and os.path.exists(output_path):\n",
    "    df_existing = pd.read_csv(output_path)\n",
    "    df_existing = df_existing.loc[:, ~df_existing.columns.str.contains(r'\\.\\d+$')]\n",
    "    df_merged = pd.concat(\n",
    "        [df_existing.reset_index(drop=True), df_result.reset_index(drop=True)],\n",
    "        axis=1\n",
    "    )\n",
    "else:\n",
    "    df_merged = df_result\n",
    "\n",
    "# 7. CSV yaz\n",
    "df_result.to_csv(output_path, index=False)\n",
    "print(f\"✔️ Saved CSV with full df including avg_acceleration: {output_path}\")\n"
   ]
  }
 ],
 "metadata": {
  "kernelspec": {
   "display_name": "ai-demo",
   "language": "python",
   "name": "ai-demo"
  },
  "language_info": {
   "codemirror_mode": {
    "name": "ipython",
    "version": 3
   },
   "file_extension": ".py",
   "mimetype": "text/x-python",
   "name": "python",
   "nbconvert_exporter": "python",
   "pygments_lexer": "ipython3",
   "version": "3.12.7"
  },
  "papermill": {
   "default_parameters": {},
   "duration": 1.732152,
   "end_time": "2025-06-30T22:43:02.934921",
   "environment_variables": {},
   "exception": null,
   "input_path": "C:\\store\\git\\km-stat-activity\\analysis\\scripts\\acceleration\\compute_avg_acceleration_with_full_df.ipynb",
   "output_path": "C:\\store\\git\\km-stat-activity\\analysis\\scripts\\feature-engineering\\runs\\fake_1a3a2c21-94df-4ee4-a03d-8818aa131bab_2025-04-21_compute_avg_acceleration_with_full_df.ipynb",
   "parameters": {
    "input_path": [
     "C:\\store\\git\\km-stat-activity\\parquet_dataset\\date=2025-04-21\\profile_guid=1a3a2c21-94df-4ee4-a03d-8818aa131bab\\part.4.parquet"
    ],
    "mode": "fake",
    "output_path": "C:\\store\\git\\km-stat-activity\\processed\\fake\\profile_guid=1a3a2c21-94df-4ee4-a03d-8818aa131bab\\2025-04-21-processed.csv"
   },
   "start_time": "2025-06-30T22:43:01.202769",
   "version": "2.6.0"
  }
 },
 "nbformat": 4,
 "nbformat_minor": 5
}