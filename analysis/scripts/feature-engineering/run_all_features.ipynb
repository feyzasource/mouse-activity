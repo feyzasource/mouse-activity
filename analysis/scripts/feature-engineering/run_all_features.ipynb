{
 "cells": [
  {
   "cell_type": "markdown",
   "id": "fc817151",
   "metadata": {},
   "source": [
    "# Master Feature Engineering Pipeline\n",
    "\n",
    "Bu notebook, hiç bir alt notebook içeriğini değiştirmeden sırasıyla feature engineering adımlarını çalıştırır ve ana CSV dosyasına eklemeler yaparak kaydeder.\n",
    "\n",
    "**Çalışma dizini**: Tüm alt `.ipynb` dosyalarının (`calculate_direction.ipynb`, `bounding_box.ipynb`, vb.) bulunduğu klasörde olmalıdır."
   ]
  },
  {
   "cell_type": "code",
   "execution_count": 2,
   "id": "84aa049e-2462-4975-87ad-cd2003261db6",
   "metadata": {},
   "outputs": [],
   "source": [
    "# Parameters\n",
    "mode = \"fake\"\n",
    "input_path = \"\"\n",
    "output_path = \"\"\n"
   ]
  },
  {
   "cell_type": "code",
   "execution_count": 4,
   "id": "1dcce367-8753-4fa5-8e2f-11ac7bbe6f33",
   "metadata": {},
   "outputs": [
    {
     "ename": "ModuleNotFoundError",
     "evalue": "No module named 'papermill'",
     "output_type": "error",
     "traceback": [
      "\u001b[1;31m---------------------------------------------------------------------------\u001b[0m",
      "\u001b[1;31mModuleNotFoundError\u001b[0m                       Traceback (most recent call last)",
      "Cell \u001b[1;32mIn[4], line 2\u001b[0m\n\u001b[0;32m      1\u001b[0m \u001b[38;5;66;03m#!/usr/bin/env python3\u001b[39;00m\n\u001b[1;32m----> 2\u001b[0m \u001b[38;5;28;01mimport\u001b[39;00m \u001b[38;5;21;01mpapermill\u001b[39;00m \u001b[38;5;28;01mas\u001b[39;00m \u001b[38;5;21;01mpm\u001b[39;00m\n\u001b[0;32m      3\u001b[0m \u001b[38;5;28;01mfrom\u001b[39;00m \u001b[38;5;21;01mpathlib\u001b[39;00m \u001b[38;5;28;01mimport\u001b[39;00m Path\n\u001b[0;32m      4\u001b[0m \u001b[38;5;28;01mimport\u001b[39;00m \u001b[38;5;21;01mlogging\u001b[39;00m\n",
      "\u001b[1;31mModuleNotFoundError\u001b[0m: No module named 'papermill'"
     ]
    }
   ],
   "source": [
    "#!/usr/bin/env python3\n",
    "import papermill as pm\n",
    "from pathlib import Path\n",
    "import logging\n",
    "\n",
    "def main():\n",
    "    logging.basicConfig(level=logging.INFO, format=\"%(asctime)s %(message)s\")\n",
    "    log = logging.getLogger()\n",
    "\n",
    "    # ─── 0) PROJECT_ROOT ayarı; gerektiğinde parents[i]’ı değiştir ────────\n",
    "    PROJECT_ROOT = Path(__file__).resolve().parents[2]  \n",
    "    log.info(f\"Project root: {PROJECT_ROOT}\")\n",
    "\n",
    "    # ─── 1) Feature Notebook’lar ─────────────────────────────────────────\n",
    "    NOTEBOOKS = [\n",
    "        \"calculate_direction.ipynb\",\n",
    "        \"bounding_box.ipynb\",\n",
    "        \"compute_avg_speed_math.ipynb\",\n",
    "        \"compute_avg_acceleration.ipynb\",\n",
    "        \"compute_idle_entropy_fixed2.ipynb\",\n",
    "        \"compute_linearity_manual.ipynb\",\n",
    "    ]\n",
    "\n",
    "    # ─── 2) Fake Data Ayarları ────────────────────────────────────────────\n",
    "    FAKE_DATES = [\"2025-04-21\",\"2025-04-22\",\"2025-04-23\",\"2025-04-24\",\"2025-04-25\"]\n",
    "    PARQUET_ROOT = PROJECT_ROOT / \"parquet_dataset\"\n",
    "    ProcessFakeDir = PROJECT_ROOT / \"processed\" / \"fake\"\n",
    "    ProcessFakeDir.mkdir(parents=True, exist_ok=True)\n",
    "\n",
    "    # ─── 3) Real Data Ayarları ────────────────────────────────────────────\n",
    "    REAL_DIR = PROJECT_ROOT / \"data\" / \"real\"\n",
    "    ProcessRealAcerDir  = PROJECT_ROOT / \"processed\" / \"real\" / \"acer\"\n",
    "    ProcessRealNatureDir = PROJECT_ROOT / \"processed\" / \"real\" / \"nature\"\n",
    "    for d in (ProcessRealAcerDir, ProcessRealNatureDir):\n",
    "        d.mkdir(parents=True, exist_ok=True)\n",
    "\n",
    "    # ─── 4) Runs output ───────────────────────────────────────────────────\n",
    "    RUNS_DIR = PROJECT_ROOT / \"runs\"\n",
    "    RUNS_DIR.mkdir(exist_ok=True)\n",
    "\n",
    "    # ─── 5) Fake için çalıştır ────────────────────────────────────────────\n",
    "    for date in FAKE_DATES:\n",
    "        input_pattern = str(PARQUET_ROOT / f\"date={date}\" / \"*.parquet\")\n",
    "        output_csv    = ProcessFakeDir / f\"{date}-processed.csv\"\n",
    "\n",
    "        for nb in NOTEBOOKS:\n",
    "            out_nb = RUNS_DIR / f\"fake_{date}_{nb}\"\n",
    "            log.info(f\"→ Fake {date}: running {nb}\")\n",
    "            pm.execute_notebook(\n",
    "                input_path = PROJECT_ROOT / nb,\n",
    "                output_path= out_nb,\n",
    "                parameters = {\n",
    "                    \"mode\": \"fake\",\n",
    "                    \"input_path\": input_pattern,\n",
    "                    \"output_path\": str(output_csv)\n",
    "                }\n",
    "            )\n",
    "        log.info(f\"✅ Fake {date} done; output → {output_csv}\")\n",
    "\n",
    "    # ─── 6) Real için çalıştır ────────────────────────────────────────────\n",
    "    for csv_path in sorted(REAL_DIR.glob(\"km_stat_*.csv\")):\n",
    "        stem   = csv_path.stem           # e.g. \"km_stat_acer_20250421\"\n",
    "        parts  = stem.split(\"_\")         # [\"km\",\"stat\",\"acer\",\"20250421\"]\n",
    "        prefix = parts[2]                # \"acer\" veya \"nature\"\n",
    "        date   = parts[3]                # \"20250421\"\n",
    "        output_csv = (\n",
    "            ProcessRealAcerDir if prefix==\"acer\" else ProcessRealNatureDir\n",
    "        ) / f\"{date}-processed.csv\"\n",
    "\n",
    "        for nb in NOTEBOOKS:\n",
    "            out_nb = RUNS_DIR / f\"real_{prefix}_{date}_{nb}\"\n",
    "            log.info(f\"→ Real {prefix} {date}: running {nb}\")\n",
    "            pm.execute_notebook(\n",
    "                input_path = PROJECT_ROOT / nb,\n",
    "                output_path= out_nb,\n",
    "                parameters = {\n",
    "                    \"mode\": \"real\",\n",
    "                    \"input_path\": str(csv_path),\n",
    "                    \"output_path\": str(output_csv)\n",
    "                }\n",
    "            )\n",
    "        log.info(f\"✅ Real {prefix} {date} done; output → {output_csv}\")\n",
    "\n",
    "if __name__ == \"__main__\":\n",
    "    main()\n"
   ]
  },
  {
   "cell_type": "code",
   "execution_count": null,
   "id": "c8b6f320",
   "metadata": {},
   "outputs": [],
   "source": [
    "# 1) Directional Changes\n",
    "%run calculate_direction.ipynb"
   ]
  },
  {
   "cell_type": "code",
   "execution_count": null,
   "id": "28418048",
   "metadata": {},
   "outputs": [],
   "source": [
    "# 2) Bounding Box\n",
    "%run bounding_box.ipynb"
   ]
  },
  {
   "cell_type": "code",
   "execution_count": null,
   "id": "7d979112",
   "metadata": {},
   "outputs": [],
   "source": [
    "# 3) Average Speed\n",
    "%run compute_avg_speed_math.ipynb"
   ]
  },
  {
   "cell_type": "code",
   "execution_count": null,
   "id": "c98c5fab",
   "metadata": {},
   "outputs": [],
   "source": [
    "# 4) Average Acceleration\n",
    "%run compute_avg_acceleration.ipynb"
   ]
  },
  {
   "cell_type": "code",
   "execution_count": null,
   "id": "daafe3f6",
   "metadata": {},
   "outputs": [],
   "source": [
    "# 5) Mouse Idle Ratio & Entropy\n",
    "%run compute_idle_entropy_fixed2.ipynb"
   ]
  },
  {
   "cell_type": "code",
   "execution_count": null,
   "id": "a6b35b9a",
   "metadata": {},
   "outputs": [],
   "source": [
    "# 6) Linearity\n",
    "%run compute_linearity_manual.ipynb"
   ]
  },
  {
   "cell_type": "code",
   "execution_count": null,
   "id": "de07085e",
   "metadata": {},
   "outputs": [],
   "source": [
    "# Tamamlandı! \n",
    "print(\"Tüm feature engineering adımları tamamlandı. Ana CSV dosyalarına eklenen sütunları kontrol edin.\")"
   ]
  }
 ],
 "metadata": {
  "kernelspec": {
   "display_name": "ai-demo",
   "language": "python",
   "name": "ai-demo"
  },
  "language_info": {
   "codemirror_mode": {
    "name": "ipython",
    "version": 3
   },
   "file_extension": ".py",
   "mimetype": "text/x-python",
   "name": "python",
   "nbconvert_exporter": "python",
   "pygments_lexer": "ipython3",
   "version": "3.12.7"
  }
 },
 "nbformat": 4,
 "nbformat_minor": 5
}
