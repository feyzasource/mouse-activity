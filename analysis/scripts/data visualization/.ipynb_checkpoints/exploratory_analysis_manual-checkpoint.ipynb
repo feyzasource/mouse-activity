{
 "cells": [
  {
   "cell_type": "markdown",
   "id": "f9f6c19b",
   "metadata": {},
   "source": [
    "# Exploratory Analysis by Time Segment (Manual Path)\n",
    "1. Update `input_path` to point to your CSV file.\n",
    "2. Run all cells to assign time segments and visualize feature trends."
   ]
  },
  {
   "cell_type": "code",
   "execution_count": null,
   "id": "06191900",
   "metadata": {},
   "outputs": [],
   "source": [
    "import pandas as pd\n",
    "import matplotlib.pyplot as plt\n",
    "from pathlib import Path\n",
    "\n",
    "# 1) Set your CSV file path here and update if needed:\n",
    "input_path = Path(r\"C:\\path\\to\\your\\data.csv\")\n",
    "\n",
    "# 2) Read data with x, y parsed, and parse datetime columns\n",
    "df = pd.read_csv(\n",
    "    input_path,\n",
    "    converters={\"x\": pd.eval, \"y\": pd.eval},\n",
    "    parse_dates=[\"start_date_time\", \"end_date_time\"]\n",
    ")\n",
    "print(\"Loaded CSV from:\", input_path)\n",
    "print(\"Total rows:\", len(df))"
   ]
  },
  {
   "cell_type": "code",
   "execution_count": null,
   "id": "f3598fa9",
   "metadata": {},
   "outputs": [],
   "source": [
    "# 3) Define time segments based on your specified intervals\n",
    "def time_segment(ts):\n",
    "    h = ts.hour + ts.minute/60\n",
    "    if 8.5  <= h < 10:    return \"morning_start\"    # 08:30–10:00\n",
    "    if 11   <= h < 12.5:  return \"pre_lunch\"        # 11:00–12:30\n",
    "    if 13.5 <= h < 15.5:  return \"post_lunch\"       # 13:30–15:30\n",
    "    if 15.5 <= h < 17:    return \"afternoon_peak\"   # 15:30–17:00\n",
    "    if 17   <= h < 17.5:  return \"end_of_day\"       # 17:00–17:30\n",
    "    return \"other\"\n",
    "\n",
    "df[\"segment\"] = df[\"start_date_time\"].map(time_segment)\n",
    "print(\"Segments assigned. Unique segments:\", df[\"segment\"].unique())"
   ]
  },
  {
   "cell_type": "code",
   "execution_count": null,
   "id": "13c07b27",
   "metadata": {},
   "outputs": [],
   "source": [
    "# 4) Filter data for a single user (update profile_guid if needed)\n",
    "user_id = \"013d5cac-f09d-48a5-bff1-00d81c91b017\"  # replace with your profile_guid\n",
    "df_user = df[df[\"profile_guid\"] == user_id].copy()\n",
    "print(\"Filtered for user:\", user_id, \"Rows:\", len(df_user))"
   ]
  },
  {
   "cell_type": "code",
   "execution_count": null,
   "id": "454f8c0c",
   "metadata": {},
   "outputs": [],
   "source": [
    "# 5) Summarize features by date and segment\n",
    "features = [\"avg_speed\",\"avg_acceleration\",\"mouse_idle_ratio\",\"movement_entropy\",\"linearity\"]\n",
    "summary = (\n",
    "    df_user\n",
    "    .groupby([\"date\",\"segment\"])[features]\n",
    "    .mean()\n",
    "    .reset_index()\n",
    ")\n",
    "print(\"Summary DataFrame:\")\n",
    "display(summary.head())"
   ]
  },
  {
   "cell_type": "code",
   "execution_count": null,
   "id": "5965cf5a",
   "metadata": {},
   "outputs": [],
   "source": [
    "# 6) Time series plots for each feature\n",
    "for feat in features:\n",
    "    plt.figure(figsize=(8,3))\n",
    "    for seg in [\"morning_start\",\"pre_lunch\",\"post_lunch\",\"afternoon_peak\",\"end_of_day\"]:\n",
    "        sub = summary[summary[\"segment\"]==seg]\n",
    "        plt.plot(sub[\"date\"], sub[feat], marker=\"o\", label=seg)\n",
    "    plt.title(f\"{feat} by Segment Over Days\")\n",
    "    plt.xlabel(\"Date\")\n",
    "    plt.ylabel(feat)\n",
    "    plt.legend(loc=\"best\", fontsize=\"small\")\n",
    "    plt.tight_layout()\n",
    "    plt.show()"
   ]
  },
  {
   "cell_type": "code",
   "execution_count": null,
   "id": "2fb1db84",
   "metadata": {},
   "outputs": [],
   "source": [
    "# 7) Boxplots for each feature across segments\n",
    "fig, axes = plt.subplots(1, len(features), figsize=(4*len(features),4))\n",
    "segs = [\"morning_start\",\"pre_lunch\",\"post_lunch\",\"afternoon_peak\",\"end_of_day\"]\n",
    "for ax, feat in zip(axes, features):\n",
    "    data = [df_user[df_user[\"segment\"]==s][feat] for s in segs]\n",
    "    ax.boxplot(data, labels=[\"MS\",\"PL\",\"PS\",\"AP\",\"ED\"])\n",
    "    ax.set_title(feat)\n",
    "plt.tight_layout()\n",
    "plt.show()"
   ]
  }
 ],
 "metadata": {},
 "nbformat": 4,
 "nbformat_minor": 5
}
