{
 "cells": [
  {
   "cell_type": "markdown",
   "id": "37d62276",
   "metadata": {},
   "source": [
    "# Manual Multi-Day CSV Loading and Analysis\n",
    "Specify your list of CSV file paths (one per day) in `csv_paths`, then run all cells."
   ]
  },
  {
   "cell_type": "code",
   "execution_count": null,
   "id": "f219b94a",
   "metadata": {},
   "outputs": [],
   "source": [
    "import pandas as pd\n",
    "import ast\n",
    "from pathlib import Path\n",
    "\n",
    "# 1) Manually list your 5 daily CSV file paths here:\n",
    "csv_paths = [\n",
    "    Path(r\"C:\\store\\git\\km-stat-activity\\data\\real\\day1.csv\"),\n",
    "    Path(r\"C:\\store\\git\\km-stat-activity\\data\\real\\day2.csv\"),\n",
    "    Path(r\"C:\\store\\git\\km-stat-activity\\data\\real\\day3.csv\"),\n",
    "    Path(r\"C:\\store\\git\\km-stat-activity\\data\\real\\day4.csv\"),\n",
    "    Path(r\"C:\\store\\git\\km-stat-activity\\data\\real\\day5.csv\"),\n",
    "]\n",
    "\n",
    "# 2) Read, parse x/y lists and dates for each day\n",
    "dfs = []\n",
    "for path in csv_paths:\n",
    "    df = pd.read_csv(\n",
    "        path,\n",
    "        converters={\n",
    "            \"x\": lambda s: ast.literal_eval(s) if isinstance(s, str) else [],\n",
    "            \"y\": lambda s: ast.literal_eval(s) if isinstance(s, str) else []\n",
    "        },\n",
    "        parse_dates=[\"start_date_time\", \"end_date_time\"]\n",
    "    )\n",
    "    # Ensure a 'date' column exists\n",
    "    if \"date\" not in df.columns:\n",
    "        df[\"date\"] = df[\"start_date_time\"].dt.date\n",
    "    else:\n",
    "        df[\"date\"] = pd.to_datetime(df[\"date\"]).dt.date\n",
    "    dfs.append(df)\n",
    "\n",
    "# 3) Concatenate all days into one DataFrame\n",
    "df_all = pd.concat(dfs, ignore_index=True)\n",
    "print(f\"Loaded and concatenated {len(dfs)} files. Total rows: {len(df_all)}\")"
   ]
  },
  {
   "cell_type": "code",
   "execution_count": null,
   "id": "fb0f09b3",
   "metadata": {},
   "outputs": [],
   "source": [
    "# 4) Define time segments (08:30-10:00, 11:00-12:30, 13:30-15:30, 15:30-17:00, 17:00-17:30)\n",
    "def time_segment(ts):\n",
    "    h = ts.hour + ts.minute/60\n",
    "    if 8.5  <= h < 10:    return \"morning_start\"\n",
    "    if 11   <= h < 12.5:  return \"pre_lunch\"\n",
    "    if 13.5 <= h < 15.5:  return \"post_lunch\"\n",
    "    if 15.5 <= h < 17:    return \"afternoon_peak\"\n",
    "    if 17   <= h < 17.5:  return \"end_of_day\"\n",
    "    return \"other\"\n",
    "\n",
    "df_all[\"segment\"] = df_all[\"start_date_time\"].map(time_segment)\n",
    "print(\"Segments assigned. Unique segments:\", df_all[\"segment\"].unique())"
   ]
  },
  {
   "cell_type": "code",
   "execution_count": null,
   "id": "fda0be3c",
   "metadata": {},
   "outputs": [],
   "source": [
    "# 5) Example: summarize avg_speed by date and segment for a single user\n",
    "user_id = \"013d5cac-f09d-48a5-bff1-00d81c91b017\"  # Replace with desired profile_guid\n",
    "df_user = df_all[df_all[\"profile_guid\"] == user_id]\n",
    "features = [\"avg_speed\", \"avg_acceleration\", \"mouse_idle_ratio\", \"movement_entropy\", \"linearity\"]\n",
    "summary = df_user.groupby([\"date\", \"segment\"])[features].mean().reset_index()\n",
    "display(summary)"
   ]
  }
 ],
 "metadata": {},
 "nbformat": 4,
 "nbformat_minor": 5
}
