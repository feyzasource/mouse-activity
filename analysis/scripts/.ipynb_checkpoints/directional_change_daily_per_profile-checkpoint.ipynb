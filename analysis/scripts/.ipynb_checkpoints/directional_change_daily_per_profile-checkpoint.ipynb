{
 "cells": [
  {
   "cell_type": "markdown",
   "id": "d1bcabc2",
   "metadata": {},
   "source": [
    "# 1 Günlük Yönsel Değişim Grafiği\n",
    "Bu notebook, belirli bir kullanıcıya (profile_guid) ait 1 günlük veriyi kullanarak her dakikadaki yönsel değişimi (total_x ve total_y ile) çizer."
   ]
  },
  {
   "cell_type": "code",
   "execution_count": null,
   "id": "87953235",
   "metadata": {},
   "outputs": [],
   "source": [
    "\n",
    "import pandas as pd\n",
    "import numpy as np\n",
    "import matplotlib.pyplot as plt\n",
    "\n",
    "# CSV dosyasını buraya girin\n",
    "csv_path = \"C:/store/git/km-stat-activity/data/real/real_activity_log.csv\"\n",
    "df = pd.read_csv(csv_path)\n",
    "\n",
    "# Zamanı datetime formatına çevir\n",
    "df['start_date_time'] = pd.to_datetime(df['start_date_time'])\n",
    "\n",
    "# Belirli bir profile_guid'e ait veriyi filtrele\n",
    "target_guid = \"002e8f20-d5c2-4153-b1d0-9e1332549ac6\"  # Burayı değiştirerek farklı kullanıcı seçebilirsin\n",
    "df = df[df['profile_guid'] == target_guid]\n",
    "\n",
    "# Tarihe göre sırala\n",
    "df = df.sort_values('start_date_time')\n",
    "\n",
    "# Yönsel değişimi hesapla: √(x² + y²)\n",
    "df['delta_distance'] = np.sqrt(df['total_x']**2 + df['total_y']**2)\n",
    "\n",
    "# Grafik çiz\n",
    "plt.figure(figsize=(14, 6))\n",
    "plt.plot(df['start_date_time'], df['delta_distance'], label='Directional Change (ΔXY)', color='green')\n",
    "plt.xlabel(\"Time\")\n",
    "plt.ylabel(\"Directional Change (pixels)\")\n",
    "plt.title(\"1 Günlük Yönsel Değişim (Dakika Dakika)\")\n",
    "plt.grid(True)\n",
    "plt.legend()\n",
    "plt.xticks(rotation=45)\n",
    "plt.tight_layout()\n",
    "plt.show()\n"
   ]
  }
 ],
 "metadata": {},
 "nbformat": 4,
 "nbformat_minor": 5
}
