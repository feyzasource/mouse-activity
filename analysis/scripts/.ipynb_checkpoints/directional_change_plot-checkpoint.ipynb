{
 "cells": [
  {
   "cell_type": "markdown",
   "id": "9b3186e3",
   "metadata": {},
   "source": [
    "# Directional Change Analysis\n",
    "This notebook computes and plots the directional (Euclidean) change from mouse movements."
   ]
  },
  {
   "cell_type": "code",
   "execution_count": null,
   "id": "36710c7f",
   "metadata": {},
   "outputs": [],
   "source": [
    "\n",
    "import pandas as pd\n",
    "import numpy as np\n",
    "import matplotlib.pyplot as plt\n",
    "\n",
    "# Load your CSV here\n",
    "csv_path = \"C:/store/git/km-stat-activity/data/real/real_activity_log.csv\"\n",
    "df = pd.read_csv(csv_path)\n",
    "\n",
    "# Parse timestamps\n",
    "df['start_date_time'] = pd.to_datetime(df['start_date_time'])\n",
    "\n",
    "# Sort by time\n",
    "df = df.sort_values('start_date_time')\n",
    "\n",
    "# Calculate directional change (Euclidean distance)\n",
    "df['delta_distance'] = np.sqrt(df['delta_x']**2 + df['delta_y']**2)\n",
    "\n",
    "# Resample to minute-by-minute total movement\n",
    "df_minute = df.set_index('start_date_time').resample('1min')['delta_distance'].sum().reset_index()\n",
    "\n",
    "# Plot\n",
    "plt.figure(figsize=(14, 6))\n",
    "plt.plot(df_minute['start_date_time'], df_minute['delta_distance'], label='Directional Change (ΔXY)', color='green')\n",
    "plt.xlabel(\"Time\")\n",
    "plt.ylabel(\"Directional Change (pixels)\")\n",
    "plt.title(\"Directional Change over Time (per Minute)\")\n",
    "plt.grid(True)\n",
    "plt.legend()\n",
    "plt.xticks(rotation=45)\n",
    "plt.tight_layout()\n",
    "plt.show()\n"
   ]
  }
 ],
 "metadata": {},
 "nbformat": 4,
 "nbformat_minor": 5
}
