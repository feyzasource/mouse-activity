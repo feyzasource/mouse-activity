{
 "cells": [
  {
   "cell_type": "markdown",
   "id": "7df7e33f",
   "metadata": {},
   "source": [
    "# Mouse Speed Analysis\n",
    "This notebook analyzes the mouse activity data from a real log file.\n",
    "It focuses on one specific profile GUID and calculates the average mouse speed per minute."
   ]
  },
  {
   "cell_type": "code",
   "execution_count": null,
   "id": "e5d50f8a",
   "metadata": {},
   "outputs": [],
   "source": [
    "import pandas as pd\n",
    "import matplotlib.pyplot as plt\n",
    "import numpy as np\n",
    "from datetime import datetime\n",
    "import seaborn as sns\n",
    "sns.set(style='whitegrid')"
   ]
  },
  {
   "cell_type": "code",
   "execution_count": null,
   "id": "8bf2bb7f",
   "metadata": {},
   "outputs": [],
   "source": [
    "# Replace with the correct file path if needed\n",
    "file_path = 'real_activity_log.csv'\n",
    "df = pd.read_csv(file_path)\n",
    "df.head()"
   ]
  },
  {
   "cell_type": "code",
   "execution_count": null,
   "id": "1935b320",
   "metadata": {},
   "outputs": [],
   "source": [
    "profile_guid = '002e8f20-d5c2-4153-b1d0-9e1332549ac6'\n",
    "df = df[df['profile_guid'] == profile_guid]\n",
    "df['start_date_time'] = pd.to_datetime(df['start_date_time'])"
   ]
  },
  {
   "cell_type": "code",
   "execution_count": null,
   "id": "06d244bb",
   "metadata": {},
   "outputs": [],
   "source": [
    "df['total_distance'] = np.sqrt(df['total_x']**2 + df['total_y']**2)\n",
    "df['minute'] = df['start_date_time'].dt.hour * 60 + df['start_date_time'].dt.minute\n",
    "speed_per_minute = df.groupby('minute')['total_distance'].mean().reset_index()"
   ]
  },
  {
   "cell_type": "code",
   "execution_count": null,
   "id": "8526efd6",
   "metadata": {},
   "outputs": [],
   "source": [
    "plt.figure(figsize=(12, 6))\n",
    "plt.plot(speed_per_minute['minute'], speed_per_minute['total_distance'], marker='o')\n",
    "plt.title('Average Mouse Speed Per Minute')\n",
    "plt.xlabel('Minute of the Day')\n",
    "plt.ylabel('Average Mouse Distance (pixels)')\n",
    "plt.xticks(np.arange(480, 960, 30))\n",
    "plt.grid(True)\n",
    "plt.show()"
   ]
  }
 ],
 "metadata": {},
 "nbformat": 4,
 "nbformat_minor": 5
}
