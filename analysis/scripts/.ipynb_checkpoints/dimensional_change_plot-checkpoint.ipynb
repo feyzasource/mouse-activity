{
 "cells": [
  {
   "cell_type": "code",
   "execution_count": null,
   "id": "1e814772",
   "metadata": {},
   "outputs": [],
   "source": [
    "import pandas as pd\n",
    "import numpy as np\n",
    "import matplotlib.pyplot as plt\n",
    "from datetime import datetime\n",
    "from math import sqrt\n",
    "\n",
    "plt.rcParams['figure.figsize'] = (12, 6)\n"
   ]
  },
  {
   "cell_type": "code",
   "execution_count": null,
   "id": "8d926045",
   "metadata": {},
   "outputs": [],
   "source": [
    "# Load data\n",
    "file_path = \"real_activity_log.csv\"\n",
    "df = pd.read_csv(file_path)\n",
    "\n",
    "# Convert datetime\n",
    "df['start_date_time'] = pd.to_datetime(df['start_date_time'])\n",
    "df['end_date_time'] = pd.to_datetime(df['end_date_time'])\n",
    "\n",
    "# Filter by profile_guid\n",
    "profile_guid = '002e8f20-d5c2-4153-b1d0-9e1332549ac6'\n",
    "df = df[df['profile_guid'] == profile_guid].copy()\n",
    "df = df.sort_values('start_date_time')\n",
    "df.reset_index(drop=True, inplace=True)\n",
    "\n",
    "# Show sample\n",
    "df[['start_date_time', 'x', 'y']].head()\n"
   ]
  },
  {
   "cell_type": "code",
   "execution_count": null,
   "id": "9030cf8d",
   "metadata": {},
   "outputs": [],
   "source": [
    "# Function to compute dimensional change (ΔX and ΔY)\n",
    "def compute_dimensional_change(coord_list):\n",
    "    if not isinstance(coord_list, str) or not coord_list.startswith(\"{\"):\n",
    "        return 0\n",
    "    try:\n",
    "        values = list(map(int, coord_list.strip(\"{}\").split(\",\")))\n",
    "        if len(values) < 2:\n",
    "            return 0\n",
    "        delta_x = values[-1] - values[0]\n",
    "        return delta_x\n",
    "    except:\n",
    "        return 0\n",
    "\n",
    "df['delta_x'] = df['x'].apply(compute_dimensional_change)\n",
    "df['delta_y'] = df['y'].apply(lambda y: compute_dimensional_change(y))\n",
    "\n",
    "# Plot\n",
    "plt.plot(df['start_date_time'], df['delta_x'], label='ΔX', marker='o')\n",
    "plt.plot(df['start_date_time'], df['delta_y'], label='ΔY', marker='x')\n",
    "plt.xlabel('Time')\n",
    "plt.ylabel('Dimensional Change (pixels)')\n",
    "plt.title('Dimensional Change over Time')\n",
    "plt.legend()\n",
    "plt.grid(True)\n",
    "plt.show()\n"
   ]
  }
 ],
 "metadata": {},
 "nbformat": 4,
 "nbformat_minor": 5
}
