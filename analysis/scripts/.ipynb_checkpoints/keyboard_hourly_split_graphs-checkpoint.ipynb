{
 "cells": [
  {
   "cell_type": "code",
   "execution_count": null,
   "id": "8892ce0e",
   "metadata": {},
   "outputs": [],
   "source": [
    "\n",
    "import pandas as pd\n",
    "import matplotlib.pyplot as plt\n",
    "\n",
    "# KENDİ CSV DOSYA YOLUNU BURAYA GİR\n",
    "csv_path = \"C:/path/to/your/real_activity_log.csv\"\n",
    "\n",
    "# CSV'yi yükle\n",
    "df = pd.read_csv(csv_path)\n",
    "\n",
    "# Zaman verisini işle\n",
    "df[\"start_date_time\"] = pd.to_datetime(df[\"start_date_time\"], errors=\"coerce\")\n",
    "df = df[df[\"start_date_time\"].notna()]\n",
    "df[\"hour\"] = df[\"start_date_time\"].dt.floor(\"H\")\n",
    "\n",
    "# Her saat için ayrı grafik çiz\n",
    "unique_hours = df[\"hour\"].sort_values().unique()\n",
    "\n",
    "for hour in unique_hours:\n",
    "    df_hour = df[df[\"hour\"] == hour]\n",
    "    total_key_down = df_hour[\"key_down\"].sum()\n",
    "    total_key_up = df_hour[\"key_up\"].sum()\n",
    "\n",
    "    plt.figure(figsize=(6, 4))\n",
    "    plt.bar([\"key_down\", \"key_up\"], [total_key_down, total_key_up], color=[\"steelblue\", \"orange\"])\n",
    "    plt.title(f\"Tuş Aktivitesi: {hour}\")\n",
    "    plt.ylabel(\"Toplam Tuş Sayısı\")\n",
    "    plt.tight_layout()\n",
    "    plt.grid(axis='y')\n",
    "    plt.show()\n"
   ]
  }
 ],
 "metadata": {},
 "nbformat": 4,
 "nbformat_minor": 5
}
