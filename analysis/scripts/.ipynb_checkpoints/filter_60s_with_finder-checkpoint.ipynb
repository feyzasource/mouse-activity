{
 "cells": [
  {
   "cell_type": "markdown",
   "id": "2ee77a7d",
   "metadata": {},
   "source": [
    "# Filter 60s Intervals with File Finder\n",
    "1. List CSV files in your data directory.\n",
    "2. Set `input_path` to the correct file name from the list.\n",
    "3. Run filtering to keep only 60-second intervals, display dropped rows, and save a new CSV."
   ]
  },
  {
   "cell_type": "code",
   "execution_count": null,
   "id": "d7d71cd9",
   "metadata": {},
   "outputs": [],
   "source": [
    "import os\n",
    "from pathlib import Path\n",
    "\n",
    "# 1) Set your data directory here:\n",
    "data_dir = Path(r\"C:\\store\\git\\km-stat-activity\\data\\real\")\n",
    "print(\"Working directory:\", data_dir)\n",
    "print(\"CSV files found:\")\n",
    "for f in data_dir.glob(\"*.csv\"):\n",
    "    print(\" -\", f.name)"
   ]
  },
  {
   "cell_type": "code",
   "execution_count": null,
   "id": "9a383789",
   "metadata": {},
   "outputs": [],
   "source": [
    "import pandas as pd\n",
    "\n",
    "# 2) After checking the list above, set the exact file name:\n",
    "from pathlib import Path\n",
    "input_path = Path(r\"C:\\store\\git\\km-stat-activity\\data\\real\\YOUR_FILE_NAME.csv\")\n",
    "\n",
    "# 3) Read and filter durations\n",
    "df = pd.read_csv(\n",
    "    input_path,\n",
    "    parse_dates=[\"start_date_time\", \"end_date_time\"],\n",
    "    converters={\"x\": pd.eval, \"y\": pd.eval}\n",
    ")\n",
    "df[\"duration_s\"] = (df[\"end_date_time\"] - df[\"start_date_time\"]).dt.total_seconds()\n",
    "\n",
    "# 4) Display dropped rows\n",
    "dropped = df[df[\"duration_s\"] != 60]\n",
    "if not dropped.empty:\n",
    "    print(f\"Dropped {len(dropped)} rows:\")\n",
    "    display(dropped)\n",
    "else:\n",
    "    print(\"No rows dropped; all intervals are exactly 60 seconds.\")\n",
    "\n",
    "# 5) Keep only 60-second intervals\n",
    "df_clean = df[df[\"duration_s\"] == 60].drop(columns=\"duration_s\")\n",
    "\n",
    "# 6) Save to new CSV\n",
    "output_path = input_path.with_name(input_path.stem + \"_60s_intervals\" + input_path.suffix)\n",
    "df_clean.to_csv(output_path, index=False, encoding=\"utf-8-sig\")\n",
    "print(\"✅ Cleaned CSV saved to:\", output_path)"
   ]
  }
 ],
 "metadata": {},
 "nbformat": 4,
 "nbformat_minor": 5
}
