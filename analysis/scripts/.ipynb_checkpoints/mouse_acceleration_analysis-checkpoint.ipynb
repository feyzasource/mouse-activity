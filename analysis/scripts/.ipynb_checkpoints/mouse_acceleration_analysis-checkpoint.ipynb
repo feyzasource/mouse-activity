{
 "cells": [
  {
   "cell_type": "code",
   "execution_count": null,
   "metadata": {},
   "outputs": [],
   "source": [
    "import pandas as pd\n",
    "import numpy as np\n",
    "import matplotlib.pyplot as plt\n",
    "\n",
    "# CSV dosyasını oku\n",
    "file_path = \"C:/store/git/km-stat-activity/data/real/real_activity_log.csv\"\n",
    "df = pd.read_csv(file_path)\n",
    "\n",
    "# İncelenecek profile_guid\n",
    "target_profile = \"002e8f20-d5c2-4153-b1d0-9e1332549ac6\"\n",
    "\n",
    "# Sadece bu profile'a ait satırları al\n",
    "df = df[df['profile_guid'] == target_profile].copy()\n",
    "\n",
    "# Zaman kolonunu datetime'a çevir\n",
    "df[\"start_date_time\"] = pd.to_datetime(df[\"start_date_time\"])\n",
    "df.sort_values(\"start_date_time\", inplace=True)\n",
    "\n",
    "# Hız (speed) = mesafe / zaman, burada zaman sabit 1 dakika (60 saniye)\n",
    "df[\"distance\"] = np.sqrt(df[\"total_x\"]**2 + df[\"total_y\"]**2)\n",
    "df[\"speed\"] = df[\"distance\"] / 60  # px/s\n",
    "\n",
    "# İvme (acceleration) = hız değişimi / zaman (zaman yine sabit)\n",
    "df[\"acceleration\"] = df[\"speed\"].diff() / 60  # px/s²\n",
    "\n",
    "# NaN satırı ivme için oluşur (ilk fark), silebiliriz\n",
    "df.dropna(subset=[\"acceleration\"], inplace=True)\n",
    "\n",
    "# Grafik çizimi\n",
    "plt.figure(figsize=(14, 6))\n",
    "plt.plot(df[\"start_date_time\"], df[\"acceleration\"], marker='o', linestyle='-')\n",
    "plt.title(\"Mouse Movement Acceleration per Minute for One Day\")\n",
    "plt.xlabel(\"Time\")\n",
    "plt.ylabel(\"Acceleration (px/s²)\")\n",
    "plt.xticks(rotation=45)\n",
    "plt.grid(True)\n",
    "plt.tight_layout()\n",
    "plt.show()"
   ]
  }
 ],
 "metadata": {
  "kernelspec": {
   "display_name": "Python 3",
   "language": "python",
   "name": "python3"
  },
  "language_info": {
   "name": "python",
   "version": "3.x"
  }
 },
 "nbformat": 4,
 "nbformat_minor": 2
}
