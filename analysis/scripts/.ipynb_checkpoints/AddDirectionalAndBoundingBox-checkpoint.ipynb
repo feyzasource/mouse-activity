{
 "cells": [
  {
   "cell_type": "code",
   "execution_count": 2,
   "id": "95ee5003-4440-4501-a026-6b3c9715c75e",
   "metadata": {},
   "outputs": [
    {
     "name": "stdout",
     "output_type": "stream",
     "text": [
      "Hesaplamalar tamamlandı ve kaydedildi: C:\\store\\git\\km-stat-activity\\data\\real\\directional_bounding_box.csv\n"
     ]
    }
   ],
   "source": [
    "import pandas as pd\n",
    "import ast\n",
    "\n",
    "# Girdi / çıktı yolları\n",
    "in_path  = r\"C:\\store\\git\\km-stat-activity\\data\\real\\real_activity_array_converted.csv\"\n",
    "out_path = r\"C:\\store\\git\\km-stat-activity\\data\\real\\directional_bounding_box.csv\"\n",
    "\n",
    "# Güvenli listeye çevirme (köşeli parantezli string → Python list)\n",
    "def parse_list(s: str):\n",
    "    try:\n",
    "        return ast.literal_eval(s)\n",
    "    except Exception:\n",
    "        return []\n",
    "\n",
    "# Yön değişimlerini sayan fonksiyon\n",
    "def count_direction_changes(arr):\n",
    "    count = 0\n",
    "    # her üçlüde önceki fark ile mevcut farkın işaret değişimini kontrol et\n",
    "    for i in range(2, len(arr)):\n",
    "        diff1 = arr[i-1] - arr[i-2]\n",
    "        diff2 = arr[i]   - arr[i-1]\n",
    "        if diff1 * diff2 < 0:\n",
    "            count += 1\n",
    "    return count\n",
    "\n",
    "# Bounding box alanı hesaplama\n",
    "def bounding_box_area(x_arr, y_arr):\n",
    "    if not x_arr or not y_arr:\n",
    "        return 0\n",
    "    width  = max(x_arr) - min(x_arr)\n",
    "    height = max(y_arr) - min(y_arr)\n",
    "    return width * height\n",
    "\n",
    "# 1) CSV oku\n",
    "df = pd.read_csv(in_path, dtype={'x': str, 'y': str})\n",
    "\n",
    "# 2) x / y sütunlarını listeye dönüştür\n",
    "df['x_list'] = df['x'].apply(parse_list)\n",
    "df['y_list'] = df['y'].apply(parse_list)\n",
    "\n",
    "# 3) Yeni sütunları hesapla\n",
    "df['x_direction_changes']    = df['x_list'].apply(count_direction_changes)\n",
    "df['y_direction_changes']    = df['y_list'].apply(count_direction_changes)\n",
    "df['bounding_box_area']      = df.apply(lambda r: bounding_box_area(r['x_list'], r['y_list']), axis=1)\n",
    "\n",
    "# 4) Yardımcı list sütunlarını kaldır (isteğe bağlı)\n",
    "df = df.drop(columns=['x_list', 'y_list'])\n",
    "\n",
    "# 5) Sonucu kaydet\n",
    "df.to_csv(out_path, index=False, encoding='utf-8')\n",
    "\n",
    "print(f\"Hesaplamalar tamamlandı ve kaydedildi: {out_path}\")\n"
   ]
  }
 ],
 "metadata": {
  "kernelspec": {
   "display_name": "ai-demo",
   "language": "python",
   "name": "ai-demo"
  },
  "language_info": {
   "codemirror_mode": {
    "name": "ipython",
    "version": 3
   },
   "file_extension": ".py",
   "mimetype": "text/x-python",
   "name": "python",
   "nbconvert_exporter": "python",
   "pygments_lexer": "ipython3",
   "version": "3.12.7"
  }
 },
 "nbformat": 4,
 "nbformat_minor": 5
}
