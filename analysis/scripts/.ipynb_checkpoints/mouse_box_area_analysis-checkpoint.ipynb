{
 "cells": [
  {
   "cell_type": "code",
   "execution_count": null,
   "id": "38fabefd",
   "metadata": {},
   "outputs": [],
   "source": [
    "\n",
    "import pandas as pd\n",
    "import matplotlib.pyplot as plt\n",
    "\n",
    "# CSV dosyasını yükle (önce bu dosyayı aynı klasöre koymalısınız)\n",
    "df = pd.read_csv(\"real_activity_log.csv\")\n",
    "df[\"timestamp\"] = pd.to_datetime(df[\"timestamp\"])\n",
    "\n",
    "# Belirli profile_guid (örnek: aşağıdaki değeri kendi profilinizle değiştirin)\n",
    "profile_guid = \"002e8f20-d5c2-4153-b1d0-9e1332549ac6\"\n",
    "df = df[df[\"profile_guid\"] == profile_guid]\n",
    "\n",
    "# Dakika bazında zaman dilimini belirle\n",
    "df[\"minute\"] = df[\"timestamp\"].dt.floor(\"T\")\n",
    "\n",
    "# Bounding box alanını hesapla (her dakika için)\n",
    "area_per_minute = df.groupby(\"minute\").apply(\n",
    "    lambda group: (group[\"x\"].max() - group[\"x\"].min()) * (group[\"y\"].max() - group[\"y\"].min())\n",
    ").reset_index(name=\"box_area\")\n",
    "\n",
    "# Grafiği çiz\n",
    "plt.figure(figsize=(12, 6))\n",
    "plt.plot(area_per_minute[\"minute\"], area_per_minute[\"box_area\"], marker='o')\n",
    "plt.title(f\"Profile: {profile_guid}\\nBounding Box Area Per Minute\")\n",
    "plt.xlabel(\"Minute\")\n",
    "plt.ylabel(\"Box Area (pixels²)\")\n",
    "plt.xticks(rotation=45)\n",
    "plt.tight_layout()\n",
    "plt.show()\n"
   ]
  }
 ],
 "metadata": {},
 "nbformat": 4,
 "nbformat_minor": 5
}
